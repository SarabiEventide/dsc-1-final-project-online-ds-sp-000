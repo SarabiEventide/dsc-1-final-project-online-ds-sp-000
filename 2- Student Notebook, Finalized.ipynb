{
 "cells": [
  {
   "cell_type": "markdown",
   "metadata": {},
   "source": [
    "# Final Project Submission\n",
    "\n",
    "\n",
    "* Student name: Sarabi Eventide \n",
    "* Student pace:Self-Paced\n",
    "* Scheduled project review date/time: Monday, June 24th @ 2 PM MST\n",
    "* Instructor name:  Eli Thomas\n",
    "* Blog post URL: https://sarabieventide.github.io/set_it_and_forget_it_using_formulas_for_eda"
   ]
  },
  {
   "cell_type": "markdown",
   "metadata": {},
   "source": [
    "# Contents\n",
    "1. [Introduction](#introduction)\n",
    "2. [Obtaining the Data](#obtaining_the_data) \n",
    "    - [Beginning Questions](#beginning_questions)\n",
    "    - [Table Names](#table_names)\n",
    "3. [Scrubbing/Cleaning](#scrubbing)\n",
    "    - [Categorical Variables](#categorical_variables)\n",
    "    - [Outliers](#outliers)\n",
    "    - [Null Values](#null_values)\n",
    "4. [Exploring](#exploring) \n",
    "    - [How are the housing prices distributed?](#distribution)\n",
    "    - [How are the housing prices related to one another?](#collinearity)\n",
    "5. [Modeling](#modeling)\n",
    "    - [Normalizing the Data](#normalizing)\n",
    "    - [Ordinary Least Squares Regression](#ols)\n",
    "    - [Multiple Linear Regression via RFE](#RFE)\n",
    "6. [Conclusion](#conclusion)\n",
    "7. [Next Steps](#next_steps)\n"
   ]
  },
  {
   "cell_type": "markdown",
   "metadata": {},
   "source": [
    "# 1. <a id=\"introduction\">Introduction</a>"
   ]
  },
  {
   "cell_type": "markdown",
   "metadata": {},
   "source": [
    "In this notebook I'm exploring the King County housing data set and attempting to predict housing prices. King County includes the Seattle-Tacoma metropolitan area in Washington. Although my model uses multiple linear regression, I also use ordinary least squares and recursive feature elimination in my exploration.\n",
    "\n"
   ]
  },
  {
   "cell_type": "markdown",
   "metadata": {},
   "source": [
    "# 2. <a id=\"obtaining_the_data\">Obtaining the Data</a>"
   ]
  },
  {
   "cell_type": "markdown",
   "metadata": {},
   "source": [
    "<a id = \"beginning_questions\"> </a>\n",
    "Before making any decisions about the data, we must define the scope of this data analysis. In order to do so, I shall consider the following questions:\n",
    "1. Who are the stakeholders in this problem?\n",
    "    - The stakeholders are Kings County real estate developers. Although they may not have in-depth knowledge of statistical analysis, they are familiar with market behavior and trends.\n",
    "2. What do they want to know?\n",
    "    - They want to be able to predict a the price of a house. In order to do this, we need to know how location, size, age and other factors affect the price and create models for these variables. \n",
    "3. What data is available to me?\n",
    "    - I have a set of data containing information about the size, rooms, location, age, renovation and quality of the houses.\n",
    "4. What tools will aid in completing the project?\n",
    "    - In addition to using standard packages such as pandas, numpy, seaborn, matplotlib, scipi and sklearn, we will most likely create our projects using simple linear regression or multiple linear regression. "
   ]
  },
  {
   "cell_type": "markdown",
   "metadata": {},
   "source": [
    "This is the information I have available to me for this analysis: <a id=\"table_names\"></a> \n",
    " - **id**- A notation for a house\n",
    " - **date** - Date house was sold\n",
    " - **price** - Price is prediction target\n",
    " - **bedrooms** Number of Bedrooms/House\n",
    " - **bathrooms** - Number of bathrooms/bedrooms\n",
    " - **sqft_living** - Square footage of the home\n",
    " - **sqft_lot** - Square footage of the lot\n",
    " - **floors** - Total floors (levels) in house\n",
    " - **waterfront** - House which has a view to a waterfront\n",
    " - **view** - Has been viewed\n",
    " - **condition** - How good the condition is ( Overall )\n",
    " - **grade** - Overall grade given to the housing unit, based on King County grading system\n",
    " - **sqft_above** - square footage of house apart from basement\n",
    " - **sqft_basement** - square footage of the basement\n",
    " - **yr_built** - Built Year\n",
    " - **yr_renovated** - Year when house was renovated\n",
    " - **zipcode** - Zipcode\n",
    " - **lat** - Latitude coordinate\n",
    " - **long** - Longitude coordinate\n",
    " - **sqft_living15** - Living room area in 2015 (implies-- some renovations) This might or might not have affected the lotsize area\n",
    " - **sqft_lot15** - Lot size area in 2015 (implies-- some renovations)"
   ]
  },
  {
   "cell_type": "markdown",
   "metadata": {},
   "source": [
    "To begin my data collection phase, I need to import a few libraries that will make it easier to work with the files. "
   ]
  },
  {
   "cell_type": "code",
   "execution_count": 1,
   "metadata": {},
   "outputs": [],
   "source": [
    "import pandas as pd # helps manipulate CSV files\n",
    "import numpy as np  # helps with number crunching\n",
    "import seaborn as sns # provides extra styling and functionality when visualizing\n",
    "import matplotlib.pyplot as plt  # helps with visualizing\n",
    "%matplotlib inline\n",
    "\n",
    "\n",
    "import warnings\n",
    "warnings.filterwarnings('ignore') "
   ]
  },
  {
   "cell_type": "code",
   "execution_count": 2,
   "metadata": {},
   "outputs": [
    {
     "data": {
      "text/html": [
       "<div>\n",
       "<style scoped>\n",
       "    .dataframe tbody tr th:only-of-type {\n",
       "        vertical-align: middle;\n",
       "    }\n",
       "\n",
       "    .dataframe tbody tr th {\n",
       "        vertical-align: top;\n",
       "    }\n",
       "\n",
       "    .dataframe thead th {\n",
       "        text-align: right;\n",
       "    }\n",
       "</style>\n",
       "<table border=\"1\" class=\"dataframe\">\n",
       "  <thead>\n",
       "    <tr style=\"text-align: right;\">\n",
       "      <th></th>\n",
       "      <th>id</th>\n",
       "      <th>date</th>\n",
       "      <th>price</th>\n",
       "      <th>bedrooms</th>\n",
       "      <th>bathrooms</th>\n",
       "      <th>sqft_living</th>\n",
       "      <th>sqft_lot</th>\n",
       "      <th>floors</th>\n",
       "      <th>waterfront</th>\n",
       "      <th>view</th>\n",
       "      <th>...</th>\n",
       "      <th>grade</th>\n",
       "      <th>sqft_above</th>\n",
       "      <th>sqft_basement</th>\n",
       "      <th>yr_built</th>\n",
       "      <th>yr_renovated</th>\n",
       "      <th>zipcode</th>\n",
       "      <th>lat</th>\n",
       "      <th>long</th>\n",
       "      <th>sqft_living15</th>\n",
       "      <th>sqft_lot15</th>\n",
       "    </tr>\n",
       "  </thead>\n",
       "  <tbody>\n",
       "    <tr>\n",
       "      <th>0</th>\n",
       "      <td>7129300520</td>\n",
       "      <td>10/13/2014</td>\n",
       "      <td>221900.0</td>\n",
       "      <td>3</td>\n",
       "      <td>1.00</td>\n",
       "      <td>1180</td>\n",
       "      <td>5650</td>\n",
       "      <td>1.0</td>\n",
       "      <td>NaN</td>\n",
       "      <td>0.0</td>\n",
       "      <td>...</td>\n",
       "      <td>7</td>\n",
       "      <td>1180</td>\n",
       "      <td>0.0</td>\n",
       "      <td>1955</td>\n",
       "      <td>0.0</td>\n",
       "      <td>98178</td>\n",
       "      <td>47.5112</td>\n",
       "      <td>-122.257</td>\n",
       "      <td>1340</td>\n",
       "      <td>5650</td>\n",
       "    </tr>\n",
       "    <tr>\n",
       "      <th>1</th>\n",
       "      <td>6414100192</td>\n",
       "      <td>12/9/2014</td>\n",
       "      <td>538000.0</td>\n",
       "      <td>3</td>\n",
       "      <td>2.25</td>\n",
       "      <td>2570</td>\n",
       "      <td>7242</td>\n",
       "      <td>2.0</td>\n",
       "      <td>0.0</td>\n",
       "      <td>0.0</td>\n",
       "      <td>...</td>\n",
       "      <td>7</td>\n",
       "      <td>2170</td>\n",
       "      <td>400.0</td>\n",
       "      <td>1951</td>\n",
       "      <td>1991.0</td>\n",
       "      <td>98125</td>\n",
       "      <td>47.7210</td>\n",
       "      <td>-122.319</td>\n",
       "      <td>1690</td>\n",
       "      <td>7639</td>\n",
       "    </tr>\n",
       "    <tr>\n",
       "      <th>2</th>\n",
       "      <td>5631500400</td>\n",
       "      <td>2/25/2015</td>\n",
       "      <td>180000.0</td>\n",
       "      <td>2</td>\n",
       "      <td>1.00</td>\n",
       "      <td>770</td>\n",
       "      <td>10000</td>\n",
       "      <td>1.0</td>\n",
       "      <td>0.0</td>\n",
       "      <td>0.0</td>\n",
       "      <td>...</td>\n",
       "      <td>6</td>\n",
       "      <td>770</td>\n",
       "      <td>0.0</td>\n",
       "      <td>1933</td>\n",
       "      <td>NaN</td>\n",
       "      <td>98028</td>\n",
       "      <td>47.7379</td>\n",
       "      <td>-122.233</td>\n",
       "      <td>2720</td>\n",
       "      <td>8062</td>\n",
       "    </tr>\n",
       "    <tr>\n",
       "      <th>3</th>\n",
       "      <td>2487200875</td>\n",
       "      <td>12/9/2014</td>\n",
       "      <td>604000.0</td>\n",
       "      <td>4</td>\n",
       "      <td>3.00</td>\n",
       "      <td>1960</td>\n",
       "      <td>5000</td>\n",
       "      <td>1.0</td>\n",
       "      <td>0.0</td>\n",
       "      <td>0.0</td>\n",
       "      <td>...</td>\n",
       "      <td>7</td>\n",
       "      <td>1050</td>\n",
       "      <td>910.0</td>\n",
       "      <td>1965</td>\n",
       "      <td>0.0</td>\n",
       "      <td>98136</td>\n",
       "      <td>47.5208</td>\n",
       "      <td>-122.393</td>\n",
       "      <td>1360</td>\n",
       "      <td>5000</td>\n",
       "    </tr>\n",
       "    <tr>\n",
       "      <th>4</th>\n",
       "      <td>1954400510</td>\n",
       "      <td>2/18/2015</td>\n",
       "      <td>510000.0</td>\n",
       "      <td>3</td>\n",
       "      <td>2.00</td>\n",
       "      <td>1680</td>\n",
       "      <td>8080</td>\n",
       "      <td>1.0</td>\n",
       "      <td>0.0</td>\n",
       "      <td>0.0</td>\n",
       "      <td>...</td>\n",
       "      <td>8</td>\n",
       "      <td>1680</td>\n",
       "      <td>0.0</td>\n",
       "      <td>1987</td>\n",
       "      <td>0.0</td>\n",
       "      <td>98074</td>\n",
       "      <td>47.6168</td>\n",
       "      <td>-122.045</td>\n",
       "      <td>1800</td>\n",
       "      <td>7503</td>\n",
       "    </tr>\n",
       "  </tbody>\n",
       "</table>\n",
       "<p>5 rows × 21 columns</p>\n",
       "</div>"
      ],
      "text/plain": [
       "           id        date     price  bedrooms  bathrooms  sqft_living  \\\n",
       "0  7129300520  10/13/2014  221900.0         3       1.00         1180   \n",
       "1  6414100192   12/9/2014  538000.0         3       2.25         2570   \n",
       "2  5631500400   2/25/2015  180000.0         2       1.00          770   \n",
       "3  2487200875   12/9/2014  604000.0         4       3.00         1960   \n",
       "4  1954400510   2/18/2015  510000.0         3       2.00         1680   \n",
       "\n",
       "   sqft_lot  floors  waterfront  view     ...      grade  sqft_above  \\\n",
       "0      5650     1.0         NaN   0.0     ...          7        1180   \n",
       "1      7242     2.0         0.0   0.0     ...          7        2170   \n",
       "2     10000     1.0         0.0   0.0     ...          6         770   \n",
       "3      5000     1.0         0.0   0.0     ...          7        1050   \n",
       "4      8080     1.0         0.0   0.0     ...          8        1680   \n",
       "\n",
       "   sqft_basement yr_built  yr_renovated  zipcode      lat     long  \\\n",
       "0            0.0     1955           0.0    98178  47.5112 -122.257   \n",
       "1          400.0     1951        1991.0    98125  47.7210 -122.319   \n",
       "2            0.0     1933           NaN    98028  47.7379 -122.233   \n",
       "3          910.0     1965           0.0    98136  47.5208 -122.393   \n",
       "4            0.0     1987           0.0    98074  47.6168 -122.045   \n",
       "\n",
       "   sqft_living15  sqft_lot15  \n",
       "0           1340        5650  \n",
       "1           1690        7639  \n",
       "2           2720        8062  \n",
       "3           1360        5000  \n",
       "4           1800        7503  \n",
       "\n",
       "[5 rows x 21 columns]"
      ]
     },
     "execution_count": 2,
     "metadata": {},
     "output_type": "execute_result"
    }
   ],
   "source": [
    "df = pd.read_csv('kc_house_data.csv')  # import the file\n",
    "df.head()  # taking a look at the first few rows\n",
    "           # to see what type of information I'm working with "
   ]
  },
  {
   "cell_type": "markdown",
   "metadata": {},
   "source": [
    "<br>\n",
    "\n",
    "Looking at the excerpt, I see what appears to be both qualitative and quantitative variables. There also appears to be a few null values and quite a few zeros, especially in the \"sqft_basement\" and \"yr_renovated\" columns. Before I begin re-arranging the table, however, I'd like to look at other descriptive measures to see which groups may be more relevant than others. The new information will also help me appropriately clean the data.\n",
    "\n",
    "<br>"
   ]
  },
  {
   "cell_type": "code",
   "execution_count": 3,
   "metadata": {},
   "outputs": [
    {
     "name": "stdout",
     "output_type": "stream",
     "text": [
      "<class 'pandas.core.frame.DataFrame'>\n",
      "RangeIndex: 21597 entries, 0 to 21596\n",
      "Data columns (total 21 columns):\n",
      "id               21597 non-null int64\n",
      "date             21597 non-null object\n",
      "price            21597 non-null float64\n",
      "bedrooms         21597 non-null int64\n",
      "bathrooms        21597 non-null float64\n",
      "sqft_living      21597 non-null int64\n",
      "sqft_lot         21597 non-null int64\n",
      "floors           21597 non-null float64\n",
      "waterfront       19221 non-null float64\n",
      "view             21534 non-null float64\n",
      "condition        21597 non-null int64\n",
      "grade            21597 non-null int64\n",
      "sqft_above       21597 non-null int64\n",
      "sqft_basement    21597 non-null object\n",
      "yr_built         21597 non-null int64\n",
      "yr_renovated     17755 non-null float64\n",
      "zipcode          21597 non-null int64\n",
      "lat              21597 non-null float64\n",
      "long             21597 non-null float64\n",
      "sqft_living15    21597 non-null int64\n",
      "sqft_lot15       21597 non-null int64\n",
      "dtypes: float64(8), int64(11), object(2)\n",
      "memory usage: 3.5+ MB\n"
     ]
    },
    {
     "data": {
      "text/plain": [
       "(21597, 21)"
      ]
     },
     "execution_count": 3,
     "metadata": {},
     "output_type": "execute_result"
    }
   ],
   "source": [
    "df.info() # a quick summary of what the rows and columns contain \n",
    "df.shape # shape of the spreadsheet, printed under the row/column info"
   ]
  },
  {
   "cell_type": "markdown",
   "metadata": {},
   "source": [
    "A few columns (waterfront, condition, grade, yr_built, yr_renovated, zipcode) appear to be miscategorized as floats and ints, although the df.head() command shows they are most likely integers. This usually happens when someone includes letters or punctuation when inputting the data (for example, someone may write \"one\" instead of \"1\"). First, we need to look at the summary statistics to get a better feel for the data. The we need to find out whether there are any anomalies that cause the \"sqft_basement\" column to be labeled as objects and the \"yr_renovated\" column to be cast as a float, instead of what I suspect should be at least integers. \n",
    "\n",
    "Because df.head() and df.info() only give us a preview of the data, I need to look at summary statistics to see the overall trends. "
   ]
  },
  {
   "cell_type": "code",
   "execution_count": 4,
   "metadata": {},
   "outputs": [
    {
     "data": {
      "text/html": [
       "<div>\n",
       "<style scoped>\n",
       "    .dataframe tbody tr th:only-of-type {\n",
       "        vertical-align: middle;\n",
       "    }\n",
       "\n",
       "    .dataframe tbody tr th {\n",
       "        vertical-align: top;\n",
       "    }\n",
       "\n",
       "    .dataframe thead th {\n",
       "        text-align: right;\n",
       "    }\n",
       "</style>\n",
       "<table border=\"1\" class=\"dataframe\">\n",
       "  <thead>\n",
       "    <tr style=\"text-align: right;\">\n",
       "      <th></th>\n",
       "      <th>id</th>\n",
       "      <th>price</th>\n",
       "      <th>bedrooms</th>\n",
       "      <th>bathrooms</th>\n",
       "      <th>sqft_living</th>\n",
       "      <th>sqft_lot</th>\n",
       "      <th>floors</th>\n",
       "      <th>waterfront</th>\n",
       "      <th>view</th>\n",
       "      <th>condition</th>\n",
       "      <th>grade</th>\n",
       "      <th>sqft_above</th>\n",
       "      <th>yr_built</th>\n",
       "      <th>yr_renovated</th>\n",
       "      <th>zipcode</th>\n",
       "      <th>lat</th>\n",
       "      <th>long</th>\n",
       "      <th>sqft_living15</th>\n",
       "      <th>sqft_lot15</th>\n",
       "    </tr>\n",
       "  </thead>\n",
       "  <tbody>\n",
       "    <tr>\n",
       "      <th>count</th>\n",
       "      <td>2.159700e+04</td>\n",
       "      <td>2.159700e+04</td>\n",
       "      <td>21597.000000</td>\n",
       "      <td>21597.000000</td>\n",
       "      <td>21597.000000</td>\n",
       "      <td>2.159700e+04</td>\n",
       "      <td>21597.000000</td>\n",
       "      <td>19221.000000</td>\n",
       "      <td>21534.000000</td>\n",
       "      <td>21597.000000</td>\n",
       "      <td>21597.000000</td>\n",
       "      <td>21597.000000</td>\n",
       "      <td>21597.000000</td>\n",
       "      <td>17755.000000</td>\n",
       "      <td>21597.000000</td>\n",
       "      <td>21597.000000</td>\n",
       "      <td>21597.000000</td>\n",
       "      <td>21597.000000</td>\n",
       "      <td>21597.000000</td>\n",
       "    </tr>\n",
       "    <tr>\n",
       "      <th>mean</th>\n",
       "      <td>4.580474e+09</td>\n",
       "      <td>5.402966e+05</td>\n",
       "      <td>3.373200</td>\n",
       "      <td>2.115826</td>\n",
       "      <td>2080.321850</td>\n",
       "      <td>1.509941e+04</td>\n",
       "      <td>1.494096</td>\n",
       "      <td>0.007596</td>\n",
       "      <td>0.233863</td>\n",
       "      <td>3.409825</td>\n",
       "      <td>7.657915</td>\n",
       "      <td>1788.596842</td>\n",
       "      <td>1970.999676</td>\n",
       "      <td>83.636778</td>\n",
       "      <td>98077.951845</td>\n",
       "      <td>47.560093</td>\n",
       "      <td>-122.213982</td>\n",
       "      <td>1986.620318</td>\n",
       "      <td>12758.283512</td>\n",
       "    </tr>\n",
       "    <tr>\n",
       "      <th>std</th>\n",
       "      <td>2.876736e+09</td>\n",
       "      <td>3.673681e+05</td>\n",
       "      <td>0.926299</td>\n",
       "      <td>0.768984</td>\n",
       "      <td>918.106125</td>\n",
       "      <td>4.141264e+04</td>\n",
       "      <td>0.539683</td>\n",
       "      <td>0.086825</td>\n",
       "      <td>0.765686</td>\n",
       "      <td>0.650546</td>\n",
       "      <td>1.173200</td>\n",
       "      <td>827.759761</td>\n",
       "      <td>29.375234</td>\n",
       "      <td>399.946414</td>\n",
       "      <td>53.513072</td>\n",
       "      <td>0.138552</td>\n",
       "      <td>0.140724</td>\n",
       "      <td>685.230472</td>\n",
       "      <td>27274.441950</td>\n",
       "    </tr>\n",
       "    <tr>\n",
       "      <th>min</th>\n",
       "      <td>1.000102e+06</td>\n",
       "      <td>7.800000e+04</td>\n",
       "      <td>1.000000</td>\n",
       "      <td>0.500000</td>\n",
       "      <td>370.000000</td>\n",
       "      <td>5.200000e+02</td>\n",
       "      <td>1.000000</td>\n",
       "      <td>0.000000</td>\n",
       "      <td>0.000000</td>\n",
       "      <td>1.000000</td>\n",
       "      <td>3.000000</td>\n",
       "      <td>370.000000</td>\n",
       "      <td>1900.000000</td>\n",
       "      <td>0.000000</td>\n",
       "      <td>98001.000000</td>\n",
       "      <td>47.155900</td>\n",
       "      <td>-122.519000</td>\n",
       "      <td>399.000000</td>\n",
       "      <td>651.000000</td>\n",
       "    </tr>\n",
       "    <tr>\n",
       "      <th>25%</th>\n",
       "      <td>2.123049e+09</td>\n",
       "      <td>3.220000e+05</td>\n",
       "      <td>3.000000</td>\n",
       "      <td>1.750000</td>\n",
       "      <td>1430.000000</td>\n",
       "      <td>5.040000e+03</td>\n",
       "      <td>1.000000</td>\n",
       "      <td>0.000000</td>\n",
       "      <td>0.000000</td>\n",
       "      <td>3.000000</td>\n",
       "      <td>7.000000</td>\n",
       "      <td>1190.000000</td>\n",
       "      <td>1951.000000</td>\n",
       "      <td>0.000000</td>\n",
       "      <td>98033.000000</td>\n",
       "      <td>47.471100</td>\n",
       "      <td>-122.328000</td>\n",
       "      <td>1490.000000</td>\n",
       "      <td>5100.000000</td>\n",
       "    </tr>\n",
       "    <tr>\n",
       "      <th>50%</th>\n",
       "      <td>3.904930e+09</td>\n",
       "      <td>4.500000e+05</td>\n",
       "      <td>3.000000</td>\n",
       "      <td>2.250000</td>\n",
       "      <td>1910.000000</td>\n",
       "      <td>7.618000e+03</td>\n",
       "      <td>1.500000</td>\n",
       "      <td>0.000000</td>\n",
       "      <td>0.000000</td>\n",
       "      <td>3.000000</td>\n",
       "      <td>7.000000</td>\n",
       "      <td>1560.000000</td>\n",
       "      <td>1975.000000</td>\n",
       "      <td>0.000000</td>\n",
       "      <td>98065.000000</td>\n",
       "      <td>47.571800</td>\n",
       "      <td>-122.231000</td>\n",
       "      <td>1840.000000</td>\n",
       "      <td>7620.000000</td>\n",
       "    </tr>\n",
       "    <tr>\n",
       "      <th>75%</th>\n",
       "      <td>7.308900e+09</td>\n",
       "      <td>6.450000e+05</td>\n",
       "      <td>4.000000</td>\n",
       "      <td>2.500000</td>\n",
       "      <td>2550.000000</td>\n",
       "      <td>1.068500e+04</td>\n",
       "      <td>2.000000</td>\n",
       "      <td>0.000000</td>\n",
       "      <td>0.000000</td>\n",
       "      <td>4.000000</td>\n",
       "      <td>8.000000</td>\n",
       "      <td>2210.000000</td>\n",
       "      <td>1997.000000</td>\n",
       "      <td>0.000000</td>\n",
       "      <td>98118.000000</td>\n",
       "      <td>47.678000</td>\n",
       "      <td>-122.125000</td>\n",
       "      <td>2360.000000</td>\n",
       "      <td>10083.000000</td>\n",
       "    </tr>\n",
       "    <tr>\n",
       "      <th>max</th>\n",
       "      <td>9.900000e+09</td>\n",
       "      <td>7.700000e+06</td>\n",
       "      <td>33.000000</td>\n",
       "      <td>8.000000</td>\n",
       "      <td>13540.000000</td>\n",
       "      <td>1.651359e+06</td>\n",
       "      <td>3.500000</td>\n",
       "      <td>1.000000</td>\n",
       "      <td>4.000000</td>\n",
       "      <td>5.000000</td>\n",
       "      <td>13.000000</td>\n",
       "      <td>9410.000000</td>\n",
       "      <td>2015.000000</td>\n",
       "      <td>2015.000000</td>\n",
       "      <td>98199.000000</td>\n",
       "      <td>47.777600</td>\n",
       "      <td>-121.315000</td>\n",
       "      <td>6210.000000</td>\n",
       "      <td>871200.000000</td>\n",
       "    </tr>\n",
       "  </tbody>\n",
       "</table>\n",
       "</div>"
      ],
      "text/plain": [
       "                 id         price      bedrooms     bathrooms   sqft_living  \\\n",
       "count  2.159700e+04  2.159700e+04  21597.000000  21597.000000  21597.000000   \n",
       "mean   4.580474e+09  5.402966e+05      3.373200      2.115826   2080.321850   \n",
       "std    2.876736e+09  3.673681e+05      0.926299      0.768984    918.106125   \n",
       "min    1.000102e+06  7.800000e+04      1.000000      0.500000    370.000000   \n",
       "25%    2.123049e+09  3.220000e+05      3.000000      1.750000   1430.000000   \n",
       "50%    3.904930e+09  4.500000e+05      3.000000      2.250000   1910.000000   \n",
       "75%    7.308900e+09  6.450000e+05      4.000000      2.500000   2550.000000   \n",
       "max    9.900000e+09  7.700000e+06     33.000000      8.000000  13540.000000   \n",
       "\n",
       "           sqft_lot        floors    waterfront          view     condition  \\\n",
       "count  2.159700e+04  21597.000000  19221.000000  21534.000000  21597.000000   \n",
       "mean   1.509941e+04      1.494096      0.007596      0.233863      3.409825   \n",
       "std    4.141264e+04      0.539683      0.086825      0.765686      0.650546   \n",
       "min    5.200000e+02      1.000000      0.000000      0.000000      1.000000   \n",
       "25%    5.040000e+03      1.000000      0.000000      0.000000      3.000000   \n",
       "50%    7.618000e+03      1.500000      0.000000      0.000000      3.000000   \n",
       "75%    1.068500e+04      2.000000      0.000000      0.000000      4.000000   \n",
       "max    1.651359e+06      3.500000      1.000000      4.000000      5.000000   \n",
       "\n",
       "              grade    sqft_above      yr_built  yr_renovated       zipcode  \\\n",
       "count  21597.000000  21597.000000  21597.000000  17755.000000  21597.000000   \n",
       "mean       7.657915   1788.596842   1970.999676     83.636778  98077.951845   \n",
       "std        1.173200    827.759761     29.375234    399.946414     53.513072   \n",
       "min        3.000000    370.000000   1900.000000      0.000000  98001.000000   \n",
       "25%        7.000000   1190.000000   1951.000000      0.000000  98033.000000   \n",
       "50%        7.000000   1560.000000   1975.000000      0.000000  98065.000000   \n",
       "75%        8.000000   2210.000000   1997.000000      0.000000  98118.000000   \n",
       "max       13.000000   9410.000000   2015.000000   2015.000000  98199.000000   \n",
       "\n",
       "                lat          long  sqft_living15     sqft_lot15  \n",
       "count  21597.000000  21597.000000   21597.000000   21597.000000  \n",
       "mean      47.560093   -122.213982    1986.620318   12758.283512  \n",
       "std        0.138552      0.140724     685.230472   27274.441950  \n",
       "min       47.155900   -122.519000     399.000000     651.000000  \n",
       "25%       47.471100   -122.328000    1490.000000    5100.000000  \n",
       "50%       47.571800   -122.231000    1840.000000    7620.000000  \n",
       "75%       47.678000   -122.125000    2360.000000   10083.000000  \n",
       "max       47.777600   -121.315000    6210.000000  871200.000000  "
      ]
     },
     "execution_count": 4,
     "metadata": {},
     "output_type": "execute_result"
    }
   ],
   "source": [
    "df.describe() # gather summary statistics of the data"
   ]
  },
  {
   "cell_type": "markdown",
   "metadata": {},
   "source": [
    "Waterfront, condition, grade and zipcode are most likely categorical variables. I suspect this because their distributions are limited and the values are finite. The values in these columns describe quality, rather than quantity. The waterfront column, specifically, is full of boolean values (facing or not facing the waterfront). It is unclear at this moment whether the views column is a boolean (categorical variable) or a view count (quantitative variable). I also need to look further into the yr_renovated category, because most of the data is '0', but the max is '2015'. The sqft_basement is a considered an object, so it is not included in the summary statistics. I will need to change the data type in order to explore it. I'll look into each of these specific features to make decisions. "
   ]
  },
  {
   "cell_type": "markdown",
   "metadata": {},
   "source": [
    "# 3. <a id=\"scrubbing\">Scrubbing the Data</a>"
   ]
  },
  {
   "cell_type": "code",
   "execution_count": 5,
   "metadata": {},
   "outputs": [],
   "source": [
    "# Automate comparative scatterplot viewing\n",
    "# this function allows me to plot 4 scatterplots next to each other\n",
    "# for ease of comparison\n",
    "\n",
    "def multi_scatter(column_names = None, target = None):\n",
    "    fig, axs = plt.subplots(1, 4, sharey=True, figsize=(18, 6))\n",
    "    for idx, feature in enumerate(column_names):\n",
    "        df_train.plot(kind='scatter', x=feature, y=target, ax=axs[idx], label=feature, alpha = 0.3)\n",
    "    plt.legend()\n",
    "    \n",
    "# Drop outliers in a column\n",
    "def drop_max(column_name = None):\n",
    "    max_val = df_train[column_name].idxmax()\n",
    "    df_train[column_name] = df_train[column_name].drop([max_val])\n",
    "    return df_train.boxplot([column_name])\n",
    "\n",
    "# quickly build heatmaps\n",
    "def correlation_heatmap(df): \n",
    "    _, ax = plt.subplots(figsize = (15, 10))\n",
    "    colormap= sns.diverging_palette(220, 10, as_cmap = True)\n",
    "    sns.heatmap(df_train.corr(), annot=True, cmap = colormap)\n",
    "\n",
    "# create a separate data frame for cleaning, exploring and modelling    \n",
    "df_train = pd.read_csv('kc_house_data.csv')  "
   ]
  },
  {
   "cell_type": "markdown",
   "metadata": {},
   "source": [
    "I wrote the \"multi_scatter\" function so I could make scatterplots in groups of four. Although I used the funciton a lot in the beginning stages of my analysis, I wound up removing many of the plots as they were no longer relevant. \n",
    "\n",
    "\"Drop_outliers\" helps me determine which rows contain overly large values and then drop them. \n",
    "\n",
    "The box plot helps me visually check for outliers. The \"correlation_heatmap\" function helps determine how strongly related two features are, but it does not mean there is causation.\n",
    "\n",
    "I created a separate data frame so I can manipulate the data into something I can create a model with while maintining the integrity of the original data set."
   ]
  },
  {
   "cell_type": "markdown",
   "metadata": {},
   "source": [
    "###  <a id = \"categorical_variables\"> Are the columns *really* categorical?</a>"
   ]
  },
  {
   "cell_type": "code",
   "execution_count": 6,
   "metadata": {},
   "outputs": [
    {
     "data": {
      "image/png": "[encoded data removed]",
      "text/plain": [
       "<Figure size 1296x432 with 4 Axes>"
      ]
     },
     "metadata": {
      "needs_background": "light"
     },
     "output_type": "display_data"
    }
   ],
   "source": [
    "multi_scatter(column_names = ['zipcode', 'condition', 'grade', 'waterfront'], \n",
    "              target = 'price')"
   ]
  },
  {
   "cell_type": "markdown",
   "metadata": {},
   "source": [
    "Here we see three distinct categorical variables: condition, grade, waterfront. The zipcode column appears to be more continuous, but common knowledge suggests a house can only exist in one zipcode at a time, therefore it is also a category. I will change them into a string for now, but I do not plan to one-hot encode until after cleaning the rest of the data and looking at the heatmap. "
   ]
  },
  {
   "cell_type": "markdown",
   "metadata": {},
   "source": [
    "### <a id = \"outliers\" > Dealing with Outliers </a>"
   ]
  },
  {
   "cell_type": "markdown",
   "metadata": {},
   "source": [
    "Outliers have the ability to dramatically skew the summary statistics and make an unreliable model. Getting rid of them will help create a model that better fits the bulk of the data."
   ]
  },
  {
   "cell_type": "code",
   "execution_count": 7,
   "metadata": {},
   "outputs": [
    {
     "data": {
      "text/plain": [
       "3     9824\n",
       "4     6882\n",
       "2     2760\n",
       "5     1601\n",
       "6      272\n",
       "1      196\n",
       "7       38\n",
       "8       13\n",
       "9        6\n",
       "10       3\n",
       "11       1\n",
       "33       1\n",
       "Name: bedrooms, dtype: int64"
      ]
     },
     "execution_count": 7,
     "metadata": {},
     "output_type": "execute_result"
    },
    {
     "data": {
      "image/png": "[encoded data removed]",
      "text/plain": [
       "<Figure size 432x288 with 1 Axes>"
      ]
     },
     "metadata": {
      "needs_background": "light"
     },
     "output_type": "display_data"
    }
   ],
   "source": [
    "df_train.boxplot(['bedrooms'])\n",
    "df_train.bedrooms.value_counts()"
   ]
  },
  {
   "cell_type": "markdown",
   "metadata": {},
   "source": [
    "Only one house has 33 bedrooms, and this number is far higher than the next largest number of rooms. It seems unlikely that the number of bedrooms would jump from 11 to 33, so it is safe to assume this is a placeholder value. Getting rid of it will give cleaner summary statistics. "
   ]
  },
  {
   "cell_type": "code",
   "execution_count": 8,
   "metadata": {},
   "outputs": [
    {
     "data": {
      "text/plain": [
       "<matplotlib.axes._subplots.AxesSubplot at 0x2711438e9e8>"
      ]
     },
     "execution_count": 8,
     "metadata": {},
     "output_type": "execute_result"
    },
    {
     "data": {
      "image/png": "[encoded data removed]",
      "text/plain": [
       "<Figure size 432x288 with 1 Axes>"
      ]
     },
     "metadata": {
      "needs_background": "light"
     },
     "output_type": "display_data"
    }
   ],
   "source": [
    "drop_max(column_name = 'bedrooms') # dropping the outlier makes a prettier box plot"
   ]
  },
  {
   "cell_type": "code",
   "execution_count": 9,
   "metadata": {},
   "outputs": [
    {
     "data": {
      "text/plain": [
       "2.50    5377\n",
       "1.00    3851\n",
       "1.75    3048\n",
       "2.25    2047\n",
       "2.00    1930\n",
       "1.50    1445\n",
       "2.75    1185\n",
       "3.00     753\n",
       "3.50     731\n",
       "3.25     589\n",
       "3.75     155\n",
       "4.00     136\n",
       "4.50     100\n",
       "4.25      79\n",
       "0.75      71\n",
       "4.75      23\n",
       "5.00      21\n",
       "5.25      13\n",
       "5.50      10\n",
       "1.25       9\n",
       "6.00       6\n",
       "5.75       4\n",
       "0.50       4\n",
       "8.00       2\n",
       "6.25       2\n",
       "6.75       2\n",
       "6.50       2\n",
       "7.50       1\n",
       "7.75       1\n",
       "Name: bathrooms, dtype: int64"
      ]
     },
     "execution_count": 9,
     "metadata": {},
     "output_type": "execute_result"
    },
    {
     "data": {
      "image/png": "[encoded data removed]",
      "text/plain": [
       "<Figure size 432x288 with 1 Axes>"
      ]
     },
     "metadata": {
      "needs_background": "light"
     },
     "output_type": "display_data"
    }
   ],
   "source": [
    "df.boxplot(['bathrooms']) # check for bathroom outliers\n",
    "df_train.bathrooms.value_counts()"
   ]
  },
  {
   "cell_type": "markdown",
   "metadata": {},
   "source": [
    "Though there are relatively few houses with more than 4 bathrooms, none of the numbers appear obvious ouliers. Therefore, this data is acceptable. \n",
    "\n",
    "The summary statistics also showed a housing lot that is almost 900,000 square feet. This is almost certainly an outlier (the possible the result of an incorrectly-zoned lot, which may also explain the 33 bedrooms), but I'd like to verify instead. While value counts are useful when you are dealing with a small set of categories, I need to use a data visualization method to look at the square footage, because there is a large range."
   ]
  },
  {
   "cell_type": "code",
   "execution_count": 10,
   "metadata": {},
   "outputs": [
    {
     "data": {
      "text/plain": [
       "count     21597.000000\n",
       "mean      12758.283512\n",
       "std       27274.441950\n",
       "min         651.000000\n",
       "25%        5100.000000\n",
       "50%        7620.000000\n",
       "75%       10083.000000\n",
       "max      871200.000000\n",
       "Name: sqft_lot15, dtype: float64"
      ]
     },
     "execution_count": 10,
     "metadata": {},
     "output_type": "execute_result"
    },
    {
     "data": {
      "image/png": "[encoded data removed]",
      "text/plain": [
       "<Figure size 432x432 with 1 Axes>"
      ]
     },
     "metadata": {
      "needs_background": "light"
     },
     "output_type": "display_data"
    }
   ],
   "source": [
    "plt.figure(figsize = (6,6))\n",
    "df_train.boxplot(['sqft_lot15']) \n",
    "df_train.sqft_lot15.describe()"
   ]
  },
  {
   "cell_type": "markdown",
   "metadata": {},
   "source": [
    "The boxplot shows that some of these values are several hundred thousand square feet larger than the others. It also seems that the interquartile range is near zero. We already know that 75% of the lots are 10,000 square feet or less, but the mean is around 12000. This means the outliers are influencing the calculations. Removing the biggest outliers will creat handier data, then we can normalize the data later."
   ]
  },
  {
   "cell_type": "code",
   "execution_count": 11,
   "metadata": {},
   "outputs": [
    {
     "data": {
      "text/plain": [
       "<matplotlib.axes._subplots.AxesSubplot at 0x27113cbc400>"
      ]
     },
     "execution_count": 11,
     "metadata": {},
     "output_type": "execute_result"
    },
    {
     "data": {
      "image/png": "[encoded data removed]",
      "text/plain": [
       "<Figure size 432x288 with 1 Axes>"
      ]
     },
     "metadata": {
      "needs_background": "light"
     },
     "output_type": "display_data"
    }
   ],
   "source": [
    "drop_max('sqft_lot15')"
   ]
  },
  {
   "cell_type": "code",
   "execution_count": 12,
   "metadata": {},
   "outputs": [
    {
     "data": {
      "text/plain": [
       "<matplotlib.axes._subplots.AxesSubplot at 0x27113d11048>"
      ]
     },
     "execution_count": 12,
     "metadata": {},
     "output_type": "execute_result"
    },
    {
     "data": {
      "image/png": "[encoded data removed]",
      "text/plain": [
       "<Figure size 432x288 with 1 Axes>"
      ]
     },
     "metadata": {
      "needs_background": "light"
     },
     "output_type": "display_data"
    }
   ],
   "source": [
    "drop_max('sqft_lot15')"
   ]
  },
  {
   "cell_type": "code",
   "execution_count": 13,
   "metadata": {},
   "outputs": [
    {
     "data": {
      "text/plain": [
       "<matplotlib.axes._subplots.AxesSubplot at 0x27114440d30>"
      ]
     },
     "execution_count": 13,
     "metadata": {},
     "output_type": "execute_result"
    },
    {
     "data": {
      "image/png": "[encoded data removed]",
      "text/plain": [
       "<Figure size 432x288 with 1 Axes>"
      ]
     },
     "metadata": {
      "needs_background": "light"
     },
     "output_type": "display_data"
    }
   ],
   "source": [
    "drop_max('sqft_lot15')"
   ]
  },
  {
   "cell_type": "code",
   "execution_count": 14,
   "metadata": {},
   "outputs": [
    {
     "data": {
      "text/plain": [
       "count     21594.000000\n",
       "mean      12654.010373\n",
       "std       25746.123012\n",
       "min         651.000000\n",
       "25%        5100.000000\n",
       "50%        7620.000000\n",
       "75%       10080.000000\n",
       "max      438213.000000\n",
       "Name: sqft_lot15, dtype: float64"
      ]
     },
     "execution_count": 14,
     "metadata": {},
     "output_type": "execute_result"
    }
   ],
   "source": [
    "df_train.sqft_lot15.describe()"
   ]
  },
  {
   "cell_type": "markdown",
   "metadata": {},
   "source": [
    "Removing the outliers actually pushed the mean higher. Because the mean depends partially on the number of data points, removing the outliers gave more weight to the next highest values. The best step for this column is normalization and scaling, because there are so many outliers. \n",
    "\n",
    "Now that the \"quick fix\" scrubbing is complete, it's time to take a close look at the year_renovated column, which has missing values."
   ]
  },
  {
   "cell_type": "markdown",
   "metadata": {},
   "source": [
    "### <a id = \"null_values\" > Where are the  null values in the data frame? <a/>"
   ]
  },
  {
   "cell_type": "code",
   "execution_count": 15,
   "metadata": {},
   "outputs": [
    {
     "name": "stdout",
     "output_type": "stream",
     "text": [
      "We are missing 11.0 percent of the waterfront data and 17.79 percent of the household renovation data\n"
     ]
    }
   ],
   "source": [
    "# I obtained these values by looking at df.info above. I subtracted the\n",
    "# number of available data points from the total length of the list\n",
    "waterfront_percent = round(((2376/21597)*100),2) #calculating percentage\n",
    "reno_percent = round(((3842/21597)*100),2)\n",
    "print(f\"We are missing {waterfront_percent} percent of the waterfront data and {reno_percent} percent of the household renovation data\")"
   ]
  },
  {
   "cell_type": "markdown",
   "metadata": {},
   "source": [
    "In other words, we still have about 90% of the waterfront data and about 80% of the household renovation data. These are sufficient numbers to proceed, however, we must also check the data for placeholder values, because the of the high number of zeros."
   ]
  },
  {
   "cell_type": "markdown",
   "metadata": {},
   "source": [
    "We know that only two columns contain NaN values, but are there any placeholders or zeros in the data frame?"
   ]
  },
  {
   "cell_type": "code",
   "execution_count": 16,
   "metadata": {},
   "outputs": [
    {
     "data": {
      "text/plain": [
       "3    14020\n",
       "4     5677\n",
       "5     1701\n",
       "2      170\n",
       "1       29\n",
       "Name: condition, dtype: int64"
      ]
     },
     "execution_count": 16,
     "metadata": {},
     "output_type": "execute_result"
    }
   ],
   "source": [
    "df_train['condition'].value_counts()  # checking for placeholders\n",
    "                                # chose value counts for the sake of granularity\n",
    "                                # lower frequencies get lost in a hist with so many data points"
   ]
  },
  {
   "cell_type": "code",
   "execution_count": 17,
   "metadata": {},
   "outputs": [
    {
     "data": {
      "text/plain": [
       "7     8974\n",
       "8     6065\n",
       "9     2615\n",
       "6     2038\n",
       "10    1134\n",
       "11     399\n",
       "5      242\n",
       "12      89\n",
       "4       27\n",
       "13      13\n",
       "3        1\n",
       "Name: grade, dtype: int64"
      ]
     },
     "execution_count": 17,
     "metadata": {},
     "output_type": "execute_result"
    }
   ],
   "source": [
    "df_train['grade'].value_counts() "
   ]
  },
  {
   "cell_type": "code",
   "execution_count": 18,
   "metadata": {},
   "outputs": [
    {
     "data": {
      "text/plain": [
       "array([98178, 98125, 98028, 98136, 98074, 98053, 98003, 98198, 98146,\n",
       "       98038, 98007, 98115, 98107, 98126, 98019, 98103, 98002, 98133,\n",
       "       98040, 98092, 98030, 98119, 98112, 98052, 98027, 98117, 98058,\n",
       "       98001, 98056, 98166, 98023, 98070, 98148, 98105, 98042, 98008,\n",
       "       98059, 98122, 98144, 98004, 98005, 98034, 98075, 98116, 98010,\n",
       "       98118, 98199, 98032, 98045, 98102, 98077, 98108, 98168, 98177,\n",
       "       98065, 98029, 98006, 98109, 98022, 98033, 98155, 98024, 98011,\n",
       "       98031, 98106, 98072, 98188, 98014, 98055, 98039], dtype=int64)"
      ]
     },
     "execution_count": 18,
     "metadata": {},
     "output_type": "execute_result"
    }
   ],
   "source": [
    "df_train['zipcode'].unique() # checking for placeholder\n",
    "# the list is too long to see all the values with value counts. "
   ]
  },
  {
   "cell_type": "markdown",
   "metadata": {},
   "source": [
    "For \"grade\" and \"condition\", I used value_counts() because it would be easy to type, say, '1' when a value is missing. If I saw an overwhelming amount of 1s, that would be a sign of a placeholder. In the condition category, we see a lot of 3s, this value makes sense because it is the value commonly thought of as \"average condition\" in layman's terms. It would actually be more unusual to see a lot of houses that are perfect (5) or in total disrepair (1). For zipcodes, rather than checking whether a value overwhelms the rest, we can check unique values. Because the zipcodes have a set format and are all in the same area, a placeholder number would stick out."
   ]
  },
  {
   "cell_type": "code",
   "execution_count": 19,
   "metadata": {},
   "outputs": [
    {
     "data": {
      "text/plain": [
       "0.0    19422\n",
       "2.0      957\n",
       "3.0      508\n",
       "1.0      330\n",
       "4.0      317\n",
       "Name: view, dtype: int64"
      ]
     },
     "execution_count": 19,
     "metadata": {},
     "output_type": "execute_result"
    }
   ],
   "source": [
    "df_train['view'].value_counts()"
   ]
  },
  {
   "cell_type": "markdown",
   "metadata": {},
   "source": [
    "The view column is a quantitative variable, so it can remain an integer. It seems the majority of properties have not been viewed, which makes sense because only a small number of houses are for sale at a given time. I am choosing not to drop this category because view counts may give us an indication of which locations are in-demand. A high view count in a certain area means the demand is higher than the supply, which could drive prices up."
   ]
  },
  {
   "cell_type": "markdown",
   "metadata": {},
   "source": [
    "### <a id = \"null_values\"> Handling Null Values </a>"
   ]
  },
  {
   "cell_type": "code",
   "execution_count": 20,
   "metadata": {},
   "outputs": [
    {
     "data": {
      "text/plain": [
       "array([   0., 1991.,   nan, 2002., 2010., 1992., 2013., 1994., 1978.,\n",
       "       2005., 2003., 1984., 1954., 2014., 2011., 1983., 1945., 1990.,\n",
       "       1988., 1977., 1981., 1995., 2000., 1999., 1998., 1970., 1989.,\n",
       "       2004., 1986., 2007., 1987., 2006., 1985., 2001., 1980., 1971.,\n",
       "       1979., 1997., 1950., 1969., 1948., 2009., 2015., 1974., 2008.,\n",
       "       1968., 2012., 1963., 1951., 1962., 1953., 1993., 1996., 1955.,\n",
       "       1982., 1956., 1940., 1976., 1946., 1975., 1964., 1973., 1957.,\n",
       "       1959., 1960., 1967., 1965., 1934., 1972., 1944., 1958.])"
      ]
     },
     "execution_count": 20,
     "metadata": {},
     "output_type": "execute_result"
    }
   ],
   "source": [
    "df_train['yr_renovated'].unique() # take a look at the values to look for anomalies"
   ]
  },
  {
   "cell_type": "markdown",
   "metadata": {},
   "source": [
    "Here we see the yr_renovated column has a number of issues, besides being incomplete. First, there are two different ways to denote null values ('0' and 'nan'-- blank cells). Morever, the values are all floats, but there are no numbers following the years. Whereas I had assumed the date was typed as yr.month.day (e.g. 1990.05.23), this is simply a list of years. To clean this column, I need to do two things: 1) determine how to handle the null values and 2) reformat the values so they are simple integers (or potentially, datetime objects). \n",
    "\n",
    "Because I assume houses listed as NaN and '0' have never been renovated, I will put them in the same group. I will also group the rest of the data according to the age of the renovation. I consider anything after year 2000 new, whereas renovations between 1980 and 2000 are middle aged. Everything before 1980 is old renovation. "
   ]
  },
  {
   "cell_type": "code",
   "execution_count": 21,
   "metadata": {},
   "outputs": [
    {
     "name": "stdout",
     "output_type": "stream",
     "text": [
      "[never, 1990-1999, NaN, 2000-2015, before 1980, 1980-1989]\n",
      "Categories (5, object): [never < before 1980 < 1980-1989 < 1990-1999 < 2000-2015]\n",
      "never          17020\n",
      "2000-2015        365\n",
      "1990-1999        143\n",
      "1980-1989        124\n",
      "before 1980       89\n",
      "Name: yr_ren_groups, dtype: int64\n"
     ]
    }
   ],
   "source": [
    "# Grouping aka binning\n",
    "bins = [0., 1950., 1980., 1990., 2000., 2015.]\n",
    "names = ['never', 'before 1980', '1980-1989', '1990-1999', '2000-2015']\n",
    "df_train['yr_ren_groups'] = pd.cut(df_train['yr_renovated'], bins, labels=names, right=False)\n",
    "\n",
    "print(df_train['yr_ren_groups'].unique())  #check the values again\n",
    "print(df_train['yr_ren_groups'].value_counts()) #check the how many entries are in each category"
   ]
  },
  {
   "cell_type": "markdown",
   "metadata": {},
   "source": [
    "Next, let's look at the yr_built column."
   ]
  },
  {
   "cell_type": "code",
   "execution_count": 22,
   "metadata": {},
   "outputs": [
    {
     "data": {
      "text/plain": [
       "array([1955, 1951, 1933, 1965, 1987, 2001, 1995, 1963, 1960, 2003, 1942,\n",
       "       1927, 1977, 1900, 1979, 1994, 1916, 1921, 1969, 1947, 1968, 1985,\n",
       "       1941, 1915, 1909, 1948, 2005, 1929, 1981, 1930, 1904, 1996, 2000,\n",
       "       1984, 2014, 1922, 1959, 1966, 1953, 1950, 2008, 1991, 1954, 1973,\n",
       "       1925, 1989, 1972, 1986, 1956, 2002, 1992, 1964, 1952, 1961, 2006,\n",
       "       1988, 1962, 1939, 1946, 1967, 1975, 1980, 1910, 1983, 1978, 1905,\n",
       "       1971, 2010, 1945, 1924, 1990, 1914, 1926, 2004, 1923, 2007, 1976,\n",
       "       1949, 1999, 1901, 1993, 1920, 1997, 1943, 1957, 1940, 1918, 1928,\n",
       "       1974, 1911, 1936, 1937, 1982, 1908, 1931, 1998, 1913, 2013, 1907,\n",
       "       1958, 2012, 1912, 2011, 1917, 1932, 1944, 1902, 2009, 1903, 1970,\n",
       "       2015, 1934, 1938, 1919, 1906, 1935], dtype=int64)"
      ]
     },
     "execution_count": 22,
     "metadata": {},
     "output_type": "execute_result"
    }
   ],
   "source": [
    "df_train.yr_built.unique() #check for obvious place holders"
   ]
  },
  {
   "cell_type": "code",
   "execution_count": 23,
   "metadata": {},
   "outputs": [
    {
     "data": {
      "text/plain": [
       "<matplotlib.axes._subplots.AxesSubplot at 0x271146d8048>"
      ]
     },
     "execution_count": 23,
     "metadata": {},
     "output_type": "execute_result"
    },
    {
     "data": {
      "image/png": "[encoded data removed]",
      "text/plain": [
       "<Figure size 432x288 with 1 Axes>"
      ]
     },
     "metadata": {
      "needs_background": "light"
     },
     "output_type": "display_data"
    }
   ],
   "source": [
    "df_train.yr_built.hist() # check for categories with a seemingly large amount of values"
   ]
  },
  {
   "cell_type": "markdown",
   "metadata": {},
   "source": [
    "Everything checks out with the yr_built category. The sharp rise in house construction between 1940 and 1945 is consistent with the rising population in the post-WWII era. I verified the population by looking at [the history of King County](https://www.kingcounty.gov/depts/records-licensing/archives/research-guides/KCHistoryQuickFacts.aspx). "
   ]
  },
  {
   "cell_type": "code",
   "execution_count": 24,
   "metadata": {},
   "outputs": [
    {
     "data": {
      "text/plain": [
       "array(['0.0', '400.0', '910.0', '1530.0', '?', '730.0', '1700.0', '300.0',\n",
       "       '970.0', '760.0', '720.0', '700.0', '820.0', '780.0', '790.0',\n",
       "       '330.0', '1620.0', '360.0', '588.0', '1510.0', '410.0', '990.0',\n",
       "       '600.0', '560.0', '550.0', '1000.0', '1600.0', '500.0', '1040.0',\n",
       "       '880.0', '1010.0', '240.0', '265.0', '290.0', '800.0', '540.0',\n",
       "       '710.0', '840.0', '380.0', '770.0', '480.0', '570.0', '1490.0',\n",
       "       '620.0', '1250.0', '1270.0', '120.0', '650.0', '180.0', '1130.0',\n",
       "       '450.0', '1640.0', '1460.0', '1020.0', '1030.0', '750.0', '640.0',\n",
       "       '1070.0', '490.0', '1310.0', '630.0', '2000.0', '390.0', '430.0',\n",
       "       '850.0', '210.0', '1430.0', '1950.0', '440.0', '220.0', '1160.0',\n",
       "       '860.0', '580.0', '2060.0', '1820.0', '1180.0', '200.0', '1150.0',\n",
       "       '1200.0', '680.0', '530.0', '1450.0', '1170.0', '1080.0', '960.0',\n",
       "       '280.0', '870.0', '1100.0', '460.0', '1400.0', '660.0', '1220.0',\n",
       "       '900.0', '420.0', '1580.0', '1380.0', '475.0', '690.0', '270.0',\n",
       "       '350.0', '935.0', '1370.0', '980.0', '1470.0', '160.0', '950.0',\n",
       "       '50.0', '740.0', '1780.0', '1900.0', '340.0', '470.0', '370.0',\n",
       "       '140.0', '1760.0', '130.0', '520.0', '890.0', '1110.0', '150.0',\n",
       "       '1720.0', '810.0', '190.0', '1290.0', '670.0', '1800.0', '1120.0',\n",
       "       '1810.0', '60.0', '1050.0', '940.0', '310.0', '930.0', '1390.0',\n",
       "       '610.0', '1830.0', '1300.0', '510.0', '1330.0', '1590.0', '920.0',\n",
       "       '1320.0', '1420.0', '1240.0', '1960.0', '1560.0', '2020.0',\n",
       "       '1190.0', '2110.0', '1280.0', '250.0', '2390.0', '1230.0', '170.0',\n",
       "       '830.0', '1260.0', '1410.0', '1340.0', '590.0', '1500.0', '1140.0',\n",
       "       '260.0', '100.0', '320.0', '1480.0', '1060.0', '1284.0', '1670.0',\n",
       "       '1350.0', '2570.0', '1090.0', '110.0', '2500.0', '90.0', '1940.0',\n",
       "       '1550.0', '2350.0', '2490.0', '1481.0', '1360.0', '1135.0',\n",
       "       '1520.0', '1850.0', '1660.0', '2130.0', '2600.0', '1690.0',\n",
       "       '243.0', '1210.0', '1024.0', '1798.0', '1610.0', '1440.0',\n",
       "       '1570.0', '1650.0', '704.0', '1910.0', '1630.0', '2360.0',\n",
       "       '1852.0', '2090.0', '2400.0', '1790.0', '2150.0', '230.0', '70.0',\n",
       "       '1680.0', '2100.0', '3000.0', '1870.0', '1710.0', '2030.0',\n",
       "       '875.0', '1540.0', '2850.0', '2170.0', '506.0', '906.0', '145.0',\n",
       "       '2040.0', '784.0', '1750.0', '374.0', '518.0', '2720.0', '2730.0',\n",
       "       '1840.0', '3480.0', '2160.0', '1920.0', '2330.0', '1860.0',\n",
       "       '2050.0', '4820.0', '1913.0', '80.0', '2010.0', '3260.0', '2200.0',\n",
       "       '415.0', '1730.0', '652.0', '2196.0', '1930.0', '515.0', '40.0',\n",
       "       '2080.0', '2580.0', '1548.0', '1740.0', '235.0', '861.0', '1890.0',\n",
       "       '2220.0', '792.0', '2070.0', '4130.0', '2250.0', '2240.0',\n",
       "       '1990.0', '768.0', '2550.0', '435.0', '1008.0', '2300.0', '2610.0',\n",
       "       '666.0', '3500.0', '172.0', '1816.0', '2190.0', '1245.0', '1525.0',\n",
       "       '1880.0', '862.0', '946.0', '1281.0', '414.0', '2180.0', '276.0',\n",
       "       '1248.0', '602.0', '516.0', '176.0', '225.0', '1275.0', '266.0',\n",
       "       '283.0', '65.0', '2310.0', '10.0', '1770.0', '2120.0', '295.0',\n",
       "       '207.0', '915.0', '556.0', '417.0', '143.0', '508.0', '2810.0',\n",
       "       '20.0', '274.0', '248.0'], dtype=object)"
      ]
     },
     "execution_count": 24,
     "metadata": {},
     "output_type": "execute_result"
    }
   ],
   "source": [
    "df_train['sqft_basement'].unique()"
   ]
  },
  {
   "cell_type": "code",
   "execution_count": 25,
   "metadata": {},
   "outputs": [
    {
     "data": {
      "text/plain": [
       "0.0       12826\n",
       "?           454\n",
       "600.0       217\n",
       "500.0       209\n",
       "700.0       208\n",
       "800.0       201\n",
       "400.0       184\n",
       "1000.0      148\n",
       "900.0       142\n",
       "300.0       142\n",
       "200.0       105\n",
       "750.0       104\n",
       "450.0       103\n",
       "480.0       103\n",
       "530.0       103\n",
       "720.0        98\n",
       "620.0        90\n",
       "580.0        84\n",
       "840.0        83\n",
       "420.0        81\n",
       "860.0        79\n",
       "670.0        78\n",
       "1100.0       78\n",
       "780.0        76\n",
       "550.0        76\n",
       "650.0        75\n",
       "240.0        74\n",
       "380.0        73\n",
       "680.0        73\n",
       "360.0        72\n",
       "          ...  \n",
       "556.0         1\n",
       "1930.0        1\n",
       "506.0         1\n",
       "875.0         1\n",
       "906.0         1\n",
       "1960.0        1\n",
       "1920.0        1\n",
       "274.0         1\n",
       "1798.0        1\n",
       "1284.0        1\n",
       "516.0         1\n",
       "1770.0        1\n",
       "2250.0        1\n",
       "792.0         1\n",
       "1880.0        1\n",
       "3260.0        1\n",
       "784.0         1\n",
       "2490.0        1\n",
       "3480.0        1\n",
       "588.0         1\n",
       "4820.0        1\n",
       "2300.0        1\n",
       "946.0         1\n",
       "266.0         1\n",
       "518.0         1\n",
       "602.0         1\n",
       "1548.0        1\n",
       "915.0         1\n",
       "1248.0        1\n",
       "243.0         1\n",
       "Name: sqft_basement, Length: 304, dtype: int64"
      ]
     },
     "execution_count": 25,
     "metadata": {},
     "output_type": "execute_result"
    }
   ],
   "source": [
    "df_train['sqft_basement'].value_counts()"
   ]
  },
  {
   "cell_type": "code",
   "execution_count": 26,
   "metadata": {},
   "outputs": [
    {
     "data": {
      "text/plain": [
       "0.0       12826\n",
       "600.0       217\n",
       "500.0       209\n",
       "700.0       208\n",
       "800.0       201\n",
       "400.0       184\n",
       "1000.0      148\n",
       "900.0       142\n",
       "300.0       142\n",
       "200.0       105\n",
       "750.0       104\n",
       "530.0       103\n",
       "450.0       103\n",
       "480.0       103\n",
       "720.0        98\n",
       "620.0        90\n",
       "580.0        84\n",
       "840.0        83\n",
       "420.0        81\n",
       "860.0        79\n",
       "670.0        78\n",
       "1100.0       78\n",
       "780.0        76\n",
       "550.0        76\n",
       "650.0        75\n",
       "240.0        74\n",
       "380.0        73\n",
       "680.0        73\n",
       "360.0        72\n",
       "850.0        72\n",
       "          ...  \n",
       "602.0         1\n",
       "2300.0        1\n",
       "946.0         1\n",
       "1281.0        1\n",
       "2580.0        1\n",
       "1930.0        1\n",
       "506.0         1\n",
       "176.0         1\n",
       "248.0         1\n",
       "1024.0        1\n",
       "65.0          1\n",
       "2240.0        1\n",
       "516.0         1\n",
       "1770.0        1\n",
       "2250.0        1\n",
       "1913.0        1\n",
       "1880.0        1\n",
       "3260.0        1\n",
       "2490.0        1\n",
       "518.0         1\n",
       "3480.0        1\n",
       "875.0         1\n",
       "792.0         1\n",
       "475.0         1\n",
       "1816.0        1\n",
       "588.0         1\n",
       "4820.0        1\n",
       "2050.0        1\n",
       "415.0         1\n",
       "2190.0        1\n",
       "Name: sqft_basement, Length: 303, dtype: int64"
      ]
     },
     "execution_count": 26,
     "metadata": {},
     "output_type": "execute_result"
    }
   ],
   "source": [
    "df_train = df_train[df_train.sqft_basement != '?'] # because '0' may mean no baesment, drop '?'\n",
    "df_train['sqft_basement'].value_counts()"
   ]
  },
  {
   "cell_type": "markdown",
   "metadata": {},
   "source": [
    "I have chosen to drop only the '?' place holder because we have no way of knowing whether the zero values are placeholders for missing information or simply an indication that the houses do not have basements, I am hesitant to remove them. "
   ]
  },
  {
   "cell_type": "code",
   "execution_count": 27,
   "metadata": {},
   "outputs": [],
   "source": [
    "df_train.sqft_basement = df_train.sqft_basement.astype('float').astype('int')  # changing the data type to an integer"
   ]
  },
  {
   "cell_type": "markdown",
   "metadata": {},
   "source": [
    "## <a id =\"exploring\"> Exploring the Data </a>"
   ]
  },
  {
   "cell_type": "code",
   "execution_count": 28,
   "metadata": {},
   "outputs": [],
   "source": [
    "import numpy as np  #this library helps with number crunching\n",
    "\n",
    "from scipy.stats import kurtosis, skew  #so does this one\n",
    "from sklearn.preprocessing import LabelEncoder"
   ]
  },
  {
   "cell_type": "markdown",
   "metadata": {},
   "source": [
    "#### <a id = \"distribution\" > How are housing prices distributed? </a>"
   ]
  },
  {
   "cell_type": "code",
   "execution_count": 29,
   "metadata": {},
   "outputs": [
    {
     "data": {
      "text/plain": [
       "count    2.114300e+04\n",
       "mean     5.405107e+05\n",
       "std      3.680751e+05\n",
       "min      7.800000e+04\n",
       "25%      3.220000e+05\n",
       "50%      4.500000e+05\n",
       "75%      6.450000e+05\n",
       "max      7.700000e+06\n",
       "Name: price, dtype: float64"
      ]
     },
     "execution_count": 29,
     "metadata": {},
     "output_type": "execute_result"
    }
   ],
   "source": [
    "df_train['price'].describe()"
   ]
  },
  {
   "cell_type": "code",
   "execution_count": 30,
   "metadata": {},
   "outputs": [
    {
     "data": {
      "text/plain": [
       "(450000.0, 0    350000.0\n",
       " dtype: float64)"
      ]
     },
     "execution_count": 30,
     "metadata": {},
     "output_type": "execute_result"
    }
   ],
   "source": [
    "df_train['price'].median(), df_train['price'].mode()"
   ]
  },
  {
   "cell_type": "markdown",
   "metadata": {},
   "source": [
    "The mean price is around 540,000 USD whereas the median and mode are 450,000 USD. Because the mean is much higher than the median and mode, we can say the price has positive skewness. There are houses being sold for higher-than-average value. Looking at the distribution will help us better understand the physical shape of the price data."
   ]
  },
  {
   "cell_type": "code",
   "execution_count": 31,
   "metadata": {},
   "outputs": [
    {
     "data": {
      "text/plain": [
       "<matplotlib.axes._subplots.AxesSubplot at 0x2711483a630>"
      ]
     },
     "execution_count": 31,
     "metadata": {},
     "output_type": "execute_result"
    },
    {
     "data": {
      "image/png": "[encoded data removed]",
      "text/plain": [
       "<Figure size 432x288 with 1 Axes>"
      ]
     },
     "metadata": {
      "needs_background": "light"
     },
     "output_type": "display_data"
    }
   ],
   "source": [
    "sns.distplot(df_train['price'])"
   ]
  },
  {
   "cell_type": "markdown",
   "metadata": {},
   "source": [
    "Leptokurtic distributions are characterized by tall, skinny vertical columns and long tails. At a glance, the prices appear to be leptokurtic, which indicates an excess of extreme values. "
   ]
  },
  {
   "cell_type": "code",
   "execution_count": 32,
   "metadata": {},
   "outputs": [
    {
     "data": {
      "text/plain": [
       "(4.035488891911525, 34.74268709331613)"
      ]
     },
     "execution_count": 32,
     "metadata": {},
     "output_type": "execute_result"
    }
   ],
   "source": [
    "skew(df_train['price']), kurtosis(df_train['price'])"
   ]
  },
  {
   "cell_type": "markdown",
   "metadata": {},
   "source": [
    "Skewness is a measure of asymmetry. Ideally, skewness would be near zero and indicate a normal distribution (\"bell curve\"). Our skewness it 4.1, which is rather high. Kurtosis measures the \"peak-ness\" of our distribution. Ideal kurtosis is around 3. Our kurtosis is 35.6. The graph is skewed so far as to have an extreme peak. This can be fixed with scaling and normalization, but before I do any normalizing, I would like to check correlations between features in the current data set. "
   ]
  },
  {
   "cell_type": "markdown",
   "metadata": {},
   "source": [
    "#### <a id = \"collinearity\"> How are the features related to one another? </a>"
   ]
  },
  {
   "cell_type": "code",
   "execution_count": 33,
   "metadata": {},
   "outputs": [],
   "source": [
    "# encode the categorical variables\n",
    "lb_make = LabelEncoder() # call sklearns's encoder function\n",
    "condition_encoded = lb_make.fit_transform(df_train['condition'])\n",
    "waterfront_encoded = lb_make.fit_transform(df_train['waterfront'])\n",
    "grade_encoded = lb_make.fit_transform(df_train['grade'])"
   ]
  },
  {
   "cell_type": "code",
   "execution_count": 34,
   "metadata": {
    "scrolled": true
   },
   "outputs": [
    {
     "data": {
      "image/png": "[encoded data removed]",
      "text/plain": [
       "<Figure size 1080x720 with 2 Axes>"
      ]
     },
     "metadata": {
      "needs_background": "light"
     },
     "output_type": "display_data"
    }
   ],
   "source": [
    "correlation_heatmap(df_train)"
   ]
  },
  {
   "cell_type": "code",
   "execution_count": 35,
   "metadata": {},
   "outputs": [],
   "source": [
    "#  function to remove unnecessary columns\n",
    "def drop_cols(columns, df):\n",
    "    return df.drop(columns, axis=1, inplace=True)"
   ]
  },
  {
   "cell_type": "markdown",
   "metadata": {},
   "source": [
    "Perfect correlation would be \"1\" and would show that the values are perfectly matched. \n",
    "\n",
    "In order to do Ordinary Lest Squares (OLS) regression, we need to eliminate multicollinearity (relationship between two variables, other than the target). Assuming a high correlation is .7 or above, I will eliminate sqft_living, which has a high correlation with multiple variables. This more or less solves the multicollinearity problem. "
   ]
  },
  {
   "cell_type": "code",
   "execution_count": 36,
   "metadata": {},
   "outputs": [],
   "source": [
    "drop_cols('sqft_living', df_train)"
   ]
  },
  {
   "cell_type": "markdown",
   "metadata": {},
   "source": [
    "Below are several distribution plots, as well as their skew and kurtosis. Both of these measures help us determine whether the data is normally distributed. High skew and kurtosis mean the data set needs to be normalized. "
   ]
  },
  {
   "cell_type": "code",
   "execution_count": 37,
   "metadata": {},
   "outputs": [
    {
     "data": {
      "text/plain": [
       "(0.5207301681970125, 1.2886571138771288)"
      ]
     },
     "execution_count": 37,
     "metadata": {},
     "output_type": "execute_result"
    },
    {
     "data": {
      "image/png": "[encoded data removed]",
      "text/plain": [
       "<Figure size 432x288 with 1 Axes>"
      ]
     },
     "metadata": {
      "needs_background": "light"
     },
     "output_type": "display_data"
    }
   ],
   "source": [
    "sns.distplot(df_train['bathrooms'])\n",
    "skew(df_train['bathrooms']), kurtosis(df_train['bathrooms'])"
   ]
  },
  {
   "cell_type": "code",
   "execution_count": 38,
   "metadata": {},
   "outputs": [
    {
     "data": {
      "text/plain": [
       "(1.1096351080605986, 1.6037642298508619)"
      ]
     },
     "execution_count": 38,
     "metadata": {},
     "output_type": "execute_result"
    },
    {
     "data": {
      "image/png": "[encoded data removed]",
      "text/plain": [
       "<Figure size 432x288 with 1 Axes>"
      ]
     },
     "metadata": {
      "needs_background": "light"
     },
     "output_type": "display_data"
    }
   ],
   "source": [
    "sns.distplot(df_train['sqft_living15'])\n",
    "skew(df_train['sqft_living15']), kurtosis(df_train['sqft_living15'])"
   ]
  },
  {
   "cell_type": "code",
   "execution_count": 39,
   "metadata": {
    "scrolled": false
   },
   "outputs": [
    {
     "data": {
      "text/plain": [
       "(0.7916276064595356, 1.1439923740456344)"
      ]
     },
     "execution_count": 39,
     "metadata": {},
     "output_type": "execute_result"
    },
    {
     "data": {
      "image/png": "[encoded data removed]",
      "text/plain": [
       "<Figure size 432x288 with 1 Axes>"
      ]
     },
     "metadata": {
      "needs_background": "light"
     },
     "output_type": "display_data"
    }
   ],
   "source": [
    "sns.distplot(df_train['grade'])\n",
    "skew(df_train['grade']), kurtosis(df_train['grade'])"
   ]
  },
  {
   "cell_type": "code",
   "execution_count": 40,
   "metadata": {
    "scrolled": true
   },
   "outputs": [
    {
     "data": {
      "text/plain": [
       "(1.4540374944526482, 3.444317088510621)"
      ]
     },
     "execution_count": 40,
     "metadata": {},
     "output_type": "execute_result"
    },
    {
     "data": {
      "image/png": "[encoded data removed]",
      "text/plain": [
       "<Figure size 432x288 with 1 Axes>"
      ]
     },
     "metadata": {
      "needs_background": "light"
     },
     "output_type": "display_data"
    }
   ],
   "source": [
    "sns.distplot(df_train['sqft_above'])\n",
    "skew(df_train['sqft_above']), kurtosis(df_train['sqft_above'])"
   ]
  },
  {
   "cell_type": "code",
   "execution_count": 41,
   "metadata": {
    "scrolled": false
   },
   "outputs": [
    {
     "data": {
      "text/plain": [
       "<matplotlib.axes._subplots.AxesSubplot at 0x27114d804a8>"
      ]
     },
     "execution_count": 41,
     "metadata": {},
     "output_type": "execute_result"
    },
    {
     "data": {
      "image/png": "[encoded data removed]",
      "text/plain": [
       "<Figure size 432x288 with 1 Axes>"
      ]
     },
     "metadata": {
      "needs_background": "light"
     },
     "output_type": "display_data"
    }
   ],
   "source": [
    "sns.distplot(df_train['view'])"
   ]
  },
  {
   "cell_type": "markdown",
   "metadata": {},
   "source": [
    "## <a id = \"modeling\"> Modeling the Data </a>"
   ]
  },
  {
   "cell_type": "code",
   "execution_count": 42,
   "metadata": {},
   "outputs": [],
   "source": [
    "import statsmodels.api as sm  # used to build statistical models\n",
    "import statsmodels.formula.api as smf # get the formulas\n",
    "\n",
    "from statsmodels.formula.api import ols # ordinary least squares library\n",
    "from sklearn.feature_selection import RFE  # recursive feature elimination: selects features\n",
    "                                            # by considering smaller and smaller set \n",
    "from sklearn import linear_model\n",
    "from sklearn.linear_model import LinearRegression \n",
    "from sklearn.preprocessing import LabelEncoder  # encodes categorical variables and retains numerical analysis\n",
    "from sklearn.model_selection import train_test_split # tests subsets of the data\n",
    "from sklearn.metrics import mean_squared_error # avg of sqr of error. e.g how \"correct\" our model is\n",
    "from sklearn.model_selection import cross_val_score # assess how model will generalize to an independent data set\n",
    "from sklearn.cross_decomposition import PLSRegression\n",
    "from sklearn.metrics import mean_squared_error, r2_score"
   ]
  },
  {
   "cell_type": "markdown",
   "metadata": {},
   "source": [
    "### <a id = \"normalizing\"> Normalizing the Data </a>"
   ]
  },
  {
   "cell_type": "code",
   "execution_count": 43,
   "metadata": {},
   "outputs": [],
   "source": [
    "# normalizing and scaling the values and saving them to a new DataFrame\n",
    "df_normal = pd.DataFrame([])\n",
    "df_normal['bathrooms_norm'] = np.log(df_train['bathrooms'])\n",
    "df_normal['sqft_living15_norm'] = np.log(df_train['sqft_living15'])\n",
    "df_normal['sqft_above_norm'] = np.log(df_train['sqft_above'])\n",
    "df_normal['grade_norm'] = np.log(df_train['grade'])"
   ]
  },
  {
   "cell_type": "code",
   "execution_count": 44,
   "metadata": {},
   "outputs": [],
   "source": [
    "df_normal['price']= df_train['price'] #adding the non-normalized price to the data frame"
   ]
  },
  {
   "cell_type": "code",
   "execution_count": 45,
   "metadata": {},
   "outputs": [],
   "source": [
    "df_normal['price_norm'] = np.log(df_train['price']) #adding the normalized price"
   ]
  },
  {
   "cell_type": "code",
   "execution_count": 46,
   "metadata": {},
   "outputs": [
    {
     "data": {
      "text/plain": [
       "<matplotlib.axes._subplots.AxesSubplot at 0x271168d3be0>"
      ]
     },
     "execution_count": 46,
     "metadata": {},
     "output_type": "execute_result"
    },
    {
     "data": {
      "image/png": "[encoded data removed]",
      "text/plain": [
       "<Figure size 432x288 with 1 Axes>"
      ]
     },
     "metadata": {
      "needs_background": "light"
     },
     "output_type": "display_data"
    }
   ],
   "source": [
    "# looking at the new, normalized distribution.\n",
    "sns.distplot(df_normal['sqft_living15_norm'])"
   ]
  },
  {
   "cell_type": "markdown",
   "metadata": {},
   "source": [
    "In order to normalize the features, I did a log transform."
   ]
  },
  {
   "cell_type": "code",
   "execution_count": 47,
   "metadata": {},
   "outputs": [
    {
     "data": {
      "text/html": [
       "<div>\n",
       "<style scoped>\n",
       "    .dataframe tbody tr th:only-of-type {\n",
       "        vertical-align: middle;\n",
       "    }\n",
       "\n",
       "    .dataframe tbody tr th {\n",
       "        vertical-align: top;\n",
       "    }\n",
       "\n",
       "    .dataframe thead th {\n",
       "        text-align: right;\n",
       "    }\n",
       "</style>\n",
       "<table border=\"1\" class=\"dataframe\">\n",
       "  <thead>\n",
       "    <tr style=\"text-align: right;\">\n",
       "      <th></th>\n",
       "      <th>bathrooms_norm</th>\n",
       "      <th>sqft_living15_norm</th>\n",
       "      <th>sqft_above_norm</th>\n",
       "      <th>grade_norm</th>\n",
       "      <th>price</th>\n",
       "      <th>price_norm</th>\n",
       "    </tr>\n",
       "  </thead>\n",
       "  <tbody>\n",
       "    <tr>\n",
       "      <th>0</th>\n",
       "      <td>0.000000</td>\n",
       "      <td>7.200425</td>\n",
       "      <td>7.073270</td>\n",
       "      <td>1.945910</td>\n",
       "      <td>221900.0</td>\n",
       "      <td>12.309982</td>\n",
       "    </tr>\n",
       "    <tr>\n",
       "      <th>1</th>\n",
       "      <td>0.810930</td>\n",
       "      <td>7.432484</td>\n",
       "      <td>7.682482</td>\n",
       "      <td>1.945910</td>\n",
       "      <td>538000.0</td>\n",
       "      <td>13.195614</td>\n",
       "    </tr>\n",
       "    <tr>\n",
       "      <th>2</th>\n",
       "      <td>0.000000</td>\n",
       "      <td>7.908387</td>\n",
       "      <td>6.646391</td>\n",
       "      <td>1.791759</td>\n",
       "      <td>180000.0</td>\n",
       "      <td>12.100712</td>\n",
       "    </tr>\n",
       "    <tr>\n",
       "      <th>3</th>\n",
       "      <td>1.098612</td>\n",
       "      <td>7.215240</td>\n",
       "      <td>6.956545</td>\n",
       "      <td>1.945910</td>\n",
       "      <td>604000.0</td>\n",
       "      <td>13.311329</td>\n",
       "    </tr>\n",
       "    <tr>\n",
       "      <th>4</th>\n",
       "      <td>0.693147</td>\n",
       "      <td>7.495542</td>\n",
       "      <td>7.426549</td>\n",
       "      <td>2.079442</td>\n",
       "      <td>510000.0</td>\n",
       "      <td>13.142166</td>\n",
       "    </tr>\n",
       "  </tbody>\n",
       "</table>\n",
       "</div>"
      ],
      "text/plain": [
       "   bathrooms_norm  sqft_living15_norm  sqft_above_norm  grade_norm     price  \\\n",
       "0        0.000000            7.200425         7.073270    1.945910  221900.0   \n",
       "1        0.810930            7.432484         7.682482    1.945910  538000.0   \n",
       "2        0.000000            7.908387         6.646391    1.791759  180000.0   \n",
       "3        1.098612            7.215240         6.956545    1.945910  604000.0   \n",
       "4        0.693147            7.495542         7.426549    2.079442  510000.0   \n",
       "\n",
       "   price_norm  \n",
       "0   12.309982  \n",
       "1   13.195614  \n",
       "2   12.100712  \n",
       "3   13.311329  \n",
       "4   13.142166  "
      ]
     },
     "execution_count": 47,
     "metadata": {},
     "output_type": "execute_result"
    }
   ],
   "source": [
    "df_normal.head()"
   ]
  },
  {
   "cell_type": "markdown",
   "metadata": {},
   "source": [
    "The .head() shows us out new dataframe. The .describe() shows the new summary statistics."
   ]
  },
  {
   "cell_type": "code",
   "execution_count": 48,
   "metadata": {},
   "outputs": [
    {
     "data": {
      "text/html": [
       "<div>\n",
       "<style scoped>\n",
       "    .dataframe tbody tr th:only-of-type {\n",
       "        vertical-align: middle;\n",
       "    }\n",
       "\n",
       "    .dataframe tbody tr th {\n",
       "        vertical-align: top;\n",
       "    }\n",
       "\n",
       "    .dataframe thead th {\n",
       "        text-align: right;\n",
       "    }\n",
       "</style>\n",
       "<table border=\"1\" class=\"dataframe\">\n",
       "  <thead>\n",
       "    <tr style=\"text-align: right;\">\n",
       "      <th></th>\n",
       "      <th>bathrooms_norm</th>\n",
       "      <th>sqft_living15_norm</th>\n",
       "      <th>sqft_above_norm</th>\n",
       "      <th>grade_norm</th>\n",
       "      <th>price</th>\n",
       "      <th>price_norm</th>\n",
       "    </tr>\n",
       "  </thead>\n",
       "  <tbody>\n",
       "    <tr>\n",
       "      <th>count</th>\n",
       "      <td>21143.000000</td>\n",
       "      <td>21143.000000</td>\n",
       "      <td>21143.000000</td>\n",
       "      <td>21143.000000</td>\n",
       "      <td>2.114300e+04</td>\n",
       "      <td>21143.000000</td>\n",
       "    </tr>\n",
       "    <tr>\n",
       "      <th>mean</th>\n",
       "      <td>0.677864</td>\n",
       "      <td>7.539816</td>\n",
       "      <td>7.395423</td>\n",
       "      <td>2.024487</td>\n",
       "      <td>5.405107e+05</td>\n",
       "      <td>13.048427</td>\n",
       "    </tr>\n",
       "    <tr>\n",
       "      <th>std</th>\n",
       "      <td>0.392122</td>\n",
       "      <td>0.327437</td>\n",
       "      <td>0.427014</td>\n",
       "      <td>0.149441</td>\n",
       "      <td>3.680751e+05</td>\n",
       "      <td>0.526654</td>\n",
       "    </tr>\n",
       "    <tr>\n",
       "      <th>min</th>\n",
       "      <td>-0.693147</td>\n",
       "      <td>5.988961</td>\n",
       "      <td>5.913503</td>\n",
       "      <td>1.098612</td>\n",
       "      <td>7.800000e+04</td>\n",
       "      <td>11.264464</td>\n",
       "    </tr>\n",
       "    <tr>\n",
       "      <th>25%</th>\n",
       "      <td>0.559616</td>\n",
       "      <td>7.306531</td>\n",
       "      <td>7.090077</td>\n",
       "      <td>1.945910</td>\n",
       "      <td>3.220000e+05</td>\n",
       "      <td>12.682307</td>\n",
       "    </tr>\n",
       "    <tr>\n",
       "      <th>50%</th>\n",
       "      <td>0.810930</td>\n",
       "      <td>7.517521</td>\n",
       "      <td>7.352441</td>\n",
       "      <td>1.945910</td>\n",
       "      <td>4.500000e+05</td>\n",
       "      <td>13.017003</td>\n",
       "    </tr>\n",
       "    <tr>\n",
       "      <th>75%</th>\n",
       "      <td>0.916291</td>\n",
       "      <td>7.766417</td>\n",
       "      <td>7.700748</td>\n",
       "      <td>2.079442</td>\n",
       "      <td>6.450000e+05</td>\n",
       "      <td>13.377006</td>\n",
       "    </tr>\n",
       "    <tr>\n",
       "      <th>max</th>\n",
       "      <td>2.079442</td>\n",
       "      <td>8.733916</td>\n",
       "      <td>9.149528</td>\n",
       "      <td>2.564949</td>\n",
       "      <td>7.700000e+06</td>\n",
       "      <td>15.856731</td>\n",
       "    </tr>\n",
       "  </tbody>\n",
       "</table>\n",
       "</div>"
      ],
      "text/plain": [
       "       bathrooms_norm  sqft_living15_norm  sqft_above_norm    grade_norm  \\\n",
       "count    21143.000000        21143.000000     21143.000000  21143.000000   \n",
       "mean         0.677864            7.539816         7.395423      2.024487   \n",
       "std          0.392122            0.327437         0.427014      0.149441   \n",
       "min         -0.693147            5.988961         5.913503      1.098612   \n",
       "25%          0.559616            7.306531         7.090077      1.945910   \n",
       "50%          0.810930            7.517521         7.352441      1.945910   \n",
       "75%          0.916291            7.766417         7.700748      2.079442   \n",
       "max          2.079442            8.733916         9.149528      2.564949   \n",
       "\n",
       "              price    price_norm  \n",
       "count  2.114300e+04  21143.000000  \n",
       "mean   5.405107e+05     13.048427  \n",
       "std    3.680751e+05      0.526654  \n",
       "min    7.800000e+04     11.264464  \n",
       "25%    3.220000e+05     12.682307  \n",
       "50%    4.500000e+05     13.017003  \n",
       "75%    6.450000e+05     13.377006  \n",
       "max    7.700000e+06     15.856731  "
      ]
     },
     "execution_count": 48,
     "metadata": {},
     "output_type": "execute_result"
    }
   ],
   "source": [
    "df_normal.describe()"
   ]
  },
  {
   "cell_type": "code",
   "execution_count": 49,
   "metadata": {},
   "outputs": [],
   "source": [
    "df_non_norm = pd.DataFrame() #creating a subset of features that have not been normalized for comparison\n",
    "df_non_norm['price'] = df_train['price']\n",
    "df_non_norm['bathrooms'] = df_train['bathrooms']\n",
    "df_non_norm['sqft_living15'] = df_train['sqft_living15']\n",
    "df_non_norm['sqft_above'] = df_train['sqft_above']\n",
    "df_non_norm['grade'] = df_train['grade']"
   ]
  },
  {
   "cell_type": "code",
   "execution_count": 50,
   "metadata": {
    "scrolled": true
   },
   "outputs": [
    {
     "data": {
      "text/html": [
       "<div>\n",
       "<style scoped>\n",
       "    .dataframe tbody tr th:only-of-type {\n",
       "        vertical-align: middle;\n",
       "    }\n",
       "\n",
       "    .dataframe tbody tr th {\n",
       "        vertical-align: top;\n",
       "    }\n",
       "\n",
       "    .dataframe thead th {\n",
       "        text-align: right;\n",
       "    }\n",
       "</style>\n",
       "<table border=\"1\" class=\"dataframe\">\n",
       "  <thead>\n",
       "    <tr style=\"text-align: right;\">\n",
       "      <th></th>\n",
       "      <th>price</th>\n",
       "      <th>bathrooms</th>\n",
       "      <th>sqft_living15</th>\n",
       "      <th>sqft_above</th>\n",
       "      <th>grade</th>\n",
       "    </tr>\n",
       "  </thead>\n",
       "  <tbody>\n",
       "    <tr>\n",
       "      <th>0</th>\n",
       "      <td>221900.0</td>\n",
       "      <td>1.00</td>\n",
       "      <td>1340</td>\n",
       "      <td>1180</td>\n",
       "      <td>7</td>\n",
       "    </tr>\n",
       "    <tr>\n",
       "      <th>1</th>\n",
       "      <td>538000.0</td>\n",
       "      <td>2.25</td>\n",
       "      <td>1690</td>\n",
       "      <td>2170</td>\n",
       "      <td>7</td>\n",
       "    </tr>\n",
       "    <tr>\n",
       "      <th>2</th>\n",
       "      <td>180000.0</td>\n",
       "      <td>1.00</td>\n",
       "      <td>2720</td>\n",
       "      <td>770</td>\n",
       "      <td>6</td>\n",
       "    </tr>\n",
       "    <tr>\n",
       "      <th>3</th>\n",
       "      <td>604000.0</td>\n",
       "      <td>3.00</td>\n",
       "      <td>1360</td>\n",
       "      <td>1050</td>\n",
       "      <td>7</td>\n",
       "    </tr>\n",
       "    <tr>\n",
       "      <th>4</th>\n",
       "      <td>510000.0</td>\n",
       "      <td>2.00</td>\n",
       "      <td>1800</td>\n",
       "      <td>1680</td>\n",
       "      <td>8</td>\n",
       "    </tr>\n",
       "  </tbody>\n",
       "</table>\n",
       "</div>"
      ],
      "text/plain": [
       "      price  bathrooms  sqft_living15  sqft_above  grade\n",
       "0  221900.0       1.00           1340        1180      7\n",
       "1  538000.0       2.25           1690        2170      7\n",
       "2  180000.0       1.00           2720         770      6\n",
       "3  604000.0       3.00           1360        1050      7\n",
       "4  510000.0       2.00           1800        1680      8"
      ]
     },
     "execution_count": 50,
     "metadata": {},
     "output_type": "execute_result"
    }
   ],
   "source": [
    "df_non_norm.head()"
   ]
  },
  {
   "cell_type": "markdown",
   "metadata": {},
   "source": [
    "### <a id = \"ols\"> Ordinary Least Squares Regression </a>"
   ]
  },
  {
   "cell_type": "code",
   "execution_count": 51,
   "metadata": {},
   "outputs": [],
   "source": [
    "def quick_ols(DataFrame = None, target = None):  #formula to run ordinary least squares\n",
    "    col_names = DataFrame.describe().columns.drop([target])\n",
    "    results = [['ind_var', 'r_squared', 'intercept', 'slope', 'p-value' ]]\n",
    "    for idx, val in enumerate(col_names):\n",
    "        print (\"Housing: {}~\".format(target) + val)\n",
    "        print (\"------------------------------\")\n",
    "\n",
    "        f = '{}~'.format(target) + val\n",
    "        model = smf.ols(formula=f, data=DataFrame).fit()\n",
    "        X_new = pd.DataFrame({val: [DataFrame[val].min(), DataFrame[val].max()]});\n",
    "        preds = model.predict(X_new)\n",
    "        results.append([val, model.rsquared, model.params[0], model.params[1], model.pvalues[1] ])\n",
    "        print(results[idx+1])"
   ]
  },
  {
   "cell_type": "markdown",
   "metadata": {},
   "source": [
    "The below lists of values are the result of Ordinary Least Squares regression. I used them as a way to quickly compare my features of interest. The object was to find the highest r-squared value and the lowest p-value. "
   ]
  },
  {
   "cell_type": "code",
   "execution_count": 52,
   "metadata": {
    "scrolled": false
   },
   "outputs": [
    {
     "name": "stdout",
     "output_type": "stream",
     "text": [
      "Housing: price_norm~bathrooms_norm\n",
      "------------------------------\n",
      "['bathrooms_norm', 0.27016869749182615, 12.575205858973003, 0.6981064616798265, 0.0]\n",
      "Housing: price_norm~sqft_living15_norm\n",
      "------------------------------\n",
      "['sqft_living15_norm', 0.3696092854084373, 5.675674013113803, 0.9778425630323332, 0.0]\n",
      "Housing: price_norm~sqft_above_norm\n",
      "------------------------------\n",
      "['sqft_above_norm', 0.3430595932470991, 7.706088773310776, 0.7223843635957179, 0.0]\n",
      "Housing: price_norm~grade_norm\n",
      "------------------------------\n",
      "['grade_norm', 0.4809563811891998, 8.100490705556899, 2.4440442610239335, 0.0]\n",
      "Housing: price_norm~price\n",
      "------------------------------\n",
      "['price', 0.7949787476640287, 12.358867935032094, 1.275754315612067e-06, 0.0]\n"
     ]
    }
   ],
   "source": [
    "quick_ols(df_normal, 'price_norm')"
   ]
  },
  {
   "cell_type": "code",
   "execution_count": 53,
   "metadata": {
    "scrolled": true
   },
   "outputs": [
    {
     "name": "stdout",
     "output_type": "stream",
     "text": [
      "Housing: price~bathrooms\n",
      "------------------------------\n",
      "['bathrooms', 0.2765590820157299, 7543.027212929315, 251865.7380241959, 0.0]\n",
      "Housing: price~sqft_living15\n",
      "------------------------------\n",
      "['sqft_living15', 0.34388281695646883, -85070.13039624477, 314.79387312341316, 0.0]\n",
      "Housing: price~sqft_above\n",
      "------------------------------\n",
      "['sqft_above', 0.36619760286513114, 59476.448393188584, 268.874077714709, 0.0]\n",
      "Housing: price~grade\n",
      "------------------------------\n",
      "['grade', 0.44587388409323325, -1062409.7098533665, 209305.5589858494, 0.0]\n"
     ]
    }
   ],
   "source": [
    "quick_ols(df_non_norm, 'price')"
   ]
  },
  {
   "cell_type": "markdown",
   "metadata": {},
   "source": [
    "Based on the two regressions above, grade seems to be the highest predictor of price, followed by square footage and bathrooms. This is confirmed when we use OLS for the entire training data set. Looking at the other r-squared values, we also see that these four variables are the strongest predictors of price overall. "
   ]
  },
  {
   "cell_type": "code",
   "execution_count": 54,
   "metadata": {
    "scrolled": false
   },
   "outputs": [
    {
     "name": "stdout",
     "output_type": "stream",
     "text": [
      "Housing: price~id\n",
      "------------------------------\n",
      "['id', 0.0002495087385449013, 549770.525853815, -2.0213468316700443e-06, 0.021628847150151783]\n",
      "Housing: price~bedrooms\n",
      "------------------------------\n",
      "['bedrooms', 0.10021824588099015, 105105.30020456141, 129154.68765275997, 0.0]\n",
      "Housing: price~bathrooms\n",
      "------------------------------\n",
      "['bathrooms', 0.2765590820157299, 7543.027212929315, 251865.7380241959, 0.0]\n",
      "Housing: price~sqft_lot\n",
      "------------------------------\n",
      "['sqft_lot', 0.007732844956811813, 528660.7173043663, 0.7854379181700802, 1.4301826266154853e-37]\n",
      "Housing: price~floors\n",
      "------------------------------\n",
      "['floors', 0.06571765932410922, 279162.5416092528, 174979.72363772013, 0.0]\n",
      "Housing: price~waterfront\n",
      "------------------------------\n",
      "['waterfront', 0.07733105362197934, 532791.3767549028, 1198228.6936676265, 0.0]\n",
      "Housing: price~view\n",
      "------------------------------\n",
      "['view', 0.15774906044067227, 495824.84238024266, 190385.36652566004, 0.0]\n",
      "Housing: price~condition\n",
      "------------------------------\n",
      "['condition', 0.0012453829324997612, 472420.27986488945, 19968.324634052376, 2.8564209963952274e-07]\n",
      "Housing: price~grade\n",
      "------------------------------\n",
      "['grade', 0.44587388409323325, -1062409.7098533665, 209305.5589858494, 0.0]\n",
      "Housing: price~sqft_above\n",
      "------------------------------\n",
      "['sqft_above', 0.36619760286513114, 59476.448393188584, 268.874077714709, 0.0]\n",
      "Housing: price~sqft_basement\n",
      "------------------------------\n",
      "['sqft_basement', 0.1056299556096223, 461610.08017230255, 270.34497580016784, 0.0]\n",
      "Housing: price~yr_built\n",
      "------------------------------\n",
      "['yr_built', 0.0029658222528887723, -806924.8862351938, 683.6223937217676, 2.2971526031428418e-15]\n",
      "Housing: price~yr_renovated\n",
      "------------------------------\n",
      "['yr_renovated', 0.016442251014418985, 531057.1735947694, 119.11334005513942, 1.1966856995621756e-64]\n",
      "Housing: price~zipcode\n",
      "------------------------------\n",
      "['zipcode', 0.002826651821038917, 36391375.17966623, -365.53470071247335, 1.0281510998637168e-14]\n",
      "Housing: price~lat\n",
      "------------------------------\n",
      "['lat', 0.09394655450758771, -38174984.02683088, 814030.0956141348, 0.0]\n",
      "Housing: price~long\n",
      "------------------------------\n",
      "['long', 0.0004884341948970805, 7611560.84318621, 57857.99721577043, 0.001310082531477385]\n",
      "Housing: price~sqft_living15\n",
      "------------------------------\n",
      "['sqft_living15', 0.34388281695646883, -85070.13039624477, 314.79387312341316, 0.0]\n",
      "Housing: price~sqft_lot15\n",
      "------------------------------\n",
      "['sqft_lot15', 0.0066293167320826685, 525644.524396893, 1.170440547835673, 1.974160976677724e-32]\n"
     ]
    }
   ],
   "source": [
    "quick_ols(df_train, 'price')"
   ]
  },
  {
   "cell_type": "markdown",
   "metadata": {},
   "source": [
    "### <a id = \"RFE\">Linear Regression via RFE </a>"
   ]
  },
  {
   "cell_type": "code",
   "execution_count": 55,
   "metadata": {},
   "outputs": [
    {
     "name": "stdout",
     "output_type": "stream",
     "text": [
      "0.4824973228128735\n",
      "0.48239939440390633\n",
      "0.4824973228128735\n",
      "0.48239939440390633\n",
      "0.4824973228128735\n",
      "0.48239939440390633\n",
      "0.4824973228128735\n",
      "0.48239939440390633\n",
      "0.4824973228128735\n",
      "0.48239939440390633\n"
     ]
    }
   ],
   "source": [
    "X = df_non_norm.drop(['price'], axis = 1)\n",
    "y = df_normal.price\n",
    "\n",
    "linreg = LinearRegression()  # calling on an sklearn function\n",
    "r_list = []  # explain r:\n",
    "adj_r_list = [] # explain adjusted r: \n",
    "list_n = list(range(5,51,10))\n",
    "\n",
    "for n in list_n: \n",
    "        select_n = RFE(linreg, n_features_to_select = n)\n",
    "        select_n = select_n.fit(X, np.ravel(y))\n",
    "        selected_columns = X.columns[select_n.support_ ]\n",
    "        linreg.fit(X[selected_columns],y)\n",
    "        yhat = linreg.predict(X[selected_columns])\n",
    "        SS_Residual = np.sum((y-yhat)**2)\n",
    "        SS_Total = np.sum((y-np.mean(y))**2)\n",
    "        r_squared = 1 - (float(SS_Residual))/SS_Total\n",
    "\n",
    "        print(r_squared)\n",
    "        adjusted_r_squared = 1 - (1-r_squared)*(len(y)-1)/(len(y)-X.shape[1]-1)\n",
    "        print(adjusted_r_squared)\n",
    "    \n",
    "r_list.append(r_squared)\n",
    "adj_r_list.append(adjusted_r_squared)\n"
   ]
  },
  {
   "cell_type": "code",
   "execution_count": 56,
   "metadata": {},
   "outputs": [
    {
     "name": "stdout",
     "output_type": "stream",
     "text": [
      "70988461894.52885\n",
      "66632758302.494446\n",
      "70988461894.52885\n",
      "66632758302.494446\n",
      "70988461894.52885\n",
      "66632758302.494446\n",
      "70988461894.52885\n",
      "66632758302.494446\n",
      "70988461894.52885\n",
      "66632758302.494446\n"
     ]
    }
   ],
   "source": [
    "X = df_non_norm.drop(['price'], axis = 1)\n",
    "y = df_non_norm.price\n",
    "   \n",
    "X_train, X_test, y_train, y_test = train_test_split(X, y, test_size = 0.2, random_state=3)\n",
    "MSE_test = []\n",
    "MSE_train = []\n",
    "list_n = list(range(5,51,10))\n",
    "for n in list_n: \n",
    "        select_n = RFE(linreg, n_features_to_select = n)\n",
    "        select_n = select_n.fit(X_train, np.ravel(y_train))\n",
    "        selected_columns = X.columns[select_n.support_ ]\n",
    "        linreg.fit(X_train[selected_columns],y_train)\n",
    "        yhat_train = linreg.predict(X_train[selected_columns])\n",
    "        yhat_test = linreg.predict(X_test[selected_columns])\n",
    "        mse_train = np.sum((y_train-yhat_train)**2)/len(y_train)\n",
    "        mse_test =np.sum((y_test-yhat_test)**2)/len(y_test)\n",
    "        print(mse_train)\n",
    "        print(mse_test)\n",
    "MSE_test.append(mse_test)\n",
    "MSE_train.append(mse_train)"
   ]
  },
  {
   "cell_type": "code",
   "execution_count": 57,
   "metadata": {},
   "outputs": [
    {
     "data": {
      "text/plain": [
       "array([-7.99200875e+10, -8.25585136e+10, -6.10185334e+10, -8.36993451e+10,\n",
       "       -6.46162242e+10, -6.16844175e+10, -6.19163056e+10, -6.53755504e+10,\n",
       "       -7.00369676e+10, -7.35724693e+10])"
      ]
     },
     "execution_count": 57,
     "metadata": {},
     "output_type": "execute_result"
    }
   ],
   "source": [
    "pred_50 = RFE(linreg, n_features_to_select = 85)\n",
    "pred_50 = select_n.fit(X, np.ravel(y))\n",
    "selected_columns = X.columns[select_n.support_]\n",
    "\n",
    "cv_10_results = cross_val_score(linreg, X[selected_columns], y, cv=10, scoring=\"neg_mean_squared_error\")\n",
    "\n",
    "cv_10_results"
   ]
  },
  {
   "cell_type": "code",
   "execution_count": 58,
   "metadata": {},
   "outputs": [
    {
     "name": "stdout",
     "output_type": "stream",
     "text": [
      "The r-value is 0.6968500556073738.\n"
     ]
    },
    {
     "data": {
      "image/png": "[encoded data removed]",
      "text/plain": [
       "<Figure size 432x288 with 1 Axes>"
      ]
     },
     "metadata": {
      "needs_background": "light"
     },
     "output_type": "display_data"
    }
   ],
   "source": [
    "sns.regplot(x=df_non_norm['sqft_living15'], y=df_non_norm['price'], ci=95)\n",
    "import math\n",
    "sqft_liv_r_val = math.sqrt(0.4856)\n",
    "print(\"The r-value is {}.\".format(sqft_liv_r_val))"
   ]
  },
  {
   "cell_type": "code",
   "execution_count": 59,
   "metadata": {
    "scrolled": true
   },
   "outputs": [
    {
     "name": "stdout",
     "output_type": "stream",
     "text": [
      "The r-value is 0.7048404074682438.\n"
     ]
    },
    {
     "data": {
      "image/png": "[encoded data removed]",
      "text/plain": [
       "<Figure size 432x288 with 1 Axes>"
      ]
     },
     "metadata": {
      "needs_background": "light"
     },
     "output_type": "display_data"
    }
   ],
   "source": [
    "sns.regplot(x=df_non_norm['grade'], y=df_non_norm['price'], ci=95)\n",
    "grade_r_val = math.sqrt(0.4968)\n",
    "print(\"The r-value is {}.\".format(grade_r_val))"
   ]
  },
  {
   "cell_type": "code",
   "execution_count": 60,
   "metadata": {
    "scrolled": true
   },
   "outputs": [
    {
     "name": "stdout",
     "output_type": "stream",
     "text": [
      "The r-value is 0.7048404074682438.\n"
     ]
    },
    {
     "data": {
      "image/png": "[encoded data removed]",
      "text/plain": [
       "<Figure size 432x288 with 1 Axes>"
      ]
     },
     "metadata": {
      "needs_background": "light"
     },
     "output_type": "display_data"
    }
   ],
   "source": [
    "sns.regplot(x=df_non_norm['sqft_above'], y=df_non_norm['price'], ci=95)\n",
    "grade_r_val = math.sqrt(0.4968)\n",
    "print(\"The r-value is {}.\".format(grade_r_val))"
   ]
  },
  {
   "cell_type": "code",
   "execution_count": 61,
   "metadata": {},
   "outputs": [
    {
     "name": "stdout",
     "output_type": "stream",
     "text": [
      "The r-value is 0.7048404074682438.\n"
     ]
    },
    {
     "data": {
      "image/png": "[encoded data removed]",
      "text/plain": [
       "<Figure size 432x288 with 1 Axes>"
      ]
     },
     "metadata": {
      "needs_background": "light"
     },
     "output_type": "display_data"
    }
   ],
   "source": [
    "sns.regplot(x=df_non_norm['bathrooms'], y=df_non_norm['price'], ci=95)\n",
    "grade_r_val = math.sqrt(0.4968)\n",
    "print(\"The r-value is {}.\".format(grade_r_val))"
   ]
  },
  {
   "cell_type": "markdown",
   "metadata": {},
   "source": [
    "The above is simple linear regression. Now That I have chosen my features, I would like to see the model with multiple linear regression."
   ]
  },
  {
   "cell_type": "code",
   "execution_count": 62,
   "metadata": {},
   "outputs": [
    {
     "data": {
      "text/html": [
       "<table class=\"simpletable\">\n",
       "<caption>OLS Regression Results</caption>\n",
       "<tr>\n",
       "  <th>Dep. Variable:</th>          <td>price</td>      <th>  R-squared:         </th>  <td>   0.477</td>  \n",
       "</tr>\n",
       "<tr>\n",
       "  <th>Model:</th>                   <td>OLS</td>       <th>  Adj. R-squared:    </th>  <td>   0.477</td>  \n",
       "</tr>\n",
       "<tr>\n",
       "  <th>Method:</th>             <td>Least Squares</td>  <th>  F-statistic:       </th>  <td>   6430.</td>  \n",
       "</tr>\n",
       "<tr>\n",
       "  <th>Date:</th>             <td>Mon, 24 Jun 2019</td> <th>  Prob (F-statistic):</th>   <td>  0.00</td>   \n",
       "</tr>\n",
       "<tr>\n",
       "  <th>Time:</th>                 <td>13:31:53</td>     <th>  Log-Likelihood:    </th> <td>-2.9412e+05</td>\n",
       "</tr>\n",
       "<tr>\n",
       "  <th>No. Observations:</th>      <td> 21143</td>      <th>  AIC:               </th>  <td>5.882e+05</td> \n",
       "</tr>\n",
       "<tr>\n",
       "  <th>Df Residuals:</th>          <td> 21139</td>      <th>  BIC:               </th>  <td>5.883e+05</td> \n",
       "</tr>\n",
       "<tr>\n",
       "  <th>Df Model:</th>              <td>     3</td>      <th>                     </th>      <td> </td>     \n",
       "</tr>\n",
       "<tr>\n",
       "  <th>Covariance Type:</th>      <td>nonrobust</td>    <th>                     </th>      <td> </td>     \n",
       "</tr>\n",
       "</table>\n",
       "<table class=\"simpletable\">\n",
       "<tr>\n",
       "        <td></td>           <th>coef</th>     <th>std err</th>      <th>t</th>      <th>P>|t|</th>  <th>[0.025</th>    <th>0.975]</th>  \n",
       "</tr>\n",
       "<tr>\n",
       "  <th>const</th>         <td>-8.664e+05</td> <td> 1.33e+04</td> <td>  -65.168</td> <td> 0.000</td> <td>-8.92e+05</td> <td> -8.4e+05</td>\n",
       "</tr>\n",
       "<tr>\n",
       "  <th>grade</th>         <td> 1.408e+05</td> <td> 2493.397</td> <td>   56.469</td> <td> 0.000</td> <td> 1.36e+05</td> <td> 1.46e+05</td>\n",
       "</tr>\n",
       "<tr>\n",
       "  <th>sqft_living15</th> <td>  108.7610</td> <td>    3.875</td> <td>   28.068</td> <td> 0.000</td> <td>  101.166</td> <td>  116.356</td>\n",
       "</tr>\n",
       "<tr>\n",
       "  <th>bathrooms</th>     <td> 5.316e+04</td> <td> 3248.724</td> <td>   16.364</td> <td> 0.000</td> <td> 4.68e+04</td> <td> 5.95e+04</td>\n",
       "</tr>\n",
       "</table>\n",
       "<table class=\"simpletable\">\n",
       "<tr>\n",
       "  <th>Omnibus:</th>       <td>19440.413</td> <th>  Durbin-Watson:     </th>  <td>   1.970</td>  \n",
       "</tr>\n",
       "<tr>\n",
       "  <th>Prob(Omnibus):</th>  <td> 0.000</td>   <th>  Jarque-Bera (JB):  </th> <td>2062393.389</td>\n",
       "</tr>\n",
       "<tr>\n",
       "  <th>Skew:</th>           <td> 4.061</td>   <th>  Prob(JB):          </th>  <td>    0.00</td>  \n",
       "</tr>\n",
       "<tr>\n",
       "  <th>Kurtosis:</th>       <td>50.698</td>   <th>  Cond. No.          </th>  <td>1.55e+04</td>  \n",
       "</tr>\n",
       "</table><br/><br/>Warnings:<br/>[1] Standard Errors assume that the covariance matrix of the errors is correctly specified.<br/>[2] The condition number is large, 1.55e+04. This might indicate that there are<br/>strong multicollinearity or other numerical problems."
      ],
      "text/plain": [
       "<class 'statsmodels.iolib.summary.Summary'>\n",
       "\"\"\"\n",
       "                            OLS Regression Results                            \n",
       "==============================================================================\n",
       "Dep. Variable:                  price   R-squared:                       0.477\n",
       "Model:                            OLS   Adj. R-squared:                  0.477\n",
       "Method:                 Least Squares   F-statistic:                     6430.\n",
       "Date:                Mon, 24 Jun 2019   Prob (F-statistic):               0.00\n",
       "Time:                        13:31:53   Log-Likelihood:            -2.9412e+05\n",
       "No. Observations:               21143   AIC:                         5.882e+05\n",
       "Df Residuals:                   21139   BIC:                         5.883e+05\n",
       "Df Model:                           3                                         \n",
       "Covariance Type:            nonrobust                                         \n",
       "=================================================================================\n",
       "                    coef    std err          t      P>|t|      [0.025      0.975]\n",
       "---------------------------------------------------------------------------------\n",
       "const         -8.664e+05   1.33e+04    -65.168      0.000   -8.92e+05    -8.4e+05\n",
       "grade          1.408e+05   2493.397     56.469      0.000    1.36e+05    1.46e+05\n",
       "sqft_living15   108.7610      3.875     28.068      0.000     101.166     116.356\n",
       "bathrooms      5.316e+04   3248.724     16.364      0.000    4.68e+04    5.95e+04\n",
       "==============================================================================\n",
       "Omnibus:                    19440.413   Durbin-Watson:                   1.970\n",
       "Prob(Omnibus):                  0.000   Jarque-Bera (JB):          2062393.389\n",
       "Skew:                           4.061   Prob(JB):                         0.00\n",
       "Kurtosis:                      50.698   Cond. No.                     1.55e+04\n",
       "==============================================================================\n",
       "\n",
       "Warnings:\n",
       "[1] Standard Errors assume that the covariance matrix of the errors is correctly specified.\n",
       "[2] The condition number is large, 1.55e+04. This might indicate that there are\n",
       "strong multicollinearity or other numerical problems.\n",
       "\"\"\""
      ]
     },
     "execution_count": 62,
     "metadata": {},
     "output_type": "execute_result"
    }
   ],
   "source": [
    "#MR Model 1:\n",
    "X = df_non_norm[['grade', 'sqft_living15', 'bathrooms']]  \n",
    "y = df_non_norm['price']\n",
    "X = sm.add_constant(X)\n",
    "model = sm.OLS(y, X).fit()\n",
    "predictions = model.predict(X)\n",
    "model.summary()"
   ]
  },
  {
   "cell_type": "markdown",
   "metadata": {},
   "source": [
    "The above model compares three features (grade, sqft_living15, bathrooms) to the price. As expected, the p-value is low (actually, it's essentially 0) and the r-value is high (0.801). Based on these numbers, I have high confidence that 97.5% of the data is explained by that MR Model 1. The standard error for sqft_living15 is very low (~4), which suggests it may be the strongest predictor of price in this model."
   ]
  },
  {
   "cell_type": "code",
   "execution_count": 63,
   "metadata": {},
   "outputs": [
    {
     "data": {
      "text/html": [
       "<table class=\"simpletable\">\n",
       "<caption>OLS Regression Results</caption>\n",
       "<tr>\n",
       "  <th>Dep. Variable:</th>          <td>price</td>      <th>  R-squared:         </th>  <td>   0.482</td>  \n",
       "</tr>\n",
       "<tr>\n",
       "  <th>Model:</th>                   <td>OLS</td>       <th>  Adj. R-squared:    </th>  <td>   0.482</td>  \n",
       "</tr>\n",
       "<tr>\n",
       "  <th>Method:</th>             <td>Least Squares</td>  <th>  F-statistic:       </th>  <td>   4927.</td>  \n",
       "</tr>\n",
       "<tr>\n",
       "  <th>Date:</th>             <td>Mon, 24 Jun 2019</td> <th>  Prob (F-statistic):</th>   <td>  0.00</td>   \n",
       "</tr>\n",
       "<tr>\n",
       "  <th>Time:</th>                 <td>13:31:53</td>     <th>  Log-Likelihood:    </th> <td>-2.9401e+05</td>\n",
       "</tr>\n",
       "<tr>\n",
       "  <th>No. Observations:</th>      <td> 21143</td>      <th>  AIC:               </th>  <td>5.880e+05</td> \n",
       "</tr>\n",
       "<tr>\n",
       "  <th>Df Residuals:</th>          <td> 21138</td>      <th>  BIC:               </th>  <td>5.881e+05</td> \n",
       "</tr>\n",
       "<tr>\n",
       "  <th>Df Model:</th>              <td>     4</td>      <th>                     </th>      <td> </td>     \n",
       "</tr>\n",
       "<tr>\n",
       "  <th>Covariance Type:</th>      <td>nonrobust</td>    <th>                     </th>      <td> </td>     \n",
       "</tr>\n",
       "</table>\n",
       "<table class=\"simpletable\">\n",
       "<tr>\n",
       "        <td></td>           <th>coef</th>     <th>std err</th>      <th>t</th>      <th>P>|t|</th>  <th>[0.025</th>    <th>0.975]</th>  \n",
       "</tr>\n",
       "<tr>\n",
       "  <th>const</th>         <td>-7.821e+05</td> <td> 1.44e+04</td> <td>  -54.326</td> <td> 0.000</td> <td> -8.1e+05</td> <td>-7.54e+05</td>\n",
       "</tr>\n",
       "<tr>\n",
       "  <th>grade</th>         <td> 1.271e+05</td> <td> 2648.350</td> <td>   47.975</td> <td> 0.000</td> <td> 1.22e+05</td> <td> 1.32e+05</td>\n",
       "</tr>\n",
       "<tr>\n",
       "  <th>sqft_living15</th> <td>   85.0468</td> <td>    4.174</td> <td>   20.376</td> <td> 0.000</td> <td>   76.866</td> <td>   93.228</td>\n",
       "</tr>\n",
       "<tr>\n",
       "  <th>bathrooms</th>     <td>  3.62e+04</td> <td> 3428.742</td> <td>   10.558</td> <td> 0.000</td> <td> 2.95e+04</td> <td> 4.29e+04</td>\n",
       "</tr>\n",
       "<tr>\n",
       "  <th>sqft_above</th>    <td>   58.1410</td> <td>    3.924</td> <td>   14.819</td> <td> 0.000</td> <td>   50.451</td> <td>   65.831</td>\n",
       "</tr>\n",
       "</table>\n",
       "<table class=\"simpletable\">\n",
       "<tr>\n",
       "  <th>Omnibus:</th>       <td>18809.212</td> <th>  Durbin-Watson:     </th>  <td>   1.972</td>  \n",
       "</tr>\n",
       "<tr>\n",
       "  <th>Prob(Omnibus):</th>  <td> 0.000</td>   <th>  Jarque-Bera (JB):  </th> <td>1747335.135</td>\n",
       "</tr>\n",
       "<tr>\n",
       "  <th>Skew:</th>           <td> 3.885</td>   <th>  Prob(JB):          </th>  <td>    0.00</td>  \n",
       "</tr>\n",
       "<tr>\n",
       "  <th>Kurtosis:</th>       <td>46.853</td>   <th>  Cond. No.          </th>  <td>2.29e+04</td>  \n",
       "</tr>\n",
       "</table><br/><br/>Warnings:<br/>[1] Standard Errors assume that the covariance matrix of the errors is correctly specified.<br/>[2] The condition number is large, 2.29e+04. This might indicate that there are<br/>strong multicollinearity or other numerical problems."
      ],
      "text/plain": [
       "<class 'statsmodels.iolib.summary.Summary'>\n",
       "\"\"\"\n",
       "                            OLS Regression Results                            \n",
       "==============================================================================\n",
       "Dep. Variable:                  price   R-squared:                       0.482\n",
       "Model:                            OLS   Adj. R-squared:                  0.482\n",
       "Method:                 Least Squares   F-statistic:                     4927.\n",
       "Date:                Mon, 24 Jun 2019   Prob (F-statistic):               0.00\n",
       "Time:                        13:31:53   Log-Likelihood:            -2.9401e+05\n",
       "No. Observations:               21143   AIC:                         5.880e+05\n",
       "Df Residuals:                   21138   BIC:                         5.881e+05\n",
       "Df Model:                           4                                         \n",
       "Covariance Type:            nonrobust                                         \n",
       "=================================================================================\n",
       "                    coef    std err          t      P>|t|      [0.025      0.975]\n",
       "---------------------------------------------------------------------------------\n",
       "const         -7.821e+05   1.44e+04    -54.326      0.000    -8.1e+05   -7.54e+05\n",
       "grade          1.271e+05   2648.350     47.975      0.000    1.22e+05    1.32e+05\n",
       "sqft_living15    85.0468      4.174     20.376      0.000      76.866      93.228\n",
       "bathrooms       3.62e+04   3428.742     10.558      0.000    2.95e+04    4.29e+04\n",
       "sqft_above       58.1410      3.924     14.819      0.000      50.451      65.831\n",
       "==============================================================================\n",
       "Omnibus:                    18809.212   Durbin-Watson:                   1.972\n",
       "Prob(Omnibus):                  0.000   Jarque-Bera (JB):          1747335.135\n",
       "Skew:                           3.885   Prob(JB):                         0.00\n",
       "Kurtosis:                      46.853   Cond. No.                     2.29e+04\n",
       "==============================================================================\n",
       "\n",
       "Warnings:\n",
       "[1] Standard Errors assume that the covariance matrix of the errors is correctly specified.\n",
       "[2] The condition number is large, 2.29e+04. This might indicate that there are\n",
       "strong multicollinearity or other numerical problems.\n",
       "\"\"\""
      ]
     },
     "execution_count": 63,
     "metadata": {},
     "output_type": "execute_result"
    }
   ],
   "source": [
    "#MR Model 2\n",
    "X = df_non_norm[['grade', 'sqft_living15', 'bathrooms', 'sqft_above']] \n",
    "y = df_non_norm['price'] \n",
    "X = sm.add_constant(X)\n",
    "model = sm.OLS(y, X).fit()\n",
    "predictions = model.predict(X)\n",
    "model.summary()"
   ]
  },
  {
   "cell_type": "markdown",
   "metadata": {},
   "source": [
    "In this model, I compared all of my chosen features to the price. The r-squared value increased slightly, suggesting a better fit. "
   ]
  },
  {
   "cell_type": "code",
   "execution_count": 64,
   "metadata": {},
   "outputs": [
    {
     "data": {
      "text/html": [
       "<table class=\"simpletable\">\n",
       "<caption>OLS Regression Results</caption>\n",
       "<tr>\n",
       "  <th>Dep. Variable:</th>          <td>price</td>      <th>  R-squared:         </th>  <td>   0.482</td>  \n",
       "</tr>\n",
       "<tr>\n",
       "  <th>Model:</th>                   <td>OLS</td>       <th>  Adj. R-squared:    </th>  <td>   0.482</td>  \n",
       "</tr>\n",
       "<tr>\n",
       "  <th>Method:</th>             <td>Least Squares</td>  <th>  F-statistic:       </th>  <td>   5030.</td>  \n",
       "</tr>\n",
       "<tr>\n",
       "  <th>Date:</th>             <td>Mon, 24 Jun 2019</td> <th>  Prob (F-statistic):</th>   <td>  0.00</td>   \n",
       "</tr>\n",
       "<tr>\n",
       "  <th>Time:</th>                 <td>13:31:54</td>     <th>  Log-Likelihood:    </th> <td>-3.0028e+05</td>\n",
       "</tr>\n",
       "<tr>\n",
       "  <th>No. Observations:</th>      <td> 21597</td>      <th>  AIC:               </th>  <td>6.006e+05</td> \n",
       "</tr>\n",
       "<tr>\n",
       "  <th>Df Residuals:</th>          <td> 21592</td>      <th>  BIC:               </th>  <td>6.006e+05</td> \n",
       "</tr>\n",
       "<tr>\n",
       "  <th>Df Model:</th>              <td>     4</td>      <th>                     </th>      <td> </td>     \n",
       "</tr>\n",
       "<tr>\n",
       "  <th>Covariance Type:</th>      <td>nonrobust</td>    <th>                     </th>      <td> </td>     \n",
       "</tr>\n",
       "</table>\n",
       "<table class=\"simpletable\">\n",
       "<tr>\n",
       "        <td></td>           <th>coef</th>     <th>std err</th>      <th>t</th>      <th>P>|t|</th>  <th>[0.025</th>    <th>0.975]</th>  \n",
       "</tr>\n",
       "<tr>\n",
       "  <th>const</th>         <td>-7.819e+05</td> <td> 1.42e+04</td> <td>  -54.962</td> <td> 0.000</td> <td> -8.1e+05</td> <td>-7.54e+05</td>\n",
       "</tr>\n",
       "<tr>\n",
       "  <th>grade</th>         <td> 1.274e+05</td> <td> 2615.981</td> <td>   48.705</td> <td> 0.000</td> <td> 1.22e+05</td> <td> 1.33e+05</td>\n",
       "</tr>\n",
       "<tr>\n",
       "  <th>sqft_living15</th> <td>   82.8561</td> <td>    4.130</td> <td>   20.062</td> <td> 0.000</td> <td>   74.761</td> <td>   90.951</td>\n",
       "</tr>\n",
       "<tr>\n",
       "  <th>bathrooms</th>     <td> 3.627e+04</td> <td> 3383.637</td> <td>   10.720</td> <td> 0.000</td> <td> 2.96e+04</td> <td> 4.29e+04</td>\n",
       "</tr>\n",
       "<tr>\n",
       "  <th>sqft_above</th>    <td>   58.8061</td> <td>    3.881</td> <td>   15.151</td> <td> 0.000</td> <td>   51.199</td> <td>   66.414</td>\n",
       "</tr>\n",
       "</table>\n",
       "<table class=\"simpletable\">\n",
       "<tr>\n",
       "  <th>Omnibus:</th>       <td>19141.980</td> <th>  Durbin-Watson:     </th>  <td>   1.969</td>  \n",
       "</tr>\n",
       "<tr>\n",
       "  <th>Prob(Omnibus):</th>  <td> 0.000</td>   <th>  Jarque-Bera (JB):  </th> <td>1752289.555</td>\n",
       "</tr>\n",
       "<tr>\n",
       "  <th>Skew:</th>           <td> 3.866</td>   <th>  Prob(JB):          </th>  <td>    0.00</td>  \n",
       "</tr>\n",
       "<tr>\n",
       "  <th>Kurtosis:</th>       <td>46.445</td>   <th>  Cond. No.          </th>  <td>2.29e+04</td>  \n",
       "</tr>\n",
       "</table><br/><br/>Warnings:<br/>[1] Standard Errors assume that the covariance matrix of the errors is correctly specified.<br/>[2] The condition number is large, 2.29e+04. This might indicate that there are<br/>strong multicollinearity or other numerical problems."
      ],
      "text/plain": [
       "<class 'statsmodels.iolib.summary.Summary'>\n",
       "\"\"\"\n",
       "                            OLS Regression Results                            \n",
       "==============================================================================\n",
       "Dep. Variable:                  price   R-squared:                       0.482\n",
       "Model:                            OLS   Adj. R-squared:                  0.482\n",
       "Method:                 Least Squares   F-statistic:                     5030.\n",
       "Date:                Mon, 24 Jun 2019   Prob (F-statistic):               0.00\n",
       "Time:                        13:31:54   Log-Likelihood:            -3.0028e+05\n",
       "No. Observations:               21597   AIC:                         6.006e+05\n",
       "Df Residuals:                   21592   BIC:                         6.006e+05\n",
       "Df Model:                           4                                         \n",
       "Covariance Type:            nonrobust                                         \n",
       "=================================================================================\n",
       "                    coef    std err          t      P>|t|      [0.025      0.975]\n",
       "---------------------------------------------------------------------------------\n",
       "const         -7.819e+05   1.42e+04    -54.962      0.000    -8.1e+05   -7.54e+05\n",
       "grade          1.274e+05   2615.981     48.705      0.000    1.22e+05    1.33e+05\n",
       "sqft_living15    82.8561      4.130     20.062      0.000      74.761      90.951\n",
       "bathrooms      3.627e+04   3383.637     10.720      0.000    2.96e+04    4.29e+04\n",
       "sqft_above       58.8061      3.881     15.151      0.000      51.199      66.414\n",
       "==============================================================================\n",
       "Omnibus:                    19141.980   Durbin-Watson:                   1.969\n",
       "Prob(Omnibus):                  0.000   Jarque-Bera (JB):          1752289.555\n",
       "Skew:                           3.866   Prob(JB):                         0.00\n",
       "Kurtosis:                      46.445   Cond. No.                     2.29e+04\n",
       "==============================================================================\n",
       "\n",
       "Warnings:\n",
       "[1] Standard Errors assume that the covariance matrix of the errors is correctly specified.\n",
       "[2] The condition number is large, 2.29e+04. This might indicate that there are\n",
       "strong multicollinearity or other numerical problems.\n",
       "\"\"\""
      ]
     },
     "execution_count": 64,
     "metadata": {},
     "output_type": "execute_result"
    }
   ],
   "source": [
    "#MR Model 3\n",
    "X = df[['grade', 'sqft_living15', 'bathrooms', 'sqft_above']] \n",
    "y = df['price'] \n",
    "X = sm.add_constant(X)\n",
    "model = sm.OLS(y, X).fit()\n",
    "predictions = model.predict(X)\n",
    "model.summary()"
   ]
  },
  {
   "cell_type": "markdown",
   "metadata": {},
   "source": [
    "Model 3 uses the same features as Model 2, but rather than using the cleaned training data, I used the original data set. The r-squared value is about the same as Model 2, but the standard erros are far lower and all the p-values are 2. I'll verify the model with sklearn. Before doing that, though, I'd like to see what the numbers look like when I use more features, however, the more features we add, the more multicollinearity problems we run into."
   ]
  },
  {
   "cell_type": "code",
   "execution_count": 65,
   "metadata": {},
   "outputs": [
    {
     "data": {
      "text/html": [
       "<table class=\"simpletable\">\n",
       "<caption>OLS Regression Results</caption>\n",
       "<tr>\n",
       "  <th>Dep. Variable:</th>          <td>price</td>      <th>  R-squared:         </th>  <td>   0.503</td>  \n",
       "</tr>\n",
       "<tr>\n",
       "  <th>Model:</th>                   <td>OLS</td>       <th>  Adj. R-squared:    </th>  <td>   0.503</td>  \n",
       "</tr>\n",
       "<tr>\n",
       "  <th>Method:</th>             <td>Least Squares</td>  <th>  F-statistic:       </th>  <td>   3644.</td>  \n",
       "</tr>\n",
       "<tr>\n",
       "  <th>Date:</th>             <td>Mon, 24 Jun 2019</td> <th>  Prob (F-statistic):</th>   <td>  0.00</td>   \n",
       "</tr>\n",
       "<tr>\n",
       "  <th>Time:</th>                 <td>13:31:54</td>     <th>  Log-Likelihood:    </th> <td>-2.9984e+05</td>\n",
       "</tr>\n",
       "<tr>\n",
       "  <th>No. Observations:</th>      <td> 21597</td>      <th>  AIC:               </th>  <td>5.997e+05</td> \n",
       "</tr>\n",
       "<tr>\n",
       "  <th>Df Residuals:</th>          <td> 21590</td>      <th>  BIC:               </th>  <td>5.997e+05</td> \n",
       "</tr>\n",
       "<tr>\n",
       "  <th>Df Model:</th>              <td>     6</td>      <th>                     </th>      <td> </td>     \n",
       "</tr>\n",
       "<tr>\n",
       "  <th>Covariance Type:</th>      <td>nonrobust</td>    <th>                     </th>      <td> </td>     \n",
       "</tr>\n",
       "</table>\n",
       "<table class=\"simpletable\">\n",
       "<tr>\n",
       "        <td></td>           <th>coef</th>     <th>std err</th>      <th>t</th>      <th>P>|t|</th>  <th>[0.025</th>    <th>0.975]</th>  \n",
       "</tr>\n",
       "<tr>\n",
       "  <th>const</th>         <td> -1.08e+06</td> <td> 1.82e+04</td> <td>  -59.477</td> <td> 0.000</td> <td>-1.12e+06</td> <td>-1.04e+06</td>\n",
       "</tr>\n",
       "<tr>\n",
       "  <th>grade</th>         <td> 1.302e+05</td> <td> 2586.166</td> <td>   50.343</td> <td> 0.000</td> <td> 1.25e+05</td> <td> 1.35e+05</td>\n",
       "</tr>\n",
       "<tr>\n",
       "  <th>sqft_living15</th> <td>   77.4393</td> <td>    4.062</td> <td>   19.065</td> <td> 0.000</td> <td>   69.478</td> <td>   85.401</td>\n",
       "</tr>\n",
       "<tr>\n",
       "  <th>bathrooms</th>     <td> 4.159e+04</td> <td> 3488.735</td> <td>   11.921</td> <td> 0.000</td> <td> 3.48e+04</td> <td> 4.84e+04</td>\n",
       "</tr>\n",
       "<tr>\n",
       "  <th>sqft_above</th>    <td>   70.6386</td> <td>    3.889</td> <td>   18.162</td> <td> 0.000</td> <td>   63.015</td> <td>   78.262</td>\n",
       "</tr>\n",
       "<tr>\n",
       "  <th>condition</th>     <td> 8.326e+04</td> <td> 2772.011</td> <td>   30.037</td> <td> 0.000</td> <td> 7.78e+04</td> <td> 8.87e+04</td>\n",
       "</tr>\n",
       "<tr>\n",
       "  <th>bedrooms</th>      <td>-8442.6463</td> <td> 2303.829</td> <td>   -3.665</td> <td> 0.000</td> <td> -1.3e+04</td> <td>-3926.972</td>\n",
       "</tr>\n",
       "</table>\n",
       "<table class=\"simpletable\">\n",
       "<tr>\n",
       "  <th>Omnibus:</th>       <td>19270.834</td> <th>  Durbin-Watson:     </th>  <td>   1.981</td>  \n",
       "</tr>\n",
       "<tr>\n",
       "  <th>Prob(Omnibus):</th>  <td> 0.000</td>   <th>  Jarque-Bera (JB):  </th> <td>1827932.298</td>\n",
       "</tr>\n",
       "<tr>\n",
       "  <th>Skew:</th>           <td> 3.897</td>   <th>  Prob(JB):          </th>  <td>    0.00</td>  \n",
       "</tr>\n",
       "<tr>\n",
       "  <th>Kurtosis:</th>       <td>47.391</td>   <th>  Cond. No.          </th>  <td>2.97e+04</td>  \n",
       "</tr>\n",
       "</table><br/><br/>Warnings:<br/>[1] Standard Errors assume that the covariance matrix of the errors is correctly specified.<br/>[2] The condition number is large, 2.97e+04. This might indicate that there are<br/>strong multicollinearity or other numerical problems."
      ],
      "text/plain": [
       "<class 'statsmodels.iolib.summary.Summary'>\n",
       "\"\"\"\n",
       "                            OLS Regression Results                            \n",
       "==============================================================================\n",
       "Dep. Variable:                  price   R-squared:                       0.503\n",
       "Model:                            OLS   Adj. R-squared:                  0.503\n",
       "Method:                 Least Squares   F-statistic:                     3644.\n",
       "Date:                Mon, 24 Jun 2019   Prob (F-statistic):               0.00\n",
       "Time:                        13:31:54   Log-Likelihood:            -2.9984e+05\n",
       "No. Observations:               21597   AIC:                         5.997e+05\n",
       "Df Residuals:                   21590   BIC:                         5.997e+05\n",
       "Df Model:                           6                                         \n",
       "Covariance Type:            nonrobust                                         \n",
       "=================================================================================\n",
       "                    coef    std err          t      P>|t|      [0.025      0.975]\n",
       "---------------------------------------------------------------------------------\n",
       "const          -1.08e+06   1.82e+04    -59.477      0.000   -1.12e+06   -1.04e+06\n",
       "grade          1.302e+05   2586.166     50.343      0.000    1.25e+05    1.35e+05\n",
       "sqft_living15    77.4393      4.062     19.065      0.000      69.478      85.401\n",
       "bathrooms      4.159e+04   3488.735     11.921      0.000    3.48e+04    4.84e+04\n",
       "sqft_above       70.6386      3.889     18.162      0.000      63.015      78.262\n",
       "condition      8.326e+04   2772.011     30.037      0.000    7.78e+04    8.87e+04\n",
       "bedrooms      -8442.6463   2303.829     -3.665      0.000    -1.3e+04   -3926.972\n",
       "==============================================================================\n",
       "Omnibus:                    19270.834   Durbin-Watson:                   1.981\n",
       "Prob(Omnibus):                  0.000   Jarque-Bera (JB):          1827932.298\n",
       "Skew:                           3.897   Prob(JB):                         0.00\n",
       "Kurtosis:                      47.391   Cond. No.                     2.97e+04\n",
       "==============================================================================\n",
       "\n",
       "Warnings:\n",
       "[1] Standard Errors assume that the covariance matrix of the errors is correctly specified.\n",
       "[2] The condition number is large, 2.97e+04. This might indicate that there are\n",
       "strong multicollinearity or other numerical problems.\n",
       "\"\"\""
      ]
     },
     "execution_count": 65,
     "metadata": {},
     "output_type": "execute_result"
    }
   ],
   "source": [
    "X = df[['grade', 'sqft_living15', 'bathrooms', 'sqft_above', 'condition', 'bedrooms']] \n",
    "y = df['price'] \n",
    "X = sm.add_constant(X)\n",
    "model = sm.OLS(y, X).fit()\n",
    "predictions = model.predict(X)\n",
    "model.summary()"
   ]
  },
  {
   "cell_type": "markdown",
   "metadata": {},
   "source": [
    "## <a id = \"conclusion\"> Conclusion </a>"
   ]
  },
  {
   "cell_type": "markdown",
   "metadata": {},
   "source": [
    "Based on the results of the models, it seems grade and the square footage of the living space are the best predictors for housing price. The formula should be as follows: price = intercept + (coefficient * grade) + (coefficient * sqft_living15) + (coefficient + sqft_above) + (coefficient + bathrooms). I've couched it into a function, which I can then call to test the results. "
   ]
  },
  {
   "cell_type": "code",
   "execution_count": 66,
   "metadata": {},
   "outputs": [],
   "source": [
    "def price_prediction(grade, sqft_living15, sqft_above, bathrooms):\n",
    "    price = -781900 + (127400* grade) + ( 82.8561 * sqft_living15) + (58.1410 * sqft_above) + (36200 *bathrooms)\n",
    "    print (price)\n",
    "    return"
   ]
  },
  {
   "cell_type": "code",
   "execution_count": 67,
   "metadata": {
    "scrolled": true
   },
   "outputs": [
    {
     "name": "stdout",
     "output_type": "stream",
     "text": [
      "325733.554\n"
     ]
    }
   ],
   "source": [
    "price_prediction(7, 1340, 1180, 1)"
   ]
  },
  {
   "cell_type": "code",
   "execution_count": 68,
   "metadata": {},
   "outputs": [],
   "source": [
    "def price_more_feat(grade, sqft_living15, sqft_above, bathrooms, condition, bedrooms):\n",
    "    price =  -1080000 + (130200 *grade) + (77.4393 * sqft_living15) + (41590*bathrooms) + (70.6386 *sqft_above) +(83260 *condition) + (-8442.6463 * bedrooms)\n",
    "    print (price)\n",
    "    return"
   ]
  },
  {
   "cell_type": "code",
   "execution_count": 69,
   "metadata": {
    "scrolled": true
   },
   "outputs": [
    {
     "name": "stdout",
     "output_type": "stream",
     "text": [
      "284564.2711\n"
     ]
    }
   ],
   "source": [
    "price_more_feat(7, 1340,1180,1,3,3)"
   ]
  },
  {
   "cell_type": "markdown",
   "metadata": {},
   "source": [
    "The model gets more accurate the more features we add."
   ]
  },
  {
   "cell_type": "markdown",
   "metadata": {},
   "source": [
    "## <a id =\"next_steps\"> Next Steps </a>\n",
    "\n",
    "Although we have chosen a few good predictors of housing price, this analysis is just the beginning. Given more time (and more data) we could create an even more granular analysis. For example, we could: \n",
    "\n",
    "    * Separate different zipcodes into different dataframes and determine trends within these areas\n",
    "    * Determine where the waterfront is, and see if there's a major relationship between price and waterfront or whether it's the zipcode that makes the difference\n",
    "    * Determine desirability of neighborhoods based on environmental factors\n",
    "    * Figure out why there are so few data points for between the zipcodes 98075 and 98100\n",
    "    * Determine the age of the house and see how this affects the price\n",
    "    * Determine HOW MUCH renovation affects price (by comparing the price before and after)\n",
    "    \n",
    "    \n",
    "    "
   ]
  }
 ],
 "metadata": {
  "kernelspec": {
   "display_name": "Python 3",
   "language": "python",
   "name": "python3"
  },
  "language_info": {
   "codemirror_mode": {
    "name": "ipython",
    "version": 3
   },
   "file_extension": ".py",
   "mimetype": "text/x-python",
   "name": "python",
   "nbconvert_exporter": "python",
   "pygments_lexer": "ipython3",
   "version": "3.6.6"
  }
 },
 "nbformat": 4,
 "nbformat_minor": 2
}
