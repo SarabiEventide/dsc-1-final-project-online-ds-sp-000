{
 "cells": [
  {
   "cell_type": "markdown",
   "metadata": {},
   "source": [
    "# Final Project Submission\n",
    "\n",
    "\n",
    "* Student name: Sarabi Eventide \n",
    "* Student pace: self-paced\n",
    "* Scheduled project review date/time: January 23rd, 2019/ 7 PM EST\n",
    "* Instructor name:  Eli Thomas\n",
    "* Blog post URL: "
   ]
  },
  {
   "cell_type": "markdown",
   "metadata": {},
   "source": [
    "## Obtaining the Data"
   ]
  },
  {
   "cell_type": "markdown",
   "metadata": {},
   "source": [
    "Before making any decisions about the data, we must define the scope of this data analysis. In order to do so, I shall consider the following questions:\n",
    "1. Who are the stakeholders in this problem?\n",
    "    - The stakeholders are Kings County real estate developers. Although they may not have in-depth knowledge of statistical analysis, they are familiar with market behvaior and trends.\n",
    "2. What do they want to know?\n",
    "    - They want to be able to predict a the price of a house. In order to do this, we need to know how location, size, age and other factors affect the price and create models for these variables. \n",
    "3. What data is available to me?\n",
    "    - I have a set of data containing information about the size, rooms, location, age, renovation and quality of the houses.\n",
    "4. What tools will aid in completing the project?\n",
    "    - In addition to using standard packages such as pandas, numpy, seaborn, matplotlib, scipi and sklearn, we will most likely create our projects using simple linear regression or multiple linear regression. "
   ]
  },
  {
   "cell_type": "code",
   "execution_count": 1,
   "metadata": {},
   "outputs": [],
   "source": [
    "import pandas as pd # helps manipulate CSV files\n",
    "import numpy as np  # helps with number crunching\n",
    "import seaborn as sns # provides extra styling and functionality when visualizing\n",
    "import matplotlib.pyplot as plt  # helps with visualizing\n",
    "%matplotlib inline\n",
    "\n",
    "import statsmodels.api as sm  # used to build statistical models\n",
    "import statsmodels.formula.api as smf # get the formulas\n",
    "from statsmodels.formula.api import ols # ordinary least squares library\n",
    "\n",
    "import scipy.stats as stats  # statistical calculations\n",
    "from scipy.stats import kurtosis, skew # used for exploring distributions\n",
    "\n",
    "from sklearn.feature_selection import RFE  # recursive feature elimination: selects features\n",
    "                                            # by considering smaller and smaller set \n",
    "from sklearn.linear_model import LinearRegression \n",
    "from sklearn.preprocessing import LabelEncoder  # encodes categorical variables and retains numerical analysis\n",
    "from sklearn.model_selection import train_test_split # tests subsets of the data\n",
    "from sklearn.metrics import mean_squared_error # avg of sqr of error. e.g how \"correct\" our model is\n",
    "from sklearn.model_selection import cross_val_score # asses how model will generalize to an independent data set\n",
    "\n",
    "\n",
    "import warnings\n",
    "warnings.filterwarnings('ignore')"
   ]
  },
  {
   "cell_type": "code",
   "execution_count": 2,
   "metadata": {},
   "outputs": [
    {
     "data": {
      "text/html": [
       "<div>\n",
       "<style scoped>\n",
       "    .dataframe tbody tr th:only-of-type {\n",
       "        vertical-align: middle;\n",
       "    }\n",
       "\n",
       "    .dataframe tbody tr th {\n",
       "        vertical-align: top;\n",
       "    }\n",
       "\n",
       "    .dataframe thead th {\n",
       "        text-align: right;\n",
       "    }\n",
       "</style>\n",
       "<table border=\"1\" class=\"dataframe\">\n",
       "  <thead>\n",
       "    <tr style=\"text-align: right;\">\n",
       "      <th></th>\n",
       "      <th>id</th>\n",
       "      <th>date</th>\n",
       "      <th>price</th>\n",
       "      <th>bedrooms</th>\n",
       "      <th>bathrooms</th>\n",
       "      <th>sqft_living</th>\n",
       "      <th>sqft_lot</th>\n",
       "      <th>floors</th>\n",
       "      <th>waterfront</th>\n",
       "      <th>view</th>\n",
       "      <th>...</th>\n",
       "      <th>grade</th>\n",
       "      <th>sqft_above</th>\n",
       "      <th>sqft_basement</th>\n",
       "      <th>yr_built</th>\n",
       "      <th>yr_renovated</th>\n",
       "      <th>zipcode</th>\n",
       "      <th>lat</th>\n",
       "      <th>long</th>\n",
       "      <th>sqft_living15</th>\n",
       "      <th>sqft_lot15</th>\n",
       "    </tr>\n",
       "  </thead>\n",
       "  <tbody>\n",
       "    <tr>\n",
       "      <th>0</th>\n",
       "      <td>7129300520</td>\n",
       "      <td>10/13/2014</td>\n",
       "      <td>221900.0</td>\n",
       "      <td>3</td>\n",
       "      <td>1.00</td>\n",
       "      <td>1180</td>\n",
       "      <td>5650</td>\n",
       "      <td>1.0</td>\n",
       "      <td>NaN</td>\n",
       "      <td>0.0</td>\n",
       "      <td>...</td>\n",
       "      <td>7</td>\n",
       "      <td>1180</td>\n",
       "      <td>0.0</td>\n",
       "      <td>1955</td>\n",
       "      <td>0.0</td>\n",
       "      <td>98178</td>\n",
       "      <td>47.5112</td>\n",
       "      <td>-122.257</td>\n",
       "      <td>1340</td>\n",
       "      <td>5650</td>\n",
       "    </tr>\n",
       "    <tr>\n",
       "      <th>1</th>\n",
       "      <td>6414100192</td>\n",
       "      <td>12/9/2014</td>\n",
       "      <td>538000.0</td>\n",
       "      <td>3</td>\n",
       "      <td>2.25</td>\n",
       "      <td>2570</td>\n",
       "      <td>7242</td>\n",
       "      <td>2.0</td>\n",
       "      <td>0.0</td>\n",
       "      <td>0.0</td>\n",
       "      <td>...</td>\n",
       "      <td>7</td>\n",
       "      <td>2170</td>\n",
       "      <td>400.0</td>\n",
       "      <td>1951</td>\n",
       "      <td>1991.0</td>\n",
       "      <td>98125</td>\n",
       "      <td>47.7210</td>\n",
       "      <td>-122.319</td>\n",
       "      <td>1690</td>\n",
       "      <td>7639</td>\n",
       "    </tr>\n",
       "    <tr>\n",
       "      <th>2</th>\n",
       "      <td>5631500400</td>\n",
       "      <td>2/25/2015</td>\n",
       "      <td>180000.0</td>\n",
       "      <td>2</td>\n",
       "      <td>1.00</td>\n",
       "      <td>770</td>\n",
       "      <td>10000</td>\n",
       "      <td>1.0</td>\n",
       "      <td>0.0</td>\n",
       "      <td>0.0</td>\n",
       "      <td>...</td>\n",
       "      <td>6</td>\n",
       "      <td>770</td>\n",
       "      <td>0.0</td>\n",
       "      <td>1933</td>\n",
       "      <td>NaN</td>\n",
       "      <td>98028</td>\n",
       "      <td>47.7379</td>\n",
       "      <td>-122.233</td>\n",
       "      <td>2720</td>\n",
       "      <td>8062</td>\n",
       "    </tr>\n",
       "    <tr>\n",
       "      <th>3</th>\n",
       "      <td>2487200875</td>\n",
       "      <td>12/9/2014</td>\n",
       "      <td>604000.0</td>\n",
       "      <td>4</td>\n",
       "      <td>3.00</td>\n",
       "      <td>1960</td>\n",
       "      <td>5000</td>\n",
       "      <td>1.0</td>\n",
       "      <td>0.0</td>\n",
       "      <td>0.0</td>\n",
       "      <td>...</td>\n",
       "      <td>7</td>\n",
       "      <td>1050</td>\n",
       "      <td>910.0</td>\n",
       "      <td>1965</td>\n",
       "      <td>0.0</td>\n",
       "      <td>98136</td>\n",
       "      <td>47.5208</td>\n",
       "      <td>-122.393</td>\n",
       "      <td>1360</td>\n",
       "      <td>5000</td>\n",
       "    </tr>\n",
       "    <tr>\n",
       "      <th>4</th>\n",
       "      <td>1954400510</td>\n",
       "      <td>2/18/2015</td>\n",
       "      <td>510000.0</td>\n",
       "      <td>3</td>\n",
       "      <td>2.00</td>\n",
       "      <td>1680</td>\n",
       "      <td>8080</td>\n",
       "      <td>1.0</td>\n",
       "      <td>0.0</td>\n",
       "      <td>0.0</td>\n",
       "      <td>...</td>\n",
       "      <td>8</td>\n",
       "      <td>1680</td>\n",
       "      <td>0.0</td>\n",
       "      <td>1987</td>\n",
       "      <td>0.0</td>\n",
       "      <td>98074</td>\n",
       "      <td>47.6168</td>\n",
       "      <td>-122.045</td>\n",
       "      <td>1800</td>\n",
       "      <td>7503</td>\n",
       "    </tr>\n",
       "  </tbody>\n",
       "</table>\n",
       "<p>5 rows × 21 columns</p>\n",
       "</div>"
      ],
      "text/plain": [
       "           id        date     price  bedrooms  bathrooms  sqft_living  \\\n",
       "0  7129300520  10/13/2014  221900.0         3       1.00         1180   \n",
       "1  6414100192   12/9/2014  538000.0         3       2.25         2570   \n",
       "2  5631500400   2/25/2015  180000.0         2       1.00          770   \n",
       "3  2487200875   12/9/2014  604000.0         4       3.00         1960   \n",
       "4  1954400510   2/18/2015  510000.0         3       2.00         1680   \n",
       "\n",
       "   sqft_lot  floors  waterfront  view     ...      grade  sqft_above  \\\n",
       "0      5650     1.0         NaN   0.0     ...          7        1180   \n",
       "1      7242     2.0         0.0   0.0     ...          7        2170   \n",
       "2     10000     1.0         0.0   0.0     ...          6         770   \n",
       "3      5000     1.0         0.0   0.0     ...          7        1050   \n",
       "4      8080     1.0         0.0   0.0     ...          8        1680   \n",
       "\n",
       "   sqft_basement yr_built  yr_renovated  zipcode      lat     long  \\\n",
       "0            0.0     1955           0.0    98178  47.5112 -122.257   \n",
       "1          400.0     1951        1991.0    98125  47.7210 -122.319   \n",
       "2            0.0     1933           NaN    98028  47.7379 -122.233   \n",
       "3          910.0     1965           0.0    98136  47.5208 -122.393   \n",
       "4            0.0     1987           0.0    98074  47.6168 -122.045   \n",
       "\n",
       "   sqft_living15  sqft_lot15  \n",
       "0           1340        5650  \n",
       "1           1690        7639  \n",
       "2           2720        8062  \n",
       "3           1360        5000  \n",
       "4           1800        7503  \n",
       "\n",
       "[5 rows x 21 columns]"
      ]
     },
     "execution_count": 2,
     "metadata": {},
     "output_type": "execute_result"
    }
   ],
   "source": [
    "df = pd.read_csv('kc_house_data.csv')  # import the file\n",
    "df.head()  # taking a look at the first few rows\n",
    "           # to see what type of information I'm working with "
   ]
  },
  {
   "cell_type": "markdown",
   "metadata": {},
   "source": [
    "<br>\n",
    "Looking at the excerpt, I see what appears to be both qualitative and quantitative variables. There are a few null values quite a few zero, especially in the \"sqft_basement\" and \"yr_renovated\" columns. Before I begin re-arranging the table, however, I'd like to look at other descriptive measures to see which groups may be more relevant than others. The new information will also help me clean the data.\n",
    "\n",
    "<br>"
   ]
  },
  {
   "cell_type": "code",
   "execution_count": 3,
   "metadata": {},
   "outputs": [
    {
     "name": "stdout",
     "output_type": "stream",
     "text": [
      "<class 'pandas.core.frame.DataFrame'>\n",
      "RangeIndex: 21597 entries, 0 to 21596\n",
      "Data columns (total 21 columns):\n",
      "id               21597 non-null int64\n",
      "date             21597 non-null object\n",
      "price            21597 non-null float64\n",
      "bedrooms         21597 non-null int64\n",
      "bathrooms        21597 non-null float64\n",
      "sqft_living      21597 non-null int64\n",
      "sqft_lot         21597 non-null int64\n",
      "floors           21597 non-null float64\n",
      "waterfront       19221 non-null float64\n",
      "view             21534 non-null float64\n",
      "condition        21597 non-null int64\n",
      "grade            21597 non-null int64\n",
      "sqft_above       21597 non-null int64\n",
      "sqft_basement    21597 non-null object\n",
      "yr_built         21597 non-null int64\n",
      "yr_renovated     17755 non-null float64\n",
      "zipcode          21597 non-null int64\n",
      "lat              21597 non-null float64\n",
      "long             21597 non-null float64\n",
      "sqft_living15    21597 non-null int64\n",
      "sqft_lot15       21597 non-null int64\n",
      "dtypes: float64(8), int64(11), object(2)\n",
      "memory usage: 3.5+ MB\n"
     ]
    }
   ],
   "source": [
    "df.info() # a quick summary of what the rows and columns contain "
   ]
  },
  {
   "cell_type": "code",
   "execution_count": 4,
   "metadata": {},
   "outputs": [
    {
     "name": "stdout",
     "output_type": "stream",
     "text": [
      "We are missing 11.0 percent of the waterfront data and 17.79 percent of the household renovation data\n"
     ]
    }
   ],
   "source": [
    "waterfront_percent = round(((2376/21597)*100),2) \n",
    "reno_percent = round(((3842/21597)*100),2)\n",
    "print(f\"We are missing {waterfront_percent} percent of the waterfront data and {reno_percent} percent of the household renovation data\")"
   ]
  },
  {
   "cell_type": "markdown",
   "metadata": {},
   "source": [
    "In other words, we still have about 90% of the waterfront data and about 80% of the household renovation data. These are sufficient numbers to proceed, however, we must also check the data for placeholder values, because the of the high number of zeros.\n",
    "\n",
    "I also see a few columns (waterfront, condition, grade, yr_built, yr_renovated, zipcode) appear to be miscategorized as floats and ints, although the df.head() command shows they are most likely. First, we need to look at the summary statistics to get a better feel for the data. The we need to find out whether there are any anomalies that cause the \"sqft_basement\" column to be labeled as objects and the \"yr_renovated\" column to be cast as a float, instead of what I suspect should be at least integers. Finally, we can look for placeholders in other columns."
   ]
  },
  {
   "cell_type": "code",
   "execution_count": 5,
   "metadata": {},
   "outputs": [
    {
     "data": {
      "text/html": [
       "<div>\n",
       "<style scoped>\n",
       "    .dataframe tbody tr th:only-of-type {\n",
       "        vertical-align: middle;\n",
       "    }\n",
       "\n",
       "    .dataframe tbody tr th {\n",
       "        vertical-align: top;\n",
       "    }\n",
       "\n",
       "    .dataframe thead th {\n",
       "        text-align: right;\n",
       "    }\n",
       "</style>\n",
       "<table border=\"1\" class=\"dataframe\">\n",
       "  <thead>\n",
       "    <tr style=\"text-align: right;\">\n",
       "      <th></th>\n",
       "      <th>id</th>\n",
       "      <th>price</th>\n",
       "      <th>bedrooms</th>\n",
       "      <th>bathrooms</th>\n",
       "      <th>sqft_living</th>\n",
       "      <th>sqft_lot</th>\n",
       "      <th>floors</th>\n",
       "      <th>waterfront</th>\n",
       "      <th>view</th>\n",
       "      <th>condition</th>\n",
       "      <th>grade</th>\n",
       "      <th>sqft_above</th>\n",
       "      <th>yr_built</th>\n",
       "      <th>yr_renovated</th>\n",
       "      <th>zipcode</th>\n",
       "      <th>lat</th>\n",
       "      <th>long</th>\n",
       "      <th>sqft_living15</th>\n",
       "      <th>sqft_lot15</th>\n",
       "    </tr>\n",
       "  </thead>\n",
       "  <tbody>\n",
       "    <tr>\n",
       "      <th>count</th>\n",
       "      <td>2.159700e+04</td>\n",
       "      <td>2.159700e+04</td>\n",
       "      <td>21597.000000</td>\n",
       "      <td>21597.000000</td>\n",
       "      <td>21597.000000</td>\n",
       "      <td>2.159700e+04</td>\n",
       "      <td>21597.000000</td>\n",
       "      <td>19221.000000</td>\n",
       "      <td>21534.000000</td>\n",
       "      <td>21597.000000</td>\n",
       "      <td>21597.000000</td>\n",
       "      <td>21597.000000</td>\n",
       "      <td>21597.000000</td>\n",
       "      <td>17755.000000</td>\n",
       "      <td>21597.000000</td>\n",
       "      <td>21597.000000</td>\n",
       "      <td>21597.000000</td>\n",
       "      <td>21597.000000</td>\n",
       "      <td>21597.000000</td>\n",
       "    </tr>\n",
       "    <tr>\n",
       "      <th>mean</th>\n",
       "      <td>4.580474e+09</td>\n",
       "      <td>5.402966e+05</td>\n",
       "      <td>3.373200</td>\n",
       "      <td>2.115826</td>\n",
       "      <td>2080.321850</td>\n",
       "      <td>1.509941e+04</td>\n",
       "      <td>1.494096</td>\n",
       "      <td>0.007596</td>\n",
       "      <td>0.233863</td>\n",
       "      <td>3.409825</td>\n",
       "      <td>7.657915</td>\n",
       "      <td>1788.596842</td>\n",
       "      <td>1970.999676</td>\n",
       "      <td>83.636778</td>\n",
       "      <td>98077.951845</td>\n",
       "      <td>47.560093</td>\n",
       "      <td>-122.213982</td>\n",
       "      <td>1986.620318</td>\n",
       "      <td>12758.283512</td>\n",
       "    </tr>\n",
       "    <tr>\n",
       "      <th>std</th>\n",
       "      <td>2.876736e+09</td>\n",
       "      <td>3.673681e+05</td>\n",
       "      <td>0.926299</td>\n",
       "      <td>0.768984</td>\n",
       "      <td>918.106125</td>\n",
       "      <td>4.141264e+04</td>\n",
       "      <td>0.539683</td>\n",
       "      <td>0.086825</td>\n",
       "      <td>0.765686</td>\n",
       "      <td>0.650546</td>\n",
       "      <td>1.173200</td>\n",
       "      <td>827.759761</td>\n",
       "      <td>29.375234</td>\n",
       "      <td>399.946414</td>\n",
       "      <td>53.513072</td>\n",
       "      <td>0.138552</td>\n",
       "      <td>0.140724</td>\n",
       "      <td>685.230472</td>\n",
       "      <td>27274.441950</td>\n",
       "    </tr>\n",
       "    <tr>\n",
       "      <th>min</th>\n",
       "      <td>1.000102e+06</td>\n",
       "      <td>7.800000e+04</td>\n",
       "      <td>1.000000</td>\n",
       "      <td>0.500000</td>\n",
       "      <td>370.000000</td>\n",
       "      <td>5.200000e+02</td>\n",
       "      <td>1.000000</td>\n",
       "      <td>0.000000</td>\n",
       "      <td>0.000000</td>\n",
       "      <td>1.000000</td>\n",
       "      <td>3.000000</td>\n",
       "      <td>370.000000</td>\n",
       "      <td>1900.000000</td>\n",
       "      <td>0.000000</td>\n",
       "      <td>98001.000000</td>\n",
       "      <td>47.155900</td>\n",
       "      <td>-122.519000</td>\n",
       "      <td>399.000000</td>\n",
       "      <td>651.000000</td>\n",
       "    </tr>\n",
       "    <tr>\n",
       "      <th>25%</th>\n",
       "      <td>2.123049e+09</td>\n",
       "      <td>3.220000e+05</td>\n",
       "      <td>3.000000</td>\n",
       "      <td>1.750000</td>\n",
       "      <td>1430.000000</td>\n",
       "      <td>5.040000e+03</td>\n",
       "      <td>1.000000</td>\n",
       "      <td>0.000000</td>\n",
       "      <td>0.000000</td>\n",
       "      <td>3.000000</td>\n",
       "      <td>7.000000</td>\n",
       "      <td>1190.000000</td>\n",
       "      <td>1951.000000</td>\n",
       "      <td>0.000000</td>\n",
       "      <td>98033.000000</td>\n",
       "      <td>47.471100</td>\n",
       "      <td>-122.328000</td>\n",
       "      <td>1490.000000</td>\n",
       "      <td>5100.000000</td>\n",
       "    </tr>\n",
       "    <tr>\n",
       "      <th>50%</th>\n",
       "      <td>3.904930e+09</td>\n",
       "      <td>4.500000e+05</td>\n",
       "      <td>3.000000</td>\n",
       "      <td>2.250000</td>\n",
       "      <td>1910.000000</td>\n",
       "      <td>7.618000e+03</td>\n",
       "      <td>1.500000</td>\n",
       "      <td>0.000000</td>\n",
       "      <td>0.000000</td>\n",
       "      <td>3.000000</td>\n",
       "      <td>7.000000</td>\n",
       "      <td>1560.000000</td>\n",
       "      <td>1975.000000</td>\n",
       "      <td>0.000000</td>\n",
       "      <td>98065.000000</td>\n",
       "      <td>47.571800</td>\n",
       "      <td>-122.231000</td>\n",
       "      <td>1840.000000</td>\n",
       "      <td>7620.000000</td>\n",
       "    </tr>\n",
       "    <tr>\n",
       "      <th>75%</th>\n",
       "      <td>7.308900e+09</td>\n",
       "      <td>6.450000e+05</td>\n",
       "      <td>4.000000</td>\n",
       "      <td>2.500000</td>\n",
       "      <td>2550.000000</td>\n",
       "      <td>1.068500e+04</td>\n",
       "      <td>2.000000</td>\n",
       "      <td>0.000000</td>\n",
       "      <td>0.000000</td>\n",
       "      <td>4.000000</td>\n",
       "      <td>8.000000</td>\n",
       "      <td>2210.000000</td>\n",
       "      <td>1997.000000</td>\n",
       "      <td>0.000000</td>\n",
       "      <td>98118.000000</td>\n",
       "      <td>47.678000</td>\n",
       "      <td>-122.125000</td>\n",
       "      <td>2360.000000</td>\n",
       "      <td>10083.000000</td>\n",
       "    </tr>\n",
       "    <tr>\n",
       "      <th>max</th>\n",
       "      <td>9.900000e+09</td>\n",
       "      <td>7.700000e+06</td>\n",
       "      <td>33.000000</td>\n",
       "      <td>8.000000</td>\n",
       "      <td>13540.000000</td>\n",
       "      <td>1.651359e+06</td>\n",
       "      <td>3.500000</td>\n",
       "      <td>1.000000</td>\n",
       "      <td>4.000000</td>\n",
       "      <td>5.000000</td>\n",
       "      <td>13.000000</td>\n",
       "      <td>9410.000000</td>\n",
       "      <td>2015.000000</td>\n",
       "      <td>2015.000000</td>\n",
       "      <td>98199.000000</td>\n",
       "      <td>47.777600</td>\n",
       "      <td>-121.315000</td>\n",
       "      <td>6210.000000</td>\n",
       "      <td>871200.000000</td>\n",
       "    </tr>\n",
       "  </tbody>\n",
       "</table>\n",
       "</div>"
      ],
      "text/plain": [
       "                 id         price      bedrooms     bathrooms   sqft_living  \\\n",
       "count  2.159700e+04  2.159700e+04  21597.000000  21597.000000  21597.000000   \n",
       "mean   4.580474e+09  5.402966e+05      3.373200      2.115826   2080.321850   \n",
       "std    2.876736e+09  3.673681e+05      0.926299      0.768984    918.106125   \n",
       "min    1.000102e+06  7.800000e+04      1.000000      0.500000    370.000000   \n",
       "25%    2.123049e+09  3.220000e+05      3.000000      1.750000   1430.000000   \n",
       "50%    3.904930e+09  4.500000e+05      3.000000      2.250000   1910.000000   \n",
       "75%    7.308900e+09  6.450000e+05      4.000000      2.500000   2550.000000   \n",
       "max    9.900000e+09  7.700000e+06     33.000000      8.000000  13540.000000   \n",
       "\n",
       "           sqft_lot        floors    waterfront          view     condition  \\\n",
       "count  2.159700e+04  21597.000000  19221.000000  21534.000000  21597.000000   \n",
       "mean   1.509941e+04      1.494096      0.007596      0.233863      3.409825   \n",
       "std    4.141264e+04      0.539683      0.086825      0.765686      0.650546   \n",
       "min    5.200000e+02      1.000000      0.000000      0.000000      1.000000   \n",
       "25%    5.040000e+03      1.000000      0.000000      0.000000      3.000000   \n",
       "50%    7.618000e+03      1.500000      0.000000      0.000000      3.000000   \n",
       "75%    1.068500e+04      2.000000      0.000000      0.000000      4.000000   \n",
       "max    1.651359e+06      3.500000      1.000000      4.000000      5.000000   \n",
       "\n",
       "              grade    sqft_above      yr_built  yr_renovated       zipcode  \\\n",
       "count  21597.000000  21597.000000  21597.000000  17755.000000  21597.000000   \n",
       "mean       7.657915   1788.596842   1970.999676     83.636778  98077.951845   \n",
       "std        1.173200    827.759761     29.375234    399.946414     53.513072   \n",
       "min        3.000000    370.000000   1900.000000      0.000000  98001.000000   \n",
       "25%        7.000000   1190.000000   1951.000000      0.000000  98033.000000   \n",
       "50%        7.000000   1560.000000   1975.000000      0.000000  98065.000000   \n",
       "75%        8.000000   2210.000000   1997.000000      0.000000  98118.000000   \n",
       "max       13.000000   9410.000000   2015.000000   2015.000000  98199.000000   \n",
       "\n",
       "                lat          long  sqft_living15     sqft_lot15  \n",
       "count  21597.000000  21597.000000   21597.000000   21597.000000  \n",
       "mean      47.560093   -122.213982    1986.620318   12758.283512  \n",
       "std        0.138552      0.140724     685.230472   27274.441950  \n",
       "min       47.155900   -122.519000     399.000000     651.000000  \n",
       "25%       47.471100   -122.328000    1490.000000    5100.000000  \n",
       "50%       47.571800   -122.231000    1840.000000    7620.000000  \n",
       "75%       47.678000   -122.125000    2360.000000   10083.000000  \n",
       "max       47.777600   -121.315000    6210.000000  871200.000000  "
      ]
     },
     "execution_count": 5,
     "metadata": {},
     "output_type": "execute_result"
    }
   ],
   "source": [
    "df.describe() # gather summary statistics of the data"
   ]
  },
  {
   "cell_type": "markdown",
   "metadata": {},
   "source": [
    "As I suspected, the waterfront, condition, grade and zipcode values are all categorical. We know this because their distributions are limited and the values are finite. The values in these columns describe quality, rather than quantity. The waterfront column, specifically, is full of boolean values (facing or not facing the waterfront). It is unclear at this moment whether the views column is a boolean (categorical variable) or a view count (quantitative variable). I need to look further into the yr_renovated category, because most of the data is '0', but the max is '2015'. Because sqft_basement is an object, it is not included in the summary statistics. I will need to change the data type in order to explore it. I'll look into each of these specific features to make decisions. "
   ]
  },
  {
   "cell_type": "markdown",
   "metadata": {},
   "source": [
    "## Scrubbing the data"
   ]
  },
  {
   "cell_type": "code",
   "execution_count": 6,
   "metadata": {},
   "outputs": [],
   "source": [
    "# Automate comparative scatterplot viewing\n",
    "# this function allows me to plot 4 scatterplots next to each other\n",
    "# for ease of comparison\n",
    "\n",
    "def multi_scatter(column_names = None, target = None):\n",
    "    fig, axs = plt.subplots(1, 4, sharey=True, figsize=(18, 6))\n",
    "    for idx, feature in enumerate(column_names):\n",
    "        df.plot(kind='scatter', x=feature, y=target, ax=axs[idx], label=feature, alpha = 0.3)\n",
    "    plt.legend()\n",
    "    \n",
    "# Drop outliers in a column\n",
    "def drop_max(column_name = None):\n",
    "    max_val = df[column_name].idxmax()\n",
    "    df[column_name] = df[column_name].drop([max_val])\n",
    "    return df.boxplot([column_name])\n",
    "\n",
    "# quickly build heatmaps\n",
    "def correlation_heatmap(df): \n",
    "    _, ax = plt.subplots(figsize = (15, 10))\n",
    "    colormap= sns.diverging_palette(220, 10, as_cmap = True)\n",
    "    sns.heatmap(df.corr(), annot=True, cmap = colormap)"
   ]
  },
  {
   "cell_type": "markdown",
   "metadata": {},
   "source": [
    "I wrote the \"multi_scatter\" function so I could make scatterplots in groups of four. Although I used the funciton a lot in the beginning stages of my analysis, I ultimately found no use for the scatterplots after I changed my approach. I left the function there in order to document that part of the process. Drop_outliers helps me determine which rows contain overly large values and then drop them. The box plot helps me visually check for outliers. The correlation_heatmap helps determine how strongly related two features are, but it does not mean there is causation."
   ]
  },
  {
   "cell_type": "markdown",
   "metadata": {},
   "source": [
    "### Where are the  null values in the data frame?"
   ]
  },
  {
   "cell_type": "markdown",
   "metadata": {},
   "source": [
    "We know that only two columns contain NaN values, but are there any placeholders or zeros in the data frame?"
   ]
  },
  {
   "cell_type": "code",
   "execution_count": 7,
   "metadata": {},
   "outputs": [
    {
     "data": {
      "text/plain": [
       "3    14020\n",
       "4     5677\n",
       "5     1701\n",
       "2      170\n",
       "1       29\n",
       "Name: condition, dtype: int64"
      ]
     },
     "execution_count": 7,
     "metadata": {},
     "output_type": "execute_result"
    }
   ],
   "source": [
    "df['condition'].value_counts()  # checking for placeholders\n",
    "                                # chose value counts for the sake of granularity\n",
    "                                # lower frequencies get lost in a hist with so many data points"
   ]
  },
  {
   "cell_type": "code",
   "execution_count": 8,
   "metadata": {},
   "outputs": [
    {
     "data": {
      "text/plain": [
       "7     8974\n",
       "8     6065\n",
       "9     2615\n",
       "6     2038\n",
       "10    1134\n",
       "11     399\n",
       "5      242\n",
       "12      89\n",
       "4       27\n",
       "13      13\n",
       "3        1\n",
       "Name: grade, dtype: int64"
      ]
     },
     "execution_count": 8,
     "metadata": {},
     "output_type": "execute_result"
    }
   ],
   "source": [
    "df['grade'].value_counts() "
   ]
  },
  {
   "cell_type": "code",
   "execution_count": 9,
   "metadata": {},
   "outputs": [
    {
     "data": {
      "text/plain": [
       "array([98178, 98125, 98028, 98136, 98074, 98053, 98003, 98198, 98146,\n",
       "       98038, 98007, 98115, 98107, 98126, 98019, 98103, 98002, 98133,\n",
       "       98040, 98092, 98030, 98119, 98112, 98052, 98027, 98117, 98058,\n",
       "       98001, 98056, 98166, 98023, 98070, 98148, 98105, 98042, 98008,\n",
       "       98059, 98122, 98144, 98004, 98005, 98034, 98075, 98116, 98010,\n",
       "       98118, 98199, 98032, 98045, 98102, 98077, 98108, 98168, 98177,\n",
       "       98065, 98029, 98006, 98109, 98022, 98033, 98155, 98024, 98011,\n",
       "       98031, 98106, 98072, 98188, 98014, 98055, 98039], dtype=int64)"
      ]
     },
     "execution_count": 9,
     "metadata": {},
     "output_type": "execute_result"
    }
   ],
   "source": [
    "df['zipcode'].unique() # checking for placeholder\n",
    "# the list is too long to see all the values with value counts. "
   ]
  },
  {
   "cell_type": "markdown",
   "metadata": {},
   "source": [
    "For \"grade\" and \"condition\", I used value_counts() because it would be easy to type, say, '1' when a value is missing. If I saw an overwhelming amount of 1s, that would be a sign of a placeholder. In the condition category, we see a lot of 3s, this value makes sense because it is the value commonly thought of as \"average condition\" in layman's terms. It would actually be more unusual to see a lot of houses that are perfect (5) or in total disrepair (1). For zipcodes, rather than checking whether a value overwhelms the rest, we can check unique values. Because the zipcodes have a set format and are all in the same area, a placeholder number would stick out. To double check, I'll take a look at a histogram."
   ]
  },
  {
   "cell_type": "code",
   "execution_count": 10,
   "metadata": {},
   "outputs": [
    {
     "data": {
      "text/plain": [
       "(array([2856., 4380., 3341., 1696.,  351., 4257., 1809., 1134., 1040.,\n",
       "         733.]),\n",
       " array([98001. , 98020.8, 98040.6, 98060.4, 98080.2, 98100. , 98119.8,\n",
       "        98139.6, 98159.4, 98179.2, 98199. ]),\n",
       " <a list of 10 Patch objects>)"
      ]
     },
     "execution_count": 10,
     "metadata": {},
     "output_type": "execute_result"
    },
    {
     "data": {
      "image/png": "[encoded data removed]",
      "text/plain": [
       "<Figure size 432x288 with 1 Axes>"
      ]
     },
     "metadata": {
      "needs_background": "light"
     },
     "output_type": "display_data"
    }
   ],
   "source": [
    "plt.hist(df['zipcode'])"
   ]
  },
  {
   "cell_type": "markdown",
   "metadata": {},
   "source": [
    "As we can see, there are no zeros in the \"zipcode\" column and none of the values overwhelm the others. There appears to be a relatively small numner of houses in the zipcodes between 98075 and 98100. This may be because those zipcodes are on the outer edges of the county, and are therefore mostly excluded, or because there is a lake, commercial district, forest, or other land feature preventing houses from being built on that land. Without mapping the zipcodes onto a map, it is difficult to determine the cause of the dip.  "
   ]
  },
  {
   "cell_type": "code",
   "execution_count": 11,
   "metadata": {},
   "outputs": [
    {
     "data": {
      "text/plain": [
       "0.0    19422\n",
       "2.0      957\n",
       "3.0      508\n",
       "1.0      330\n",
       "4.0      317\n",
       "Name: view, dtype: int64"
      ]
     },
     "execution_count": 11,
     "metadata": {},
     "output_type": "execute_result"
    }
   ],
   "source": [
    "df['view'].value_counts()"
   ]
  },
  {
   "cell_type": "markdown",
   "metadata": {},
   "source": [
    "The view column is a quantitative variable, so it can remain an integer. It seems the majority of properties have not been viewed, which makes sense because only a small number of houses are for sale at a given time. I am choosing not to drop this category because view counts may give us an indication of which locations are in-demand. A high view count in a certain area means the demand is higher than the supply, which could drive prices up."
   ]
  },
  {
   "cell_type": "markdown",
   "metadata": {},
   "source": [
    "### Are the columns *really* categorical?"
   ]
  },
  {
   "cell_type": "code",
   "execution_count": 12,
   "metadata": {},
   "outputs": [
    {
     "data": {
      "image/png": "[encoded data removed]",
      "text/plain": [
       "<Figure size 1296x432 with 4 Axes>"
      ]
     },
     "metadata": {
      "needs_background": "light"
     },
     "output_type": "display_data"
    }
   ],
   "source": [
    "multi_scatter(column_names = ['zipcode', 'condition', 'grade', 'waterfront'], \n",
    "              target = 'price')"
   ]
  },
  {
   "cell_type": "markdown",
   "metadata": {},
   "source": [
    "Here we see three distinct categorical variables: condition, grade, waterfront. The zipcode column appears to be more continuous. I will make note of them, but I do not plan to encode until after cleaning the rest of the data and looking at the heatmap. "
   ]
  },
  {
   "cell_type": "markdown",
   "metadata": {},
   "source": [
    "### Dealing with Outliers"
   ]
  },
  {
   "cell_type": "code",
   "execution_count": 13,
   "metadata": {},
   "outputs": [
    {
     "data": {
      "text/plain": [
       "<matplotlib.axes._subplots.AxesSubplot at 0x1d843d8d908>"
      ]
     },
     "execution_count": 13,
     "metadata": {},
     "output_type": "execute_result"
    },
    {
     "data": {
      "image/png": "[encoded data removed]",
      "text/plain": [
       "<Figure size 432x288 with 1 Axes>"
      ]
     },
     "metadata": {
      "needs_background": "light"
     },
     "output_type": "display_data"
    }
   ],
   "source": [
    "df.boxplot(['bedrooms'])"
   ]
  },
  {
   "cell_type": "markdown",
   "metadata": {},
   "source": [
    "Only one house has 33 bedrooms, and this number is far higher than the next largest number of rooms. It seems unlikely that the number of bedrooms would jump from 11 to 33, so it is safe to assume this is a placeholder value. Getting rid of it will give cleaner summary statistics. "
   ]
  },
  {
   "cell_type": "code",
   "execution_count": 14,
   "metadata": {},
   "outputs": [
    {
     "data": {
      "text/plain": [
       "<matplotlib.axes._subplots.AxesSubplot at 0x1d8430bfbe0>"
      ]
     },
     "execution_count": 14,
     "metadata": {},
     "output_type": "execute_result"
    },
    {
     "data": {
      "image/png": "[encoded data removed]",
      "text/plain": [
       "<Figure size 432x288 with 1 Axes>"
      ]
     },
     "metadata": {
      "needs_background": "light"
     },
     "output_type": "display_data"
    }
   ],
   "source": [
    "drop_max(column_name = 'bedrooms')"
   ]
  },
  {
   "cell_type": "code",
   "execution_count": 15,
   "metadata": {},
   "outputs": [
    {
     "data": {
      "text/plain": [
       "<matplotlib.axes._subplots.AxesSubplot at 0x1d843da5400>"
      ]
     },
     "execution_count": 15,
     "metadata": {},
     "output_type": "execute_result"
    },
    {
     "data": {
      "image/png": "[encoded data removed]",
      "text/plain": [
       "<Figure size 432x288 with 1 Axes>"
      ]
     },
     "metadata": {
      "needs_background": "light"
     },
     "output_type": "display_data"
    }
   ],
   "source": [
    "df.boxplot(['bathrooms']) # check for bathroom outliers"
   ]
  },
  {
   "cell_type": "markdown",
   "metadata": {},
   "source": [
    "Though there are quite few houses with more than 4 bathrooms, none of the numbers appear obvious ouliers. Therefore, this data is acceptable. \n",
    "\n",
    "The summary statistics also showed a housing lot that is almost 900,000 square feet. This is almost certainly an outlier (the possible the result of a mis-zoned lot), but I'd like to verify instead. While value counts are useful when you are dealing with a small set of categories, I need to use a data visualization method to look at the square footage, because there is a large range."
   ]
  },
  {
   "cell_type": "code",
   "execution_count": 16,
   "metadata": {},
   "outputs": [
    {
     "data": {
      "text/plain": [
       "<matplotlib.axes._subplots.AxesSubplot at 0x1d84331e1d0>"
      ]
     },
     "execution_count": 16,
     "metadata": {},
     "output_type": "execute_result"
    },
    {
     "data": {
      "image/png": "[encoded data removed]",
      "text/plain": [
       "<Figure size 432x432 with 1 Axes>"
      ]
     },
     "metadata": {
      "needs_background": "light"
     },
     "output_type": "display_data"
    }
   ],
   "source": [
    "plt.figure(figsize = (6,6))\n",
    "df.boxplot(['sqft_lot15']) "
   ]
  },
  {
   "cell_type": "markdown",
   "metadata": {},
   "source": [
    "The boxplot shows that some of these values are several hundred thousand square feet larger than the others. It also seems that the interquartile range is near zero. We already know that 75% of the lots are 10,000 square feet or less, but the mean is around 12000. This means the outliers are influencing the calculations. Removing the biggest outliers will creat handier data, then we can normalize the data later."
   ]
  },
  {
   "cell_type": "code",
   "execution_count": 17,
   "metadata": {},
   "outputs": [
    {
     "data": {
      "text/plain": [
       "<matplotlib.axes._subplots.AxesSubplot at 0x1d8431bc2e8>"
      ]
     },
     "execution_count": 17,
     "metadata": {},
     "output_type": "execute_result"
    },
    {
     "data": {
      "image/png": "[encoded data removed]",
      "text/plain": [
       "<Figure size 432x288 with 1 Axes>"
      ]
     },
     "metadata": {
      "needs_background": "light"
     },
     "output_type": "display_data"
    }
   ],
   "source": [
    "drop_max('sqft_lot15')"
   ]
  },
  {
   "cell_type": "code",
   "execution_count": 18,
   "metadata": {},
   "outputs": [
    {
     "data": {
      "text/plain": [
       "<matplotlib.axes._subplots.AxesSubplot at 0x1d8431e7ba8>"
      ]
     },
     "execution_count": 18,
     "metadata": {},
     "output_type": "execute_result"
    },
    {
     "data": {
      "image/png": "[encoded data removed]",
      "text/plain": [
       "<Figure size 432x288 with 1 Axes>"
      ]
     },
     "metadata": {
      "needs_background": "light"
     },
     "output_type": "display_data"
    }
   ],
   "source": [
    "drop_max('sqft_lot15')"
   ]
  },
  {
   "cell_type": "code",
   "execution_count": 19,
   "metadata": {},
   "outputs": [
    {
     "data": {
      "text/plain": [
       "<matplotlib.axes._subplots.AxesSubplot at 0x1d8432a3ac8>"
      ]
     },
     "execution_count": 19,
     "metadata": {},
     "output_type": "execute_result"
    },
    {
     "data": {
      "image/png": "[encoded data removed]",
      "text/plain": [
       "<Figure size 432x288 with 1 Axes>"
      ]
     },
     "metadata": {
      "needs_background": "light"
     },
     "output_type": "display_data"
    }
   ],
   "source": [
    "drop_max('sqft_lot15')"
   ]
  },
  {
   "cell_type": "code",
   "execution_count": 20,
   "metadata": {},
   "outputs": [
    {
     "data": {
      "text/plain": [
       "count     21594.000000\n",
       "mean      12654.010373\n",
       "std       25746.123012\n",
       "min         651.000000\n",
       "25%        5100.000000\n",
       "50%        7620.000000\n",
       "75%       10080.000000\n",
       "max      438213.000000\n",
       "Name: sqft_lot15, dtype: float64"
      ]
     },
     "execution_count": 20,
     "metadata": {},
     "output_type": "execute_result"
    }
   ],
   "source": [
    "df.sqft_lot15.describe()"
   ]
  },
  {
   "cell_type": "markdown",
   "metadata": {},
   "source": [
    "Removing the outliers actually pushed the mean higher. Because the mean depends partially on the number of data points, removing the outliers gave more weight to the next highest values. The best step for this column is normalization and scaling, because there are so many outliers. \n",
    "\n",
    "Now that the \"quick fix\" scrubbing is complete, it's time to take a close look at the year_renovated column, which has missing values."
   ]
  },
  {
   "cell_type": "markdown",
   "metadata": {},
   "source": [
    "### Handling Null Values"
   ]
  },
  {
   "cell_type": "code",
   "execution_count": 21,
   "metadata": {},
   "outputs": [
    {
     "data": {
      "text/plain": [
       "array([   0., 1991.,   nan, 2002., 2010., 1992., 2013., 1994., 1978.,\n",
       "       2005., 2003., 1984., 1954., 2014., 2011., 1983., 1945., 1990.,\n",
       "       1988., 1977., 1981., 1995., 2000., 1999., 1998., 1970., 1989.,\n",
       "       2004., 1986., 2007., 1987., 2006., 1985., 2001., 1980., 1971.,\n",
       "       1979., 1997., 1950., 1969., 1948., 2009., 2015., 1974., 2008.,\n",
       "       1968., 2012., 1963., 1951., 1962., 1953., 1993., 1996., 1955.,\n",
       "       1982., 1956., 1940., 1976., 1946., 1975., 1964., 1973., 1957.,\n",
       "       1959., 1960., 1967., 1965., 1934., 1972., 1944., 1958.])"
      ]
     },
     "execution_count": 21,
     "metadata": {},
     "output_type": "execute_result"
    }
   ],
   "source": [
    "df['yr_renovated'].unique() # take a look at the values to look for anomalies"
   ]
  },
  {
   "cell_type": "markdown",
   "metadata": {},
   "source": [
    "Here we see the yr_renovated column has a number of issues, besides being incomplete. First, there are two different ways to denote null values ('0' and 'nan'-- blank cells). Morever, the values are all floats, but there are no numbers following the years. Whereas I had assumed the date was typed as yr.month.day (e.g. 1990.05.23), this is simply a list of years. To clean this column, we need to do two things: 1) determine whether to remove or replace null values and 2) reformat the values so they are simple integers (or potentially, datetime objects). "
   ]
  },
  {
   "cell_type": "code",
   "execution_count": 22,
   "metadata": {},
   "outputs": [
    {
     "data": {
      "text/plain": [
       "0.0       17011\n",
       "2014.0       73\n",
       "2003.0       31\n",
       "2013.0       31\n",
       "2007.0       30\n",
       "2000.0       29\n",
       "2005.0       29\n",
       "1990.0       22\n",
       "2004.0       22\n",
       "2009.0       21\n",
       "1989.0       20\n",
       "2006.0       20\n",
       "2002.0       17\n",
       "1991.0       16\n",
       "1998.0       16\n",
       "1984.0       16\n",
       "1999.0       15\n",
       "2008.0       15\n",
       "2010.0       15\n",
       "2001.0       15\n",
       "1983.0       15\n",
       "2015.0       14\n",
       "1985.0       14\n",
       "1986.0       14\n",
       "1987.0       14\n",
       "1994.0       14\n",
       "1992.0       13\n",
       "1993.0       12\n",
       "1997.0       12\n",
       "1995.0       12\n",
       "          ...  \n",
       "1975.0        5\n",
       "1964.0        5\n",
       "1969.0        4\n",
       "1963.0        4\n",
       "1973.0        4\n",
       "1981.0        4\n",
       "1965.0        4\n",
       "1978.0        3\n",
       "1960.0        3\n",
       "1958.0        3\n",
       "1956.0        3\n",
       "1955.0        3\n",
       "1945.0        3\n",
       "1972.0        3\n",
       "1967.0        2\n",
       "1957.0        2\n",
       "1940.0        2\n",
       "1974.0        2\n",
       "1962.0        2\n",
       "1953.0        1\n",
       "1950.0        1\n",
       "1934.0        1\n",
       "1944.0        1\n",
       "1976.0        1\n",
       "1948.0        1\n",
       "1946.0        1\n",
       "1959.0        1\n",
       "1971.0        1\n",
       "1951.0        1\n",
       "1954.0        1\n",
       "Name: yr_renovated, Length: 70, dtype: int64"
      ]
     },
     "execution_count": 22,
     "metadata": {},
     "output_type": "execute_result"
    }
   ],
   "source": [
    "df['yr_renovated'].value_counts()"
   ]
  },
  {
   "cell_type": "code",
   "execution_count": 23,
   "metadata": {},
   "outputs": [
    {
     "data": {
      "text/plain": [
       "0.787655692920313"
      ]
     },
     "execution_count": 23,
     "metadata": {},
     "output_type": "execute_result"
    }
   ],
   "source": [
    "17011/len(df['yr_renovated'])"
   ]
  },
  {
   "cell_type": "markdown",
   "metadata": {},
   "source": [
    "Almost 80% of the data contains a '0'. Either the data is missing or the houses have never been renovated, At any rate, we won't gain much insight from such a small sample. It's better to drop it than to attempt to clean it and use it. "
   ]
  },
  {
   "cell_type": "code",
   "execution_count": 24,
   "metadata": {},
   "outputs": [
    {
     "data": {
      "text/html": [
       "<div>\n",
       "<style scoped>\n",
       "    .dataframe tbody tr th:only-of-type {\n",
       "        vertical-align: middle;\n",
       "    }\n",
       "\n",
       "    .dataframe tbody tr th {\n",
       "        vertical-align: top;\n",
       "    }\n",
       "\n",
       "    .dataframe thead th {\n",
       "        text-align: right;\n",
       "    }\n",
       "</style>\n",
       "<table border=\"1\" class=\"dataframe\">\n",
       "  <thead>\n",
       "    <tr style=\"text-align: right;\">\n",
       "      <th></th>\n",
       "      <th>id</th>\n",
       "      <th>date</th>\n",
       "      <th>price</th>\n",
       "      <th>bedrooms</th>\n",
       "      <th>bathrooms</th>\n",
       "      <th>sqft_living</th>\n",
       "      <th>sqft_lot</th>\n",
       "      <th>floors</th>\n",
       "      <th>waterfront</th>\n",
       "      <th>view</th>\n",
       "      <th>condition</th>\n",
       "      <th>grade</th>\n",
       "      <th>sqft_above</th>\n",
       "      <th>sqft_basement</th>\n",
       "      <th>yr_built</th>\n",
       "      <th>zipcode</th>\n",
       "      <th>lat</th>\n",
       "      <th>long</th>\n",
       "      <th>sqft_living15</th>\n",
       "      <th>sqft_lot15</th>\n",
       "    </tr>\n",
       "  </thead>\n",
       "  <tbody>\n",
       "    <tr>\n",
       "      <th>0</th>\n",
       "      <td>7129300520</td>\n",
       "      <td>10/13/2014</td>\n",
       "      <td>221900.0</td>\n",
       "      <td>3.0</td>\n",
       "      <td>1.00</td>\n",
       "      <td>1180</td>\n",
       "      <td>5650</td>\n",
       "      <td>1.0</td>\n",
       "      <td>NaN</td>\n",
       "      <td>0.0</td>\n",
       "      <td>3</td>\n",
       "      <td>7</td>\n",
       "      <td>1180</td>\n",
       "      <td>0.0</td>\n",
       "      <td>1955</td>\n",
       "      <td>98178</td>\n",
       "      <td>47.5112</td>\n",
       "      <td>-122.257</td>\n",
       "      <td>1340</td>\n",
       "      <td>5650.0</td>\n",
       "    </tr>\n",
       "    <tr>\n",
       "      <th>1</th>\n",
       "      <td>6414100192</td>\n",
       "      <td>12/9/2014</td>\n",
       "      <td>538000.0</td>\n",
       "      <td>3.0</td>\n",
       "      <td>2.25</td>\n",
       "      <td>2570</td>\n",
       "      <td>7242</td>\n",
       "      <td>2.0</td>\n",
       "      <td>0.0</td>\n",
       "      <td>0.0</td>\n",
       "      <td>3</td>\n",
       "      <td>7</td>\n",
       "      <td>2170</td>\n",
       "      <td>400.0</td>\n",
       "      <td>1951</td>\n",
       "      <td>98125</td>\n",
       "      <td>47.7210</td>\n",
       "      <td>-122.319</td>\n",
       "      <td>1690</td>\n",
       "      <td>7639.0</td>\n",
       "    </tr>\n",
       "    <tr>\n",
       "      <th>2</th>\n",
       "      <td>5631500400</td>\n",
       "      <td>2/25/2015</td>\n",
       "      <td>180000.0</td>\n",
       "      <td>2.0</td>\n",
       "      <td>1.00</td>\n",
       "      <td>770</td>\n",
       "      <td>10000</td>\n",
       "      <td>1.0</td>\n",
       "      <td>0.0</td>\n",
       "      <td>0.0</td>\n",
       "      <td>3</td>\n",
       "      <td>6</td>\n",
       "      <td>770</td>\n",
       "      <td>0.0</td>\n",
       "      <td>1933</td>\n",
       "      <td>98028</td>\n",
       "      <td>47.7379</td>\n",
       "      <td>-122.233</td>\n",
       "      <td>2720</td>\n",
       "      <td>8062.0</td>\n",
       "    </tr>\n",
       "    <tr>\n",
       "      <th>3</th>\n",
       "      <td>2487200875</td>\n",
       "      <td>12/9/2014</td>\n",
       "      <td>604000.0</td>\n",
       "      <td>4.0</td>\n",
       "      <td>3.00</td>\n",
       "      <td>1960</td>\n",
       "      <td>5000</td>\n",
       "      <td>1.0</td>\n",
       "      <td>0.0</td>\n",
       "      <td>0.0</td>\n",
       "      <td>5</td>\n",
       "      <td>7</td>\n",
       "      <td>1050</td>\n",
       "      <td>910.0</td>\n",
       "      <td>1965</td>\n",
       "      <td>98136</td>\n",
       "      <td>47.5208</td>\n",
       "      <td>-122.393</td>\n",
       "      <td>1360</td>\n",
       "      <td>5000.0</td>\n",
       "    </tr>\n",
       "    <tr>\n",
       "      <th>4</th>\n",
       "      <td>1954400510</td>\n",
       "      <td>2/18/2015</td>\n",
       "      <td>510000.0</td>\n",
       "      <td>3.0</td>\n",
       "      <td>2.00</td>\n",
       "      <td>1680</td>\n",
       "      <td>8080</td>\n",
       "      <td>1.0</td>\n",
       "      <td>0.0</td>\n",
       "      <td>0.0</td>\n",
       "      <td>3</td>\n",
       "      <td>8</td>\n",
       "      <td>1680</td>\n",
       "      <td>0.0</td>\n",
       "      <td>1987</td>\n",
       "      <td>98074</td>\n",
       "      <td>47.6168</td>\n",
       "      <td>-122.045</td>\n",
       "      <td>1800</td>\n",
       "      <td>7503.0</td>\n",
       "    </tr>\n",
       "  </tbody>\n",
       "</table>\n",
       "</div>"
      ],
      "text/plain": [
       "           id        date     price  bedrooms  bathrooms  sqft_living  \\\n",
       "0  7129300520  10/13/2014  221900.0       3.0       1.00         1180   \n",
       "1  6414100192   12/9/2014  538000.0       3.0       2.25         2570   \n",
       "2  5631500400   2/25/2015  180000.0       2.0       1.00          770   \n",
       "3  2487200875   12/9/2014  604000.0       4.0       3.00         1960   \n",
       "4  1954400510   2/18/2015  510000.0       3.0       2.00         1680   \n",
       "\n",
       "   sqft_lot  floors  waterfront  view  condition  grade  sqft_above  \\\n",
       "0      5650     1.0         NaN   0.0          3      7        1180   \n",
       "1      7242     2.0         0.0   0.0          3      7        2170   \n",
       "2     10000     1.0         0.0   0.0          3      6         770   \n",
       "3      5000     1.0         0.0   0.0          5      7        1050   \n",
       "4      8080     1.0         0.0   0.0          3      8        1680   \n",
       "\n",
       "  sqft_basement  yr_built  zipcode      lat     long  sqft_living15  \\\n",
       "0           0.0      1955    98178  47.5112 -122.257           1340   \n",
       "1         400.0      1951    98125  47.7210 -122.319           1690   \n",
       "2           0.0      1933    98028  47.7379 -122.233           2720   \n",
       "3         910.0      1965    98136  47.5208 -122.393           1360   \n",
       "4           0.0      1987    98074  47.6168 -122.045           1800   \n",
       "\n",
       "   sqft_lot15  \n",
       "0      5650.0  \n",
       "1      7639.0  \n",
       "2      8062.0  \n",
       "3      5000.0  \n",
       "4      7503.0  "
      ]
     },
     "execution_count": 24,
     "metadata": {},
     "output_type": "execute_result"
    }
   ],
   "source": [
    "df = df.drop(['yr_renovated'], axis = 1)\n",
    "df.head()"
   ]
  },
  {
   "cell_type": "markdown",
   "metadata": {},
   "source": [
    "Next, let's look at the yr_built column."
   ]
  },
  {
   "cell_type": "code",
   "execution_count": 25,
   "metadata": {},
   "outputs": [
    {
     "data": {
      "text/plain": [
       "array([1955, 1951, 1933, 1965, 1987, 2001, 1995, 1963, 1960, 2003, 1942,\n",
       "       1927, 1977, 1900, 1979, 1994, 1916, 1921, 1969, 1947, 1968, 1985,\n",
       "       1941, 1915, 1909, 1948, 2005, 1929, 1981, 1930, 1904, 1996, 2000,\n",
       "       1984, 2014, 1922, 1959, 1966, 1953, 1950, 2008, 1991, 1954, 1973,\n",
       "       1925, 1989, 1972, 1986, 1956, 2002, 1992, 1964, 1952, 1961, 2006,\n",
       "       1988, 1962, 1939, 1946, 1967, 1975, 1980, 1910, 1983, 1978, 1905,\n",
       "       1971, 2010, 1945, 1924, 1990, 1914, 1926, 2004, 1923, 2007, 1976,\n",
       "       1949, 1999, 1901, 1993, 1920, 1997, 1943, 1957, 1940, 1918, 1928,\n",
       "       1974, 1911, 1936, 1937, 1982, 1908, 1931, 1998, 1913, 2013, 1907,\n",
       "       1958, 2012, 1912, 2011, 1917, 1932, 1944, 1902, 2009, 1903, 1970,\n",
       "       2015, 1934, 1938, 1919, 1906, 1935], dtype=int64)"
      ]
     },
     "execution_count": 25,
     "metadata": {},
     "output_type": "execute_result"
    }
   ],
   "source": [
    "df.yr_built.unique() #check for obvious place holders"
   ]
  },
  {
   "cell_type": "code",
   "execution_count": 26,
   "metadata": {},
   "outputs": [
    {
     "data": {
      "text/plain": [
       "<matplotlib.axes._subplots.AxesSubplot at 0x1d8431ff6a0>"
      ]
     },
     "execution_count": 26,
     "metadata": {},
     "output_type": "execute_result"
    },
    {
     "data": {
      "image/png": "[encoded data removed]",
      "text/plain": [
       "<Figure size 432x288 with 1 Axes>"
      ]
     },
     "metadata": {
      "needs_background": "light"
     },
     "output_type": "display_data"
    }
   ],
   "source": [
    "df.yr_built.hist() # check for categories with a seemingly large amount of values"
   ]
  },
  {
   "cell_type": "markdown",
   "metadata": {},
   "source": [
    "Everything checks out with the yr_built category. The sharp rise in house construction between 1940 and 1945 is consistent with the rising population in the post-WWII era. I verified the population by looking at [the history of King County](https://www.kingcounty.gov/depts/records-licensing/archives/research-guides/KCHistoryQuickFacts.aspx). "
   ]
  },
  {
   "cell_type": "code",
   "execution_count": 27,
   "metadata": {},
   "outputs": [
    {
     "data": {
      "text/plain": [
       "0       2014-10-13\n",
       "1       2014-12-09\n",
       "2       2015-02-25\n",
       "3       2014-12-09\n",
       "4       2015-02-18\n",
       "5       2014-05-12\n",
       "6       2014-06-27\n",
       "7       2015-01-15\n",
       "8       2015-04-15\n",
       "9       2015-03-12\n",
       "10      2015-04-03\n",
       "11      2014-05-27\n",
       "12      2014-05-28\n",
       "13      2014-10-07\n",
       "14      2015-03-12\n",
       "15      2015-01-24\n",
       "16      2014-07-31\n",
       "17      2014-05-29\n",
       "18      2014-12-05\n",
       "19      2015-04-24\n",
       "20      2014-05-14\n",
       "21      2014-08-26\n",
       "22      2014-07-03\n",
       "23      2014-05-16\n",
       "24      2014-11-20\n",
       "25      2014-11-03\n",
       "26      2014-06-26\n",
       "27      2014-12-01\n",
       "28      2014-06-24\n",
       "29      2015-03-02\n",
       "           ...    \n",
       "21567   2014-06-10\n",
       "21568   2014-12-02\n",
       "21569   2014-08-28\n",
       "21570   2014-10-15\n",
       "21571   2015-03-05\n",
       "21572   2014-11-13\n",
       "21573   2014-09-10\n",
       "21574   2014-05-14\n",
       "21575   2014-10-02\n",
       "21576   2015-04-16\n",
       "21577   2015-03-17\n",
       "21578   2014-10-17\n",
       "21579   2014-10-31\n",
       "21580   2014-08-13\n",
       "21581   2015-04-21\n",
       "21582   2014-10-13\n",
       "21583   2014-09-15\n",
       "21584   2014-10-15\n",
       "21585   2015-04-07\n",
       "21586   2014-06-26\n",
       "21587   2014-08-25\n",
       "21588   2015-01-26\n",
       "21589   2014-10-14\n",
       "21590   2015-03-26\n",
       "21591   2015-02-19\n",
       "21592   2014-05-21\n",
       "21593   2015-02-23\n",
       "21594   2014-06-23\n",
       "21595   2015-01-16\n",
       "21596   2014-10-15\n",
       "Name: date, Length: 21597, dtype: datetime64[ns]"
      ]
     },
     "execution_count": 27,
     "metadata": {},
     "output_type": "execute_result"
    }
   ],
   "source": [
    "pd.to_datetime(df['date'])  # change the date into something pandas can read"
   ]
  },
  {
   "cell_type": "code",
   "execution_count": 28,
   "metadata": {},
   "outputs": [
    {
     "data": {
      "text/plain": [
       "array(['0.0', '400.0', '910.0', '1530.0', '?', '730.0', '1700.0', '300.0',\n",
       "       '970.0', '760.0', '720.0', '700.0', '820.0', '780.0', '790.0',\n",
       "       '330.0', '1620.0', '360.0', '588.0', '1510.0', '410.0', '990.0',\n",
       "       '600.0', '560.0', '550.0', '1000.0', '1600.0', '500.0', '1040.0',\n",
       "       '880.0', '1010.0', '240.0', '265.0', '290.0', '800.0', '540.0',\n",
       "       '710.0', '840.0', '380.0', '770.0', '480.0', '570.0', '1490.0',\n",
       "       '620.0', '1250.0', '1270.0', '120.0', '650.0', '180.0', '1130.0',\n",
       "       '450.0', '1640.0', '1460.0', '1020.0', '1030.0', '750.0', '640.0',\n",
       "       '1070.0', '490.0', '1310.0', '630.0', '2000.0', '390.0', '430.0',\n",
       "       '850.0', '210.0', '1430.0', '1950.0', '440.0', '220.0', '1160.0',\n",
       "       '860.0', '580.0', '2060.0', '1820.0', '1180.0', '200.0', '1150.0',\n",
       "       '1200.0', '680.0', '530.0', '1450.0', '1170.0', '1080.0', '960.0',\n",
       "       '280.0', '870.0', '1100.0', '460.0', '1400.0', '660.0', '1220.0',\n",
       "       '900.0', '420.0', '1580.0', '1380.0', '475.0', '690.0', '270.0',\n",
       "       '350.0', '935.0', '1370.0', '980.0', '1470.0', '160.0', '950.0',\n",
       "       '50.0', '740.0', '1780.0', '1900.0', '340.0', '470.0', '370.0',\n",
       "       '140.0', '1760.0', '130.0', '520.0', '890.0', '1110.0', '150.0',\n",
       "       '1720.0', '810.0', '190.0', '1290.0', '670.0', '1800.0', '1120.0',\n",
       "       '1810.0', '60.0', '1050.0', '940.0', '310.0', '930.0', '1390.0',\n",
       "       '610.0', '1830.0', '1300.0', '510.0', '1330.0', '1590.0', '920.0',\n",
       "       '1320.0', '1420.0', '1240.0', '1960.0', '1560.0', '2020.0',\n",
       "       '1190.0', '2110.0', '1280.0', '250.0', '2390.0', '1230.0', '170.0',\n",
       "       '830.0', '1260.0', '1410.0', '1340.0', '590.0', '1500.0', '1140.0',\n",
       "       '260.0', '100.0', '320.0', '1480.0', '1060.0', '1284.0', '1670.0',\n",
       "       '1350.0', '2570.0', '1090.0', '110.0', '2500.0', '90.0', '1940.0',\n",
       "       '1550.0', '2350.0', '2490.0', '1481.0', '1360.0', '1135.0',\n",
       "       '1520.0', '1850.0', '1660.0', '2130.0', '2600.0', '1690.0',\n",
       "       '243.0', '1210.0', '1024.0', '1798.0', '1610.0', '1440.0',\n",
       "       '1570.0', '1650.0', '704.0', '1910.0', '1630.0', '2360.0',\n",
       "       '1852.0', '2090.0', '2400.0', '1790.0', '2150.0', '230.0', '70.0',\n",
       "       '1680.0', '2100.0', '3000.0', '1870.0', '1710.0', '2030.0',\n",
       "       '875.0', '1540.0', '2850.0', '2170.0', '506.0', '906.0', '145.0',\n",
       "       '2040.0', '784.0', '1750.0', '374.0', '518.0', '2720.0', '2730.0',\n",
       "       '1840.0', '3480.0', '2160.0', '1920.0', '2330.0', '1860.0',\n",
       "       '2050.0', '4820.0', '1913.0', '80.0', '2010.0', '3260.0', '2200.0',\n",
       "       '415.0', '1730.0', '652.0', '2196.0', '1930.0', '515.0', '40.0',\n",
       "       '2080.0', '2580.0', '1548.0', '1740.0', '235.0', '861.0', '1890.0',\n",
       "       '2220.0', '792.0', '2070.0', '4130.0', '2250.0', '2240.0',\n",
       "       '1990.0', '768.0', '2550.0', '435.0', '1008.0', '2300.0', '2610.0',\n",
       "       '666.0', '3500.0', '172.0', '1816.0', '2190.0', '1245.0', '1525.0',\n",
       "       '1880.0', '862.0', '946.0', '1281.0', '414.0', '2180.0', '276.0',\n",
       "       '1248.0', '602.0', '516.0', '176.0', '225.0', '1275.0', '266.0',\n",
       "       '283.0', '65.0', '2310.0', '10.0', '1770.0', '2120.0', '295.0',\n",
       "       '207.0', '915.0', '556.0', '417.0', '143.0', '508.0', '2810.0',\n",
       "       '20.0', '274.0', '248.0'], dtype=object)"
      ]
     },
     "execution_count": 28,
     "metadata": {},
     "output_type": "execute_result"
    }
   ],
   "source": [
    "df['sqft_basement'].unique()"
   ]
  },
  {
   "cell_type": "code",
   "execution_count": 28,
   "metadata": {},
   "outputs": [
    {
     "data": {
      "text/plain": [
       "0.0       12826\n",
       "?           454\n",
       "600.0       217\n",
       "500.0       209\n",
       "700.0       208\n",
       "800.0       201\n",
       "400.0       184\n",
       "1000.0      148\n",
       "900.0       142\n",
       "300.0       142\n",
       "200.0       105\n",
       "750.0       104\n",
       "530.0       103\n",
       "480.0       103\n",
       "450.0       103\n",
       "720.0        98\n",
       "620.0        90\n",
       "580.0        84\n",
       "840.0        83\n",
       "420.0        81\n",
       "860.0        79\n",
       "1100.0       78\n",
       "670.0        78\n",
       "780.0        76\n",
       "550.0        76\n",
       "650.0        75\n",
       "240.0        74\n",
       "380.0        73\n",
       "680.0        73\n",
       "360.0        72\n",
       "          ...  \n",
       "2310.0        1\n",
       "906.0         1\n",
       "516.0         1\n",
       "2500.0        1\n",
       "417.0         1\n",
       "3000.0        1\n",
       "1024.0        1\n",
       "1852.0        1\n",
       "2360.0        1\n",
       "2050.0        1\n",
       "3480.0        1\n",
       "1008.0        1\n",
       "2300.0        1\n",
       "1245.0        1\n",
       "1525.0        1\n",
       "792.0         1\n",
       "1481.0        1\n",
       "506.0         1\n",
       "176.0         1\n",
       "666.0         1\n",
       "2400.0        1\n",
       "1913.0        1\n",
       "2720.0        1\n",
       "1990.0        1\n",
       "1135.0        1\n",
       "2730.0        1\n",
       "1548.0        1\n",
       "2240.0        1\n",
       "1281.0        1\n",
       "784.0         1\n",
       "Name: sqft_basement, Length: 304, dtype: int64"
      ]
     },
     "execution_count": 28,
     "metadata": {},
     "output_type": "execute_result"
    }
   ],
   "source": [
    "df['sqft_basement'].value_counts()"
   ]
  },
  {
   "cell_type": "code",
   "execution_count": 30,
   "metadata": {},
   "outputs": [
    {
     "data": {
      "text/plain": [
       "0.0       12826\n",
       "600.0       217\n",
       "500.0       209\n",
       "700.0       208\n",
       "800.0       201\n",
       "400.0       184\n",
       "1000.0      148\n",
       "900.0       142\n",
       "300.0       142\n",
       "200.0       105\n",
       "750.0       104\n",
       "530.0       103\n",
       "480.0       103\n",
       "450.0       103\n",
       "720.0        98\n",
       "620.0        90\n",
       "580.0        84\n",
       "840.0        83\n",
       "420.0        81\n",
       "860.0        79\n",
       "1100.0       78\n",
       "670.0        78\n",
       "780.0        76\n",
       "550.0        76\n",
       "650.0        75\n",
       "240.0        74\n",
       "380.0        73\n",
       "680.0        73\n",
       "850.0        72\n",
       "360.0        72\n",
       "          ...  \n",
       "1990.0        1\n",
       "415.0         1\n",
       "207.0         1\n",
       "1008.0        1\n",
       "4130.0        1\n",
       "1245.0        1\n",
       "1920.0        1\n",
       "1525.0        1\n",
       "1798.0        1\n",
       "2360.0        1\n",
       "172.0         1\n",
       "2400.0        1\n",
       "1281.0        1\n",
       "20.0          1\n",
       "417.0         1\n",
       "602.0         1\n",
       "652.0         1\n",
       "704.0         1\n",
       "2130.0        1\n",
       "1024.0        1\n",
       "2310.0        1\n",
       "1275.0        1\n",
       "475.0         1\n",
       "768.0         1\n",
       "3000.0        1\n",
       "295.0         1\n",
       "2190.0        1\n",
       "1852.0        1\n",
       "1548.0        1\n",
       "2196.0        1\n",
       "Name: sqft_basement, Length: 303, dtype: int64"
      ]
     },
     "execution_count": 30,
     "metadata": {},
     "output_type": "execute_result"
    }
   ],
   "source": [
    "df = df[df.sqft_basement != '?'] # because '0' may mean no baesment, drop '?'\n",
    "df['sqft_basement'].value_counts()"
   ]
  },
  {
   "cell_type": "markdown",
   "metadata": {},
   "source": [
    "I have chosen to drop only the '?' place holder because we have no way of knowing whether the zero values are placeholders for missing information or simply an indication that the houses do not have basements, I am hesitant to remove them. "
   ]
  },
  {
   "cell_type": "code",
   "execution_count": 29,
   "metadata": {},
   "outputs": [
    {
     "data": {
      "text/plain": [
       "11.00152798999861"
      ]
     },
     "execution_count": 29,
     "metadata": {},
     "output_type": "execute_result"
    }
   ],
   "source": [
    "((df.waterfront.isna().sum())/(len(df['waterfront'])))*100 # find the percentage of missing data"
   ]
  },
  {
   "cell_type": "code",
   "execution_count": 30,
   "metadata": {},
   "outputs": [
    {
     "data": {
      "text/plain": [
       "array([nan,  0.,  1.])"
      ]
     },
     "execution_count": 30,
     "metadata": {},
     "output_type": "execute_result"
    }
   ],
   "source": [
    "df.waterfront.unique()"
   ]
  },
  {
   "cell_type": "markdown",
   "metadata": {},
   "source": [
    "The waterfront column contains boolean information: either the property is near the waterfront or it isn't. While dropping the rows with missing data would leave us with 90% of our data. For the sake of modelling, I'll drop these values. I'll separate the '0's and '1's into two different data frames and see what insight I can gain from it. "
   ]
  },
  {
   "cell_type": "code",
   "execution_count": 31,
   "metadata": {},
   "outputs": [
    {
     "name": "stdout",
     "output_type": "stream",
     "text": [
      "(19075, 20) (146, 20)\n"
     ]
    }
   ],
   "source": [
    "df_waterfront_c= df[df['waterfront'] == df['waterfront']] # creating a new waterfront dataframe w/o null values\n",
    "print(df_waterfront_c[df_waterfront_c.waterfront ==0].shape, \n",
    "      df_waterfront_c[df_waterfront_c.waterfront ==1].shape)"
   ]
  },
  {
   "cell_type": "code",
   "execution_count": 32,
   "metadata": {},
   "outputs": [
    {
     "data": {
      "text/html": [
       "<div>\n",
       "<style scoped>\n",
       "    .dataframe tbody tr th:only-of-type {\n",
       "        vertical-align: middle;\n",
       "    }\n",
       "\n",
       "    .dataframe tbody tr th {\n",
       "        vertical-align: top;\n",
       "    }\n",
       "\n",
       "    .dataframe thead th {\n",
       "        text-align: right;\n",
       "    }\n",
       "</style>\n",
       "<table border=\"1\" class=\"dataframe\">\n",
       "  <thead>\n",
       "    <tr style=\"text-align: right;\">\n",
       "      <th></th>\n",
       "      <th>id</th>\n",
       "      <th>price</th>\n",
       "      <th>bedrooms</th>\n",
       "      <th>bathrooms</th>\n",
       "      <th>sqft_living</th>\n",
       "      <th>sqft_lot</th>\n",
       "      <th>floors</th>\n",
       "      <th>waterfront</th>\n",
       "      <th>view</th>\n",
       "      <th>condition</th>\n",
       "      <th>grade</th>\n",
       "      <th>sqft_above</th>\n",
       "      <th>yr_built</th>\n",
       "      <th>zipcode</th>\n",
       "      <th>lat</th>\n",
       "      <th>long</th>\n",
       "      <th>sqft_living15</th>\n",
       "      <th>sqft_lot15</th>\n",
       "    </tr>\n",
       "  </thead>\n",
       "  <tbody>\n",
       "    <tr>\n",
       "      <th>count</th>\n",
       "      <td>1.907500e+04</td>\n",
       "      <td>1.907500e+04</td>\n",
       "      <td>19074.000000</td>\n",
       "      <td>19075.000000</td>\n",
       "      <td>19075.000000</td>\n",
       "      <td>1.907500e+04</td>\n",
       "      <td>19075.000000</td>\n",
       "      <td>19075.0</td>\n",
       "      <td>19019.000000</td>\n",
       "      <td>19075.000000</td>\n",
       "      <td>19075.000000</td>\n",
       "      <td>19075.000000</td>\n",
       "      <td>19075.000000</td>\n",
       "      <td>19075.000000</td>\n",
       "      <td>19075.000000</td>\n",
       "      <td>19075.000000</td>\n",
       "      <td>19075.000000</td>\n",
       "      <td>19072.000000</td>\n",
       "    </tr>\n",
       "    <tr>\n",
       "      <th>mean</th>\n",
       "      <td>4.593352e+09</td>\n",
       "      <td>5.326420e+05</td>\n",
       "      <td>3.373283</td>\n",
       "      <td>2.112543</td>\n",
       "      <td>2073.524404</td>\n",
       "      <td>1.499112e+04</td>\n",
       "      <td>1.493997</td>\n",
       "      <td>0.0</td>\n",
       "      <td>0.203954</td>\n",
       "      <td>3.408965</td>\n",
       "      <td>7.652058</td>\n",
       "      <td>1785.875125</td>\n",
       "      <td>1971.106841</td>\n",
       "      <td>98077.591140</td>\n",
       "      <td>47.560078</td>\n",
       "      <td>-122.213552</td>\n",
       "      <td>1982.052949</td>\n",
       "      <td>12611.419883</td>\n",
       "    </tr>\n",
       "    <tr>\n",
       "      <th>std</th>\n",
       "      <td>2.877189e+09</td>\n",
       "      <td>3.449592e+05</td>\n",
       "      <td>0.902010</td>\n",
       "      <td>0.764537</td>\n",
       "      <td>909.083746</td>\n",
       "      <td>4.077700e+04</td>\n",
       "      <td>0.539980</td>\n",
       "      <td>0.0</td>\n",
       "      <td>0.698385</td>\n",
       "      <td>0.649431</td>\n",
       "      <td>1.165675</td>\n",
       "      <td>824.965911</td>\n",
       "      <td>29.391929</td>\n",
       "      <td>53.373727</td>\n",
       "      <td>0.138857</td>\n",
       "      <td>0.140740</td>\n",
       "      <td>680.982492</td>\n",
       "      <td>25877.600907</td>\n",
       "    </tr>\n",
       "    <tr>\n",
       "      <th>min</th>\n",
       "      <td>1.000102e+06</td>\n",
       "      <td>7.800000e+04</td>\n",
       "      <td>1.000000</td>\n",
       "      <td>0.500000</td>\n",
       "      <td>370.000000</td>\n",
       "      <td>5.200000e+02</td>\n",
       "      <td>1.000000</td>\n",
       "      <td>0.0</td>\n",
       "      <td>0.000000</td>\n",
       "      <td>1.000000</td>\n",
       "      <td>3.000000</td>\n",
       "      <td>370.000000</td>\n",
       "      <td>1900.000000</td>\n",
       "      <td>98001.000000</td>\n",
       "      <td>47.155900</td>\n",
       "      <td>-122.519000</td>\n",
       "      <td>399.000000</td>\n",
       "      <td>651.000000</td>\n",
       "    </tr>\n",
       "    <tr>\n",
       "      <th>25%</th>\n",
       "      <td>2.124079e+09</td>\n",
       "      <td>3.200000e+05</td>\n",
       "      <td>3.000000</td>\n",
       "      <td>1.750000</td>\n",
       "      <td>1420.000000</td>\n",
       "      <td>5.036500e+03</td>\n",
       "      <td>1.000000</td>\n",
       "      <td>0.0</td>\n",
       "      <td>0.000000</td>\n",
       "      <td>3.000000</td>\n",
       "      <td>7.000000</td>\n",
       "      <td>1190.000000</td>\n",
       "      <td>1952.000000</td>\n",
       "      <td>98032.000000</td>\n",
       "      <td>47.471200</td>\n",
       "      <td>-122.328000</td>\n",
       "      <td>1490.000000</td>\n",
       "      <td>5100.000000</td>\n",
       "    </tr>\n",
       "    <tr>\n",
       "      <th>50%</th>\n",
       "      <td>3.905081e+09</td>\n",
       "      <td>4.500000e+05</td>\n",
       "      <td>3.000000</td>\n",
       "      <td>2.250000</td>\n",
       "      <td>1910.000000</td>\n",
       "      <td>7.589000e+03</td>\n",
       "      <td>1.500000</td>\n",
       "      <td>0.0</td>\n",
       "      <td>0.000000</td>\n",
       "      <td>3.000000</td>\n",
       "      <td>7.000000</td>\n",
       "      <td>1560.000000</td>\n",
       "      <td>1975.000000</td>\n",
       "      <td>98065.000000</td>\n",
       "      <td>47.572200</td>\n",
       "      <td>-122.230000</td>\n",
       "      <td>1840.000000</td>\n",
       "      <td>7600.000000</td>\n",
       "    </tr>\n",
       "    <tr>\n",
       "      <th>75%</th>\n",
       "      <td>7.334401e+09</td>\n",
       "      <td>6.386000e+05</td>\n",
       "      <td>4.000000</td>\n",
       "      <td>2.500000</td>\n",
       "      <td>2540.000000</td>\n",
       "      <td>1.058400e+04</td>\n",
       "      <td>2.000000</td>\n",
       "      <td>0.0</td>\n",
       "      <td>0.000000</td>\n",
       "      <td>4.000000</td>\n",
       "      <td>8.000000</td>\n",
       "      <td>2210.000000</td>\n",
       "      <td>1997.000000</td>\n",
       "      <td>98117.000000</td>\n",
       "      <td>47.678200</td>\n",
       "      <td>-122.125000</td>\n",
       "      <td>2350.000000</td>\n",
       "      <td>10029.250000</td>\n",
       "    </tr>\n",
       "    <tr>\n",
       "      <th>max</th>\n",
       "      <td>9.900000e+09</td>\n",
       "      <td>7.700000e+06</td>\n",
       "      <td>11.000000</td>\n",
       "      <td>8.000000</td>\n",
       "      <td>13540.000000</td>\n",
       "      <td>1.651359e+06</td>\n",
       "      <td>3.500000</td>\n",
       "      <td>0.0</td>\n",
       "      <td>4.000000</td>\n",
       "      <td>5.000000</td>\n",
       "      <td>13.000000</td>\n",
       "      <td>9410.000000</td>\n",
       "      <td>2015.000000</td>\n",
       "      <td>98199.000000</td>\n",
       "      <td>47.777600</td>\n",
       "      <td>-121.315000</td>\n",
       "      <td>6210.000000</td>\n",
       "      <td>438213.000000</td>\n",
       "    </tr>\n",
       "  </tbody>\n",
       "</table>\n",
       "</div>"
      ],
      "text/plain": [
       "                 id         price      bedrooms     bathrooms   sqft_living  \\\n",
       "count  1.907500e+04  1.907500e+04  19074.000000  19075.000000  19075.000000   \n",
       "mean   4.593352e+09  5.326420e+05      3.373283      2.112543   2073.524404   \n",
       "std    2.877189e+09  3.449592e+05      0.902010      0.764537    909.083746   \n",
       "min    1.000102e+06  7.800000e+04      1.000000      0.500000    370.000000   \n",
       "25%    2.124079e+09  3.200000e+05      3.000000      1.750000   1420.000000   \n",
       "50%    3.905081e+09  4.500000e+05      3.000000      2.250000   1910.000000   \n",
       "75%    7.334401e+09  6.386000e+05      4.000000      2.500000   2540.000000   \n",
       "max    9.900000e+09  7.700000e+06     11.000000      8.000000  13540.000000   \n",
       "\n",
       "           sqft_lot        floors  waterfront          view     condition  \\\n",
       "count  1.907500e+04  19075.000000     19075.0  19019.000000  19075.000000   \n",
       "mean   1.499112e+04      1.493997         0.0      0.203954      3.408965   \n",
       "std    4.077700e+04      0.539980         0.0      0.698385      0.649431   \n",
       "min    5.200000e+02      1.000000         0.0      0.000000      1.000000   \n",
       "25%    5.036500e+03      1.000000         0.0      0.000000      3.000000   \n",
       "50%    7.589000e+03      1.500000         0.0      0.000000      3.000000   \n",
       "75%    1.058400e+04      2.000000         0.0      0.000000      4.000000   \n",
       "max    1.651359e+06      3.500000         0.0      4.000000      5.000000   \n",
       "\n",
       "              grade    sqft_above      yr_built       zipcode           lat  \\\n",
       "count  19075.000000  19075.000000  19075.000000  19075.000000  19075.000000   \n",
       "mean       7.652058   1785.875125   1971.106841  98077.591140     47.560078   \n",
       "std        1.165675    824.965911     29.391929     53.373727      0.138857   \n",
       "min        3.000000    370.000000   1900.000000  98001.000000     47.155900   \n",
       "25%        7.000000   1190.000000   1952.000000  98032.000000     47.471200   \n",
       "50%        7.000000   1560.000000   1975.000000  98065.000000     47.572200   \n",
       "75%        8.000000   2210.000000   1997.000000  98117.000000     47.678200   \n",
       "max       13.000000   9410.000000   2015.000000  98199.000000     47.777600   \n",
       "\n",
       "               long  sqft_living15     sqft_lot15  \n",
       "count  19075.000000   19075.000000   19072.000000  \n",
       "mean    -122.213552    1982.052949   12611.419883  \n",
       "std        0.140740     680.982492   25877.600907  \n",
       "min     -122.519000     399.000000     651.000000  \n",
       "25%     -122.328000    1490.000000    5100.000000  \n",
       "50%     -122.230000    1840.000000    7600.000000  \n",
       "75%     -122.125000    2350.000000   10029.250000  \n",
       "max     -121.315000    6210.000000  438213.000000  "
      ]
     },
     "execution_count": 32,
     "metadata": {},
     "output_type": "execute_result"
    }
   ],
   "source": [
    "df_waterfront_c[df_waterfront_c.waterfront ==0].describe()"
   ]
  },
  {
   "cell_type": "code",
   "execution_count": 33,
   "metadata": {},
   "outputs": [
    {
     "data": {
      "text/html": [
       "<div>\n",
       "<style scoped>\n",
       "    .dataframe tbody tr th:only-of-type {\n",
       "        vertical-align: middle;\n",
       "    }\n",
       "\n",
       "    .dataframe tbody tr th {\n",
       "        vertical-align: top;\n",
       "    }\n",
       "\n",
       "    .dataframe thead th {\n",
       "        text-align: right;\n",
       "    }\n",
       "</style>\n",
       "<table border=\"1\" class=\"dataframe\">\n",
       "  <thead>\n",
       "    <tr style=\"text-align: right;\">\n",
       "      <th></th>\n",
       "      <th>id</th>\n",
       "      <th>price</th>\n",
       "      <th>bedrooms</th>\n",
       "      <th>bathrooms</th>\n",
       "      <th>sqft_living</th>\n",
       "      <th>sqft_lot</th>\n",
       "      <th>floors</th>\n",
       "      <th>waterfront</th>\n",
       "      <th>view</th>\n",
       "      <th>condition</th>\n",
       "      <th>grade</th>\n",
       "      <th>sqft_above</th>\n",
       "      <th>yr_built</th>\n",
       "      <th>zipcode</th>\n",
       "      <th>lat</th>\n",
       "      <th>long</th>\n",
       "      <th>sqft_living15</th>\n",
       "      <th>sqft_lot15</th>\n",
       "    </tr>\n",
       "  </thead>\n",
       "  <tbody>\n",
       "    <tr>\n",
       "      <th>count</th>\n",
       "      <td>1.460000e+02</td>\n",
       "      <td>1.460000e+02</td>\n",
       "      <td>146.000000</td>\n",
       "      <td>146.000000</td>\n",
       "      <td>146.000000</td>\n",
       "      <td>146.000000</td>\n",
       "      <td>146.000000</td>\n",
       "      <td>146.0</td>\n",
       "      <td>145.000000</td>\n",
       "      <td>146.000000</td>\n",
       "      <td>146.000000</td>\n",
       "      <td>146.000000</td>\n",
       "      <td>146.000000</td>\n",
       "      <td>146.000000</td>\n",
       "      <td>146.000000</td>\n",
       "      <td>146.000000</td>\n",
       "      <td>146.000000</td>\n",
       "      <td>146.000000</td>\n",
       "    </tr>\n",
       "    <tr>\n",
       "      <th>mean</th>\n",
       "      <td>4.454969e+09</td>\n",
       "      <td>1.717215e+06</td>\n",
       "      <td>3.349315</td>\n",
       "      <td>2.708904</td>\n",
       "      <td>3244.753425</td>\n",
       "      <td>25870.883562</td>\n",
       "      <td>1.630137</td>\n",
       "      <td>1.0</td>\n",
       "      <td>3.786207</td>\n",
       "      <td>3.541096</td>\n",
       "      <td>8.835616</td>\n",
       "      <td>2508.760274</td>\n",
       "      <td>1962.280822</td>\n",
       "      <td>98096.712329</td>\n",
       "      <td>47.539677</td>\n",
       "      <td>-122.278164</td>\n",
       "      <td>2682.828767</td>\n",
       "      <td>22893.698630</td>\n",
       "    </tr>\n",
       "    <tr>\n",
       "      <th>std</th>\n",
       "      <td>2.858045e+09</td>\n",
       "      <td>1.145385e+06</td>\n",
       "      <td>1.099169</td>\n",
       "      <td>1.121509</td>\n",
       "      <td>1652.134956</td>\n",
       "      <td>44629.075899</td>\n",
       "      <td>0.547895</td>\n",
       "      <td>0.0</td>\n",
       "      <td>0.555105</td>\n",
       "      <td>0.743957</td>\n",
       "      <td>1.781233</td>\n",
       "      <td>1283.720489</td>\n",
       "      <td>27.118576</td>\n",
       "      <td>60.599756</td>\n",
       "      <td>0.113744</td>\n",
       "      <td>0.123772</td>\n",
       "      <td>808.410448</td>\n",
       "      <td>23264.085993</td>\n",
       "    </tr>\n",
       "    <tr>\n",
       "      <th>min</th>\n",
       "      <td>1.210290e+08</td>\n",
       "      <td>2.850000e+05</td>\n",
       "      <td>1.000000</td>\n",
       "      <td>0.750000</td>\n",
       "      <td>440.000000</td>\n",
       "      <td>1989.000000</td>\n",
       "      <td>1.000000</td>\n",
       "      <td>1.0</td>\n",
       "      <td>1.000000</td>\n",
       "      <td>1.000000</td>\n",
       "      <td>5.000000</td>\n",
       "      <td>440.000000</td>\n",
       "      <td>1905.000000</td>\n",
       "      <td>98004.000000</td>\n",
       "      <td>47.327600</td>\n",
       "      <td>-122.514000</td>\n",
       "      <td>750.000000</td>\n",
       "      <td>3230.000000</td>\n",
       "    </tr>\n",
       "    <tr>\n",
       "      <th>25%</th>\n",
       "      <td>2.016369e+09</td>\n",
       "      <td>8.275000e+05</td>\n",
       "      <td>3.000000</td>\n",
       "      <td>1.812500</td>\n",
       "      <td>2082.500000</td>\n",
       "      <td>11692.250000</td>\n",
       "      <td>1.000000</td>\n",
       "      <td>1.0</td>\n",
       "      <td>4.000000</td>\n",
       "      <td>3.000000</td>\n",
       "      <td>8.000000</td>\n",
       "      <td>1565.000000</td>\n",
       "      <td>1941.250000</td>\n",
       "      <td>98040.000000</td>\n",
       "      <td>47.452550</td>\n",
       "      <td>-122.376000</td>\n",
       "      <td>2075.000000</td>\n",
       "      <td>11991.500000</td>\n",
       "    </tr>\n",
       "    <tr>\n",
       "      <th>50%</th>\n",
       "      <td>3.692780e+09</td>\n",
       "      <td>1.510000e+06</td>\n",
       "      <td>3.000000</td>\n",
       "      <td>2.500000</td>\n",
       "      <td>2900.000000</td>\n",
       "      <td>17730.500000</td>\n",
       "      <td>2.000000</td>\n",
       "      <td>1.0</td>\n",
       "      <td>4.000000</td>\n",
       "      <td>3.000000</td>\n",
       "      <td>9.000000</td>\n",
       "      <td>2200.000000</td>\n",
       "      <td>1959.500000</td>\n",
       "      <td>98075.000000</td>\n",
       "      <td>47.548150</td>\n",
       "      <td>-122.273500</td>\n",
       "      <td>2695.000000</td>\n",
       "      <td>16260.500000</td>\n",
       "    </tr>\n",
       "    <tr>\n",
       "      <th>75%</th>\n",
       "      <td>7.390450e+09</td>\n",
       "      <td>2.282500e+06</td>\n",
       "      <td>4.000000</td>\n",
       "      <td>3.250000</td>\n",
       "      <td>4117.500000</td>\n",
       "      <td>26692.500000</td>\n",
       "      <td>2.000000</td>\n",
       "      <td>1.0</td>\n",
       "      <td>4.000000</td>\n",
       "      <td>4.000000</td>\n",
       "      <td>10.000000</td>\n",
       "      <td>3220.000000</td>\n",
       "      <td>1984.750000</td>\n",
       "      <td>98155.000000</td>\n",
       "      <td>47.607550</td>\n",
       "      <td>-122.210000</td>\n",
       "      <td>3140.000000</td>\n",
       "      <td>24537.500000</td>\n",
       "    </tr>\n",
       "    <tr>\n",
       "      <th>max</th>\n",
       "      <td>9.808701e+09</td>\n",
       "      <td>7.060000e+06</td>\n",
       "      <td>6.000000</td>\n",
       "      <td>6.750000</td>\n",
       "      <td>10040.000000</td>\n",
       "      <td>505166.000000</td>\n",
       "      <td>3.000000</td>\n",
       "      <td>1.0</td>\n",
       "      <td>4.000000</td>\n",
       "      <td>5.000000</td>\n",
       "      <td>12.000000</td>\n",
       "      <td>7680.000000</td>\n",
       "      <td>2014.000000</td>\n",
       "      <td>98199.000000</td>\n",
       "      <td>47.772900</td>\n",
       "      <td>-122.059000</td>\n",
       "      <td>4913.000000</td>\n",
       "      <td>192268.000000</td>\n",
       "    </tr>\n",
       "  </tbody>\n",
       "</table>\n",
       "</div>"
      ],
      "text/plain": [
       "                 id         price    bedrooms   bathrooms   sqft_living  \\\n",
       "count  1.460000e+02  1.460000e+02  146.000000  146.000000    146.000000   \n",
       "mean   4.454969e+09  1.717215e+06    3.349315    2.708904   3244.753425   \n",
       "std    2.858045e+09  1.145385e+06    1.099169    1.121509   1652.134956   \n",
       "min    1.210290e+08  2.850000e+05    1.000000    0.750000    440.000000   \n",
       "25%    2.016369e+09  8.275000e+05    3.000000    1.812500   2082.500000   \n",
       "50%    3.692780e+09  1.510000e+06    3.000000    2.500000   2900.000000   \n",
       "75%    7.390450e+09  2.282500e+06    4.000000    3.250000   4117.500000   \n",
       "max    9.808701e+09  7.060000e+06    6.000000    6.750000  10040.000000   \n",
       "\n",
       "            sqft_lot      floors  waterfront        view   condition  \\\n",
       "count     146.000000  146.000000       146.0  145.000000  146.000000   \n",
       "mean    25870.883562    1.630137         1.0    3.786207    3.541096   \n",
       "std     44629.075899    0.547895         0.0    0.555105    0.743957   \n",
       "min      1989.000000    1.000000         1.0    1.000000    1.000000   \n",
       "25%     11692.250000    1.000000         1.0    4.000000    3.000000   \n",
       "50%     17730.500000    2.000000         1.0    4.000000    3.000000   \n",
       "75%     26692.500000    2.000000         1.0    4.000000    4.000000   \n",
       "max    505166.000000    3.000000         1.0    4.000000    5.000000   \n",
       "\n",
       "            grade   sqft_above     yr_built       zipcode         lat  \\\n",
       "count  146.000000   146.000000   146.000000    146.000000  146.000000   \n",
       "mean     8.835616  2508.760274  1962.280822  98096.712329   47.539677   \n",
       "std      1.781233  1283.720489    27.118576     60.599756    0.113744   \n",
       "min      5.000000   440.000000  1905.000000  98004.000000   47.327600   \n",
       "25%      8.000000  1565.000000  1941.250000  98040.000000   47.452550   \n",
       "50%      9.000000  2200.000000  1959.500000  98075.000000   47.548150   \n",
       "75%     10.000000  3220.000000  1984.750000  98155.000000   47.607550   \n",
       "max     12.000000  7680.000000  2014.000000  98199.000000   47.772900   \n",
       "\n",
       "             long  sqft_living15     sqft_lot15  \n",
       "count  146.000000     146.000000     146.000000  \n",
       "mean  -122.278164    2682.828767   22893.698630  \n",
       "std      0.123772     808.410448   23264.085993  \n",
       "min   -122.514000     750.000000    3230.000000  \n",
       "25%   -122.376000    2075.000000   11991.500000  \n",
       "50%   -122.273500    2695.000000   16260.500000  \n",
       "75%   -122.210000    3140.000000   24537.500000  \n",
       "max   -122.059000    4913.000000  192268.000000  "
      ]
     },
     "execution_count": 33,
     "metadata": {},
     "output_type": "execute_result"
    }
   ],
   "source": [
    "df_waterfront_c[df_waterfront_c.waterfront ==1].describe()"
   ]
  },
  {
   "cell_type": "markdown",
   "metadata": {},
   "source": [
    "Interestingly, we see that although there are few waterfront properties, they have higher view counts than the non-waterfront properties. Waterfront properties have higher grades, despite their conditions being roughly the same condition as nonwaterfront properties. The non-waterfront properties group has a very wide, skewed range of values, and even the max price of the nonwaterfront properties is higher than the waterfront proeprties. "
   ]
  },
  {
   "cell_type": "code",
   "execution_count": 34,
   "metadata": {},
   "outputs": [],
   "source": [
    "df = df.dropna(how = 'any')"
   ]
  },
  {
   "cell_type": "code",
   "execution_count": 35,
   "metadata": {},
   "outputs": [
    {
     "data": {
      "text/html": [
       "<div>\n",
       "<style scoped>\n",
       "    .dataframe tbody tr th:only-of-type {\n",
       "        vertical-align: middle;\n",
       "    }\n",
       "\n",
       "    .dataframe tbody tr th {\n",
       "        vertical-align: top;\n",
       "    }\n",
       "\n",
       "    .dataframe thead th {\n",
       "        text-align: right;\n",
       "    }\n",
       "</style>\n",
       "<table border=\"1\" class=\"dataframe\">\n",
       "  <thead>\n",
       "    <tr style=\"text-align: right;\">\n",
       "      <th></th>\n",
       "      <th>id</th>\n",
       "      <th>date</th>\n",
       "      <th>price</th>\n",
       "      <th>bedrooms</th>\n",
       "      <th>bathrooms</th>\n",
       "      <th>sqft_living</th>\n",
       "      <th>sqft_lot</th>\n",
       "      <th>floors</th>\n",
       "      <th>waterfront</th>\n",
       "      <th>view</th>\n",
       "      <th>condition</th>\n",
       "      <th>grade</th>\n",
       "      <th>sqft_above</th>\n",
       "      <th>sqft_basement</th>\n",
       "      <th>yr_built</th>\n",
       "      <th>zipcode</th>\n",
       "      <th>lat</th>\n",
       "      <th>long</th>\n",
       "      <th>sqft_living15</th>\n",
       "      <th>sqft_lot15</th>\n",
       "    </tr>\n",
       "  </thead>\n",
       "  <tbody>\n",
       "    <tr>\n",
       "      <th>1</th>\n",
       "      <td>6414100192</td>\n",
       "      <td>12/9/2014</td>\n",
       "      <td>538000.0</td>\n",
       "      <td>3.0</td>\n",
       "      <td>2.25</td>\n",
       "      <td>2570</td>\n",
       "      <td>7242</td>\n",
       "      <td>2.0</td>\n",
       "      <td>0.0</td>\n",
       "      <td>0.0</td>\n",
       "      <td>3</td>\n",
       "      <td>7</td>\n",
       "      <td>2170</td>\n",
       "      <td>400.0</td>\n",
       "      <td>1951</td>\n",
       "      <td>98125</td>\n",
       "      <td>47.7210</td>\n",
       "      <td>-122.319</td>\n",
       "      <td>1690</td>\n",
       "      <td>7639.0</td>\n",
       "    </tr>\n",
       "    <tr>\n",
       "      <th>2</th>\n",
       "      <td>5631500400</td>\n",
       "      <td>2/25/2015</td>\n",
       "      <td>180000.0</td>\n",
       "      <td>2.0</td>\n",
       "      <td>1.00</td>\n",
       "      <td>770</td>\n",
       "      <td>10000</td>\n",
       "      <td>1.0</td>\n",
       "      <td>0.0</td>\n",
       "      <td>0.0</td>\n",
       "      <td>3</td>\n",
       "      <td>6</td>\n",
       "      <td>770</td>\n",
       "      <td>0.0</td>\n",
       "      <td>1933</td>\n",
       "      <td>98028</td>\n",
       "      <td>47.7379</td>\n",
       "      <td>-122.233</td>\n",
       "      <td>2720</td>\n",
       "      <td>8062.0</td>\n",
       "    </tr>\n",
       "    <tr>\n",
       "      <th>3</th>\n",
       "      <td>2487200875</td>\n",
       "      <td>12/9/2014</td>\n",
       "      <td>604000.0</td>\n",
       "      <td>4.0</td>\n",
       "      <td>3.00</td>\n",
       "      <td>1960</td>\n",
       "      <td>5000</td>\n",
       "      <td>1.0</td>\n",
       "      <td>0.0</td>\n",
       "      <td>0.0</td>\n",
       "      <td>5</td>\n",
       "      <td>7</td>\n",
       "      <td>1050</td>\n",
       "      <td>910.0</td>\n",
       "      <td>1965</td>\n",
       "      <td>98136</td>\n",
       "      <td>47.5208</td>\n",
       "      <td>-122.393</td>\n",
       "      <td>1360</td>\n",
       "      <td>5000.0</td>\n",
       "    </tr>\n",
       "    <tr>\n",
       "      <th>4</th>\n",
       "      <td>1954400510</td>\n",
       "      <td>2/18/2015</td>\n",
       "      <td>510000.0</td>\n",
       "      <td>3.0</td>\n",
       "      <td>2.00</td>\n",
       "      <td>1680</td>\n",
       "      <td>8080</td>\n",
       "      <td>1.0</td>\n",
       "      <td>0.0</td>\n",
       "      <td>0.0</td>\n",
       "      <td>3</td>\n",
       "      <td>8</td>\n",
       "      <td>1680</td>\n",
       "      <td>0.0</td>\n",
       "      <td>1987</td>\n",
       "      <td>98074</td>\n",
       "      <td>47.6168</td>\n",
       "      <td>-122.045</td>\n",
       "      <td>1800</td>\n",
       "      <td>7503.0</td>\n",
       "    </tr>\n",
       "    <tr>\n",
       "      <th>5</th>\n",
       "      <td>7237550310</td>\n",
       "      <td>5/12/2014</td>\n",
       "      <td>1230000.0</td>\n",
       "      <td>4.0</td>\n",
       "      <td>4.50</td>\n",
       "      <td>5420</td>\n",
       "      <td>101930</td>\n",
       "      <td>1.0</td>\n",
       "      <td>0.0</td>\n",
       "      <td>0.0</td>\n",
       "      <td>3</td>\n",
       "      <td>11</td>\n",
       "      <td>3890</td>\n",
       "      <td>1530.0</td>\n",
       "      <td>2001</td>\n",
       "      <td>98053</td>\n",
       "      <td>47.6561</td>\n",
       "      <td>-122.005</td>\n",
       "      <td>4760</td>\n",
       "      <td>101930.0</td>\n",
       "    </tr>\n",
       "  </tbody>\n",
       "</table>\n",
       "</div>"
      ],
      "text/plain": [
       "           id       date      price  bedrooms  bathrooms  sqft_living  \\\n",
       "1  6414100192  12/9/2014   538000.0       3.0       2.25         2570   \n",
       "2  5631500400  2/25/2015   180000.0       2.0       1.00          770   \n",
       "3  2487200875  12/9/2014   604000.0       4.0       3.00         1960   \n",
       "4  1954400510  2/18/2015   510000.0       3.0       2.00         1680   \n",
       "5  7237550310  5/12/2014  1230000.0       4.0       4.50         5420   \n",
       "\n",
       "   sqft_lot  floors  waterfront  view  condition  grade  sqft_above  \\\n",
       "1      7242     2.0         0.0   0.0          3      7        2170   \n",
       "2     10000     1.0         0.0   0.0          3      6         770   \n",
       "3      5000     1.0         0.0   0.0          5      7        1050   \n",
       "4      8080     1.0         0.0   0.0          3      8        1680   \n",
       "5    101930     1.0         0.0   0.0          3     11        3890   \n",
       "\n",
       "  sqft_basement  yr_built  zipcode      lat     long  sqft_living15  \\\n",
       "1         400.0      1951    98125  47.7210 -122.319           1690   \n",
       "2           0.0      1933    98028  47.7379 -122.233           2720   \n",
       "3         910.0      1965    98136  47.5208 -122.393           1360   \n",
       "4           0.0      1987    98074  47.6168 -122.045           1800   \n",
       "5        1530.0      2001    98053  47.6561 -122.005           4760   \n",
       "\n",
       "   sqft_lot15  \n",
       "1      7639.0  \n",
       "2      8062.0  \n",
       "3      5000.0  \n",
       "4      7503.0  \n",
       "5    101930.0  "
      ]
     },
     "execution_count": 35,
     "metadata": {},
     "output_type": "execute_result"
    }
   ],
   "source": [
    "df.head()"
   ]
  },
  {
   "cell_type": "code",
   "execution_count": 36,
   "metadata": {},
   "outputs": [
    {
     "name": "stdout",
     "output_type": "stream",
     "text": [
      "<class 'pandas.core.frame.DataFrame'>\n",
      "Int64Index: 19160 entries, 1 to 21596\n",
      "Data columns (total 20 columns):\n",
      "id               19160 non-null int64\n",
      "date             19160 non-null object\n",
      "price            19160 non-null float64\n",
      "bedrooms         19160 non-null float64\n",
      "bathrooms        19160 non-null float64\n",
      "sqft_living      19160 non-null int64\n",
      "sqft_lot         19160 non-null int64\n",
      "floors           19160 non-null float64\n",
      "waterfront       19160 non-null float64\n",
      "view             19160 non-null float64\n",
      "condition        19160 non-null int64\n",
      "grade            19160 non-null int64\n",
      "sqft_above       19160 non-null int64\n",
      "sqft_basement    19160 non-null object\n",
      "yr_built         19160 non-null int64\n",
      "zipcode          19160 non-null int64\n",
      "lat              19160 non-null float64\n",
      "long             19160 non-null float64\n",
      "sqft_living15    19160 non-null int64\n",
      "sqft_lot15       19160 non-null float64\n",
      "dtypes: float64(9), int64(9), object(2)\n",
      "memory usage: 3.1+ MB\n"
     ]
    }
   ],
   "source": [
    "df.info()"
   ]
  },
  {
   "cell_type": "markdown",
   "metadata": {},
   "source": [
    "I have dropped the NaN rows from the waterfont category, which still leaves us with almost 19,000 data points."
   ]
  },
  {
   "cell_type": "markdown",
   "metadata": {},
   "source": [
    "## Exploring the Data"
   ]
  },
  {
   "cell_type": "markdown",
   "metadata": {},
   "source": [
    "#### How are housing prices distributed?"
   ]
  },
  {
   "cell_type": "code",
   "execution_count": 37,
   "metadata": {},
   "outputs": [
    {
     "data": {
      "text/plain": [
       "count    1.916000e+04\n",
       "mean     5.413549e+05\n",
       "std      3.708447e+05\n",
       "min      7.800000e+04\n",
       "25%      3.220000e+05\n",
       "50%      4.500000e+05\n",
       "75%      6.435000e+05\n",
       "max      7.700000e+06\n",
       "Name: price, dtype: float64"
      ]
     },
     "execution_count": 37,
     "metadata": {},
     "output_type": "execute_result"
    }
   ],
   "source": [
    "df['price'].describe()"
   ]
  },
  {
   "cell_type": "code",
   "execution_count": 38,
   "metadata": {},
   "outputs": [
    {
     "data": {
      "text/plain": [
       "(450000.0, 0    450000.0\n",
       " dtype: float64)"
      ]
     },
     "execution_count": 38,
     "metadata": {},
     "output_type": "execute_result"
    }
   ],
   "source": [
    "df['price'].median(), df['price'].mode()"
   ]
  },
  {
   "cell_type": "markdown",
   "metadata": {},
   "source": [
    "The mean price is around 540,000 USD whereas the median and mode are 450,000 USD. Because the mean is much higher than the median and mode, we can say the price has positive skewness. There are houses being sold for higher-than-average value. Looking at the distribution will help us better understand the physical shape of the price data."
   ]
  },
  {
   "cell_type": "code",
   "execution_count": 39,
   "metadata": {},
   "outputs": [
    {
     "data": {
      "text/plain": [
       "<matplotlib.axes._subplots.AxesSubplot at 0x1d843c7b4a8>"
      ]
     },
     "execution_count": 39,
     "metadata": {},
     "output_type": "execute_result"
    },
    {
     "data": {
      "image/png": "[encoded data removed]",
      "text/plain": [
       "<Figure size 432x288 with 1 Axes>"
      ]
     },
     "metadata": {
      "needs_background": "light"
     },
     "output_type": "display_data"
    }
   ],
   "source": [
    "sns.distplot(df['price'])"
   ]
  },
  {
   "cell_type": "markdown",
   "metadata": {},
   "source": [
    "Leptokurtic distributions are characterized by tall, skinny vertical columns and long tails. At a glance, the prices appear to be leptokurtic, which indicates an excess of extreme values. "
   ]
  },
  {
   "cell_type": "code",
   "execution_count": 40,
   "metadata": {},
   "outputs": [
    {
     "data": {
      "text/plain": [
       "(4.08295015772734, 35.323499800097636)"
      ]
     },
     "execution_count": 40,
     "metadata": {},
     "output_type": "execute_result"
    }
   ],
   "source": [
    "skew(df['price']), kurtosis(df['price'])"
   ]
  },
  {
   "cell_type": "markdown",
   "metadata": {},
   "source": [
    "Skewness is a measure of asymmetry. Ideally, skewness would be near zero and indicate a normal distribution (\"bell curve\"). Our skewness it 4.1, which is rather high. Kurtosis measures the \"peak-ness\" of our distribution. Ideal kurtosis is around 3. Our kurtosis is 35.6. The graph is skewed so far as to have an extreme peak. This can be fixed with scaling and normalization, but before I do any normalizing, I would like to check correlations between features in the current data set. "
   ]
  },
  {
   "cell_type": "markdown",
   "metadata": {},
   "source": [
    "#### How are the features related to one another?"
   ]
  },
  {
   "cell_type": "code",
   "execution_count": 41,
   "metadata": {},
   "outputs": [
    {
     "data": {
      "image/png": "[encoded data removed]",
      "text/plain": [
       "<Figure size 1080x720 with 2 Axes>"
      ]
     },
     "metadata": {
      "needs_background": "light"
     },
     "output_type": "display_data"
    }
   ],
   "source": [
    "correlation_heatmap(df)"
   ]
  },
  {
   "cell_type": "code",
   "execution_count": 42,
   "metadata": {},
   "outputs": [],
   "source": [
    "# encode the categorical variables\n",
    "lb_make = LabelEncoder() # call sklearns's encoder function\n",
    "condition_encoded = lb_make.fit_transform(df['condition'])\n",
    "waterfront_encoded = lb_make.fit_transform(df['waterfront'])"
   ]
  },
  {
   "cell_type": "markdown",
   "metadata": {},
   "source": [
    "Perfect correlation would be \"1\" and would show that the values are perfectly matched. There is a high correlation (0.7) between price and the square footage of the house.  The next highest correlations are with grade (0.67), square footage of the above ground space (0.61) and square footage of the house in 2015-- after renovations (0.58). It bears repeating that correlation is not the same as causation. We cannot say for certain that manipulating one of these features will affect the price, but we can explore the relationship."
   ]
  },
  {
   "cell_type": "markdown",
   "metadata": {},
   "source": [
    "### Normalizing the Values"
   ]
  },
  {
   "cell_type": "code",
   "execution_count": 43,
   "metadata": {},
   "outputs": [
    {
     "data": {
      "text/plain": [
       "(0.5217350578595826, 1.312363307648389)"
      ]
     },
     "execution_count": 43,
     "metadata": {},
     "output_type": "execute_result"
    },
    {
     "data": {
      "image/png": "[encoded data removed]",
      "text/plain": [
       "<Figure size 432x288 with 1 Axes>"
      ]
     },
     "metadata": {
      "needs_background": "light"
     },
     "output_type": "display_data"
    }
   ],
   "source": [
    "sns.distplot(df['bathrooms'])\n",
    "skew(df['bathrooms']), kurtosis(df['bathrooms'])"
   ]
  },
  {
   "cell_type": "code",
   "execution_count": 44,
   "metadata": {},
   "outputs": [
    {
     "data": {
      "text/plain": [
       "(1.5006209047946872, 5.5482902921181605)"
      ]
     },
     "execution_count": 44,
     "metadata": {},
     "output_type": "execute_result"
    },
    {
     "data": {
      "image/png": "[encoded data removed]",
      "text/plain": [
       "<Figure size 432x288 with 1 Axes>"
      ]
     },
     "metadata": {
      "needs_background": "light"
     },
     "output_type": "display_data"
    }
   ],
   "source": [
    "sns.distplot(df['sqft_living'])\n",
    "skew(df['sqft_living']), kurtosis(df['sqft_living'])"
   ]
  },
  {
   "cell_type": "code",
   "execution_count": 45,
   "metadata": {},
   "outputs": [
    {
     "data": {
      "text/plain": [
       "(1.452066354292166, 3.4742414018306427)"
      ]
     },
     "execution_count": 45,
     "metadata": {},
     "output_type": "execute_result"
    },
    {
     "data": {
      "image/png": "[encoded data removed]",
      "text/plain": [
       "<Figure size 432x288 with 1 Axes>"
      ]
     },
     "metadata": {
      "needs_background": "light"
     },
     "output_type": "display_data"
    }
   ],
   "source": [
    "sns.distplot(df['sqft_above'])\n",
    "skew(df['sqft_above']), kurtosis(df['sqft_above'])"
   ]
  },
  {
   "cell_type": "code",
   "execution_count": 46,
   "metadata": {},
   "outputs": [
    {
     "data": {
      "text/plain": [
       "(0.7934660416702908, 1.1612069469609425)"
      ]
     },
     "execution_count": 46,
     "metadata": {},
     "output_type": "execute_result"
    },
    {
     "data": {
      "image/png": "[encoded data removed]",
      "text/plain": [
       "<Figure size 432x288 with 1 Axes>"
      ]
     },
     "metadata": {
      "needs_background": "light"
     },
     "output_type": "display_data"
    }
   ],
   "source": [
    "sns.distplot(df['grade'])\n",
    "skew(df['grade']), kurtosis(df['grade'])"
   ]
  },
  {
   "cell_type": "markdown",
   "metadata": {},
   "source": [
    "These distribution plots show us that while the grade and number of bathrooms have fairly symmetrical distributions, the square footage distributions are highly skewed. All of the graphs have unnacceptable kurtosis numbers except the square footage of the above ground living space. Normalizing these features will create more even distributions for comparison. "
   ]
  },
  {
   "cell_type": "code",
   "execution_count": 47,
   "metadata": {},
   "outputs": [],
   "source": [
    "# normalizing and scaling the values and saving them to a new DataFrame\n",
    "df_normal = pd.DataFrame([])\n",
    "df_normal['bathrooms_norm'] = np.log(df['bathrooms'])\n",
    "df_normal['sqft_living_norm'] = np.log(df['sqft_living'])\n",
    "df_normal['sqft_above_norm'] = np.log(df['sqft_above'])\n",
    "df_normal['grade_norm'] = np.log(df['grade'])"
   ]
  },
  {
   "cell_type": "code",
   "execution_count": 48,
   "metadata": {},
   "outputs": [],
   "source": [
    "df_normal['price']= df['price']"
   ]
  },
  {
   "cell_type": "code",
   "execution_count": 49,
   "metadata": {},
   "outputs": [
    {
     "data": {
      "text/plain": [
       "<matplotlib.axes._subplots.AxesSubplot at 0x1d8458f57f0>"
      ]
     },
     "execution_count": 49,
     "metadata": {},
     "output_type": "execute_result"
    },
    {
     "data": {
      "image/png": "[encoded data removed]",
      "text/plain": [
       "<Figure size 432x288 with 1 Axes>"
      ]
     },
     "metadata": {
      "needs_background": "light"
     },
     "output_type": "display_data"
    }
   ],
   "source": [
    "# looking at the new, normalized distribution.\n",
    "sns.distplot(df_normal['sqft_living_norm'])"
   ]
  },
  {
   "cell_type": "markdown",
   "metadata": {},
   "source": [
    "In order to normalize the features, I did a log transform."
   ]
  },
  {
   "cell_type": "code",
   "execution_count": 50,
   "metadata": {},
   "outputs": [
    {
     "data": {
      "text/html": [
       "<div>\n",
       "<style scoped>\n",
       "    .dataframe tbody tr th:only-of-type {\n",
       "        vertical-align: middle;\n",
       "    }\n",
       "\n",
       "    .dataframe tbody tr th {\n",
       "        vertical-align: top;\n",
       "    }\n",
       "\n",
       "    .dataframe thead th {\n",
       "        text-align: right;\n",
       "    }\n",
       "</style>\n",
       "<table border=\"1\" class=\"dataframe\">\n",
       "  <thead>\n",
       "    <tr style=\"text-align: right;\">\n",
       "      <th></th>\n",
       "      <th>bathrooms_norm</th>\n",
       "      <th>sqft_living_norm</th>\n",
       "      <th>sqft_above_norm</th>\n",
       "      <th>grade_norm</th>\n",
       "      <th>price</th>\n",
       "    </tr>\n",
       "  </thead>\n",
       "  <tbody>\n",
       "    <tr>\n",
       "      <th>1</th>\n",
       "      <td>0.810930</td>\n",
       "      <td>7.851661</td>\n",
       "      <td>7.682482</td>\n",
       "      <td>1.945910</td>\n",
       "      <td>538000.0</td>\n",
       "    </tr>\n",
       "    <tr>\n",
       "      <th>2</th>\n",
       "      <td>0.000000</td>\n",
       "      <td>6.646391</td>\n",
       "      <td>6.646391</td>\n",
       "      <td>1.791759</td>\n",
       "      <td>180000.0</td>\n",
       "    </tr>\n",
       "    <tr>\n",
       "      <th>3</th>\n",
       "      <td>1.098612</td>\n",
       "      <td>7.580700</td>\n",
       "      <td>6.956545</td>\n",
       "      <td>1.945910</td>\n",
       "      <td>604000.0</td>\n",
       "    </tr>\n",
       "    <tr>\n",
       "      <th>4</th>\n",
       "      <td>0.693147</td>\n",
       "      <td>7.426549</td>\n",
       "      <td>7.426549</td>\n",
       "      <td>2.079442</td>\n",
       "      <td>510000.0</td>\n",
       "    </tr>\n",
       "    <tr>\n",
       "      <th>5</th>\n",
       "      <td>1.504077</td>\n",
       "      <td>8.597851</td>\n",
       "      <td>8.266164</td>\n",
       "      <td>2.397895</td>\n",
       "      <td>1230000.0</td>\n",
       "    </tr>\n",
       "  </tbody>\n",
       "</table>\n",
       "</div>"
      ],
      "text/plain": [
       "   bathrooms_norm  sqft_living_norm  sqft_above_norm  grade_norm      price\n",
       "1        0.810930          7.851661         7.682482    1.945910   538000.0\n",
       "2        0.000000          6.646391         6.646391    1.791759   180000.0\n",
       "3        1.098612          7.580700         6.956545    1.945910   604000.0\n",
       "4        0.693147          7.426549         7.426549    2.079442   510000.0\n",
       "5        1.504077          8.597851         8.266164    2.397895  1230000.0"
      ]
     },
     "execution_count": 50,
     "metadata": {},
     "output_type": "execute_result"
    }
   ],
   "source": [
    "df_normal.head()"
   ]
  },
  {
   "cell_type": "markdown",
   "metadata": {},
   "source": [
    "The .head() shows us out new dataframe. The .describe() shows what the numbers look like."
   ]
  },
  {
   "cell_type": "code",
   "execution_count": 51,
   "metadata": {},
   "outputs": [
    {
     "data": {
      "text/html": [
       "<div>\n",
       "<style scoped>\n",
       "    .dataframe tbody tr th:only-of-type {\n",
       "        vertical-align: middle;\n",
       "    }\n",
       "\n",
       "    .dataframe tbody tr th {\n",
       "        vertical-align: top;\n",
       "    }\n",
       "\n",
       "    .dataframe thead th {\n",
       "        text-align: right;\n",
       "    }\n",
       "</style>\n",
       "<table border=\"1\" class=\"dataframe\">\n",
       "  <thead>\n",
       "    <tr style=\"text-align: right;\">\n",
       "      <th></th>\n",
       "      <th>bathrooms_norm</th>\n",
       "      <th>sqft_living_norm</th>\n",
       "      <th>sqft_above_norm</th>\n",
       "      <th>grade_norm</th>\n",
       "      <th>price</th>\n",
       "    </tr>\n",
       "  </thead>\n",
       "  <tbody>\n",
       "    <tr>\n",
       "      <th>count</th>\n",
       "      <td>19160.000000</td>\n",
       "      <td>19160.000000</td>\n",
       "      <td>19160.000000</td>\n",
       "      <td>19160.000000</td>\n",
       "      <td>1.916000e+04</td>\n",
       "    </tr>\n",
       "    <tr>\n",
       "      <th>mean</th>\n",
       "      <td>0.678148</td>\n",
       "      <td>7.551046</td>\n",
       "      <td>7.396022</td>\n",
       "      <td>2.024739</td>\n",
       "      <td>5.413549e+05</td>\n",
       "    </tr>\n",
       "    <tr>\n",
       "      <th>std</th>\n",
       "      <td>0.392292</td>\n",
       "      <td>0.424871</td>\n",
       "      <td>0.428420</td>\n",
       "      <td>0.149511</td>\n",
       "      <td>3.708447e+05</td>\n",
       "    </tr>\n",
       "    <tr>\n",
       "      <th>min</th>\n",
       "      <td>-0.693147</td>\n",
       "      <td>5.913503</td>\n",
       "      <td>5.913503</td>\n",
       "      <td>1.098612</td>\n",
       "      <td>7.800000e+04</td>\n",
       "    </tr>\n",
       "    <tr>\n",
       "      <th>25%</th>\n",
       "      <td>0.559616</td>\n",
       "      <td>7.264905</td>\n",
       "      <td>7.090077</td>\n",
       "      <td>1.945910</td>\n",
       "      <td>3.220000e+05</td>\n",
       "    </tr>\n",
       "    <tr>\n",
       "      <th>50%</th>\n",
       "      <td>0.810930</td>\n",
       "      <td>7.558516</td>\n",
       "      <td>7.352441</td>\n",
       "      <td>1.945910</td>\n",
       "      <td>4.500000e+05</td>\n",
       "    </tr>\n",
       "    <tr>\n",
       "      <th>75%</th>\n",
       "      <td>0.916291</td>\n",
       "      <td>7.843849</td>\n",
       "      <td>7.701426</td>\n",
       "      <td>2.079442</td>\n",
       "      <td>6.435000e+05</td>\n",
       "    </tr>\n",
       "    <tr>\n",
       "      <th>max</th>\n",
       "      <td>2.079442</td>\n",
       "      <td>9.513404</td>\n",
       "      <td>9.149528</td>\n",
       "      <td>2.564949</td>\n",
       "      <td>7.700000e+06</td>\n",
       "    </tr>\n",
       "  </tbody>\n",
       "</table>\n",
       "</div>"
      ],
      "text/plain": [
       "       bathrooms_norm  sqft_living_norm  sqft_above_norm    grade_norm  \\\n",
       "count    19160.000000      19160.000000     19160.000000  19160.000000   \n",
       "mean         0.678148          7.551046         7.396022      2.024739   \n",
       "std          0.392292          0.424871         0.428420      0.149511   \n",
       "min         -0.693147          5.913503         5.913503      1.098612   \n",
       "25%          0.559616          7.264905         7.090077      1.945910   \n",
       "50%          0.810930          7.558516         7.352441      1.945910   \n",
       "75%          0.916291          7.843849         7.701426      2.079442   \n",
       "max          2.079442          9.513404         9.149528      2.564949   \n",
       "\n",
       "              price  \n",
       "count  1.916000e+04  \n",
       "mean   5.413549e+05  \n",
       "std    3.708447e+05  \n",
       "min    7.800000e+04  \n",
       "25%    3.220000e+05  \n",
       "50%    4.500000e+05  \n",
       "75%    6.435000e+05  \n",
       "max    7.700000e+06  "
      ]
     },
     "execution_count": 51,
     "metadata": {},
     "output_type": "execute_result"
    }
   ],
   "source": [
    "df_normal.describe()"
   ]
  },
  {
   "cell_type": "code",
   "execution_count": 52,
   "metadata": {},
   "outputs": [],
   "source": [
    "df_non_norm = pd.DataFrame() #creating a subset of features that have not been normalized for comparison\n",
    "df_non_norm['price'] = df['price']\n",
    "df_non_norm['bathrooms'] = df['bathrooms']\n",
    "df_non_norm['sqft_living'] = df['sqft_living']\n",
    "df_non_norm['sqft_above'] = df['sqft_above']\n",
    "df_non_norm['grade'] = df['grade']"
   ]
  },
  {
   "cell_type": "code",
   "execution_count": 53,
   "metadata": {},
   "outputs": [
    {
     "data": {
      "text/html": [
       "<div>\n",
       "<style scoped>\n",
       "    .dataframe tbody tr th:only-of-type {\n",
       "        vertical-align: middle;\n",
       "    }\n",
       "\n",
       "    .dataframe tbody tr th {\n",
       "        vertical-align: top;\n",
       "    }\n",
       "\n",
       "    .dataframe thead th {\n",
       "        text-align: right;\n",
       "    }\n",
       "</style>\n",
       "<table border=\"1\" class=\"dataframe\">\n",
       "  <thead>\n",
       "    <tr style=\"text-align: right;\">\n",
       "      <th></th>\n",
       "      <th>price</th>\n",
       "      <th>bathrooms</th>\n",
       "      <th>sqft_living</th>\n",
       "      <th>sqft_above</th>\n",
       "      <th>grade</th>\n",
       "    </tr>\n",
       "  </thead>\n",
       "  <tbody>\n",
       "    <tr>\n",
       "      <th>1</th>\n",
       "      <td>538000.0</td>\n",
       "      <td>2.25</td>\n",
       "      <td>2570</td>\n",
       "      <td>2170</td>\n",
       "      <td>7</td>\n",
       "    </tr>\n",
       "    <tr>\n",
       "      <th>2</th>\n",
       "      <td>180000.0</td>\n",
       "      <td>1.00</td>\n",
       "      <td>770</td>\n",
       "      <td>770</td>\n",
       "      <td>6</td>\n",
       "    </tr>\n",
       "    <tr>\n",
       "      <th>3</th>\n",
       "      <td>604000.0</td>\n",
       "      <td>3.00</td>\n",
       "      <td>1960</td>\n",
       "      <td>1050</td>\n",
       "      <td>7</td>\n",
       "    </tr>\n",
       "    <tr>\n",
       "      <th>4</th>\n",
       "      <td>510000.0</td>\n",
       "      <td>2.00</td>\n",
       "      <td>1680</td>\n",
       "      <td>1680</td>\n",
       "      <td>8</td>\n",
       "    </tr>\n",
       "    <tr>\n",
       "      <th>5</th>\n",
       "      <td>1230000.0</td>\n",
       "      <td>4.50</td>\n",
       "      <td>5420</td>\n",
       "      <td>3890</td>\n",
       "      <td>11</td>\n",
       "    </tr>\n",
       "  </tbody>\n",
       "</table>\n",
       "</div>"
      ],
      "text/plain": [
       "       price  bathrooms  sqft_living  sqft_above  grade\n",
       "1   538000.0       2.25         2570        2170      7\n",
       "2   180000.0       1.00          770         770      6\n",
       "3   604000.0       3.00         1960        1050      7\n",
       "4   510000.0       2.00         1680        1680      8\n",
       "5  1230000.0       4.50         5420        3890     11"
      ]
     },
     "execution_count": 53,
     "metadata": {},
     "output_type": "execute_result"
    }
   ],
   "source": [
    "df_non_norm.head()"
   ]
  },
  {
   "cell_type": "markdown",
   "metadata": {},
   "source": [
    "### Modeling the Data"
   ]
  },
  {
   "cell_type": "code",
   "execution_count": 54,
   "metadata": {},
   "outputs": [],
   "source": [
    "def quick_ols(DataFrame = None, target = None):  #formula to run ordinary least squares\n",
    "    col_names = DataFrame.describe().columns.drop([target])\n",
    "    results = [['ind_var', 'r_squared', 'intercept', 'slope', 'p-value' ]]\n",
    "    for idx, val in enumerate(col_names):\n",
    "        print (\"Housing: {}~\".format(target) + val)\n",
    "        print (\"------------------------------\")\n",
    "\n",
    "        f = '{}~'.format(target) + val\n",
    "        model = smf.ols(formula=f, data=DataFrame).fit()\n",
    "        X_new = pd.DataFrame({val: [DataFrame[val].min(), DataFrame[val].max()]});\n",
    "        preds = model.predict(X_new)\n",
    "        results.append([val, model.rsquared, model.params[0], model.params[1], model.pvalues[1] ])\n",
    "        print(results[idx+1])"
   ]
  },
  {
   "cell_type": "code",
   "execution_count": 55,
   "metadata": {},
   "outputs": [
    {
     "name": "stdout",
     "output_type": "stream",
     "text": [
      "Housing: price~bathrooms_norm\n",
      "------------------------------\n",
      "['bathrooms_norm', 0.20749808064282893, 249333.70104176019, 430616.05499114236, 0.0]\n",
      "Housing: price~sqft_living_norm\n",
      "------------------------------\n",
      "['sqft_living_norm', 0.37398067489050557, -3489216.710275594, 533776.5854349982, 0.0]\n",
      "Housing: price~sqft_above_norm\n",
      "------------------------------\n",
      "['sqft_above_norm', 0.2960874738143511, -2942259.946275293, 471011.96512074984, 0.0]\n",
      "Housing: price~grade_norm\n",
      "------------------------------\n",
      "['grade_norm', 0.4024734692620756, -2644727.958690854, 1573577.3904240336, 0.0]\n"
     ]
    }
   ],
   "source": [
    "quick_ols(df_normal, 'price')"
   ]
  },
  {
   "cell_type": "code",
   "execution_count": 56,
   "metadata": {},
   "outputs": [
    {
     "name": "stdout",
     "output_type": "stream",
     "text": [
      "Housing: price~bathrooms\n",
      "------------------------------\n",
      "['bathrooms', 0.27698740324833204, 3979.818217383072, 253867.57067719343, 0.0]\n",
      "Housing: price~sqft_living\n",
      "------------------------------\n",
      "['sqft_living', 0.4961301532336856, -48961.47713576021, 283.58503839715274, 0.0]\n",
      "Housing: price~sqft_above\n",
      "------------------------------\n",
      "['sqft_above', 0.3713624865725007, 54278.47076871602, 271.9459166134736, 0.0]\n",
      "Housing: price~grade\n",
      "------------------------------\n",
      "['grade', 0.4456923491844734, -1072559.9637921676, 210686.09798432887, 0.0]\n"
     ]
    }
   ],
   "source": [
    "quick_ols(df_non_norm, 'price')"
   ]
  },
  {
   "cell_type": "markdown",
   "metadata": {},
   "source": [
    "The above list of values are the result of Ordinary Least Squares regression. I used it as a way to quickly compare my features of interest. The object was to find the highest r-squared value and the lowest p-value. The results of these tests show that regardless of whether the data is normalized or not, the grade and the square footage of the living space have the highest impact on price. The non-normalized data, however, produced higher r-squared values. I would like to check what happens when I normalize the price."
   ]
  },
  {
   "cell_type": "code",
   "execution_count": 60,
   "metadata": {},
   "outputs": [],
   "source": [
    "df_non_norm['price_norm'] = np.log(df['price'])\n",
    "df_normal['price_norm'] = np.log(df['price'])"
   ]
  },
  {
   "cell_type": "code",
   "execution_count": 61,
   "metadata": {},
   "outputs": [
    {
     "name": "stdout",
     "output_type": "stream",
     "text": [
      "Housing: price_norm~bathrooms_norm\n",
      "------------------------------\n",
      "['bathrooms_norm', 0.2705205323803721, 12.575394362413416, 0.6988736583009274, 0.0]\n",
      "Housing: price_norm~sqft_living_norm\n",
      "------------------------------\n",
      "['sqft_living_norm', 0.4551047955077949, 6.729391012059571, 0.8369625451144838, 0.0]\n",
      "Housing: price_norm~sqft_above_norm\n",
      "------------------------------\n",
      "['sqft_above_norm', 0.3459406309272788, 7.697085141772652, 0.7236658650980751, 0.0]\n",
      "Housing: price_norm~grade_norm\n",
      "------------------------------\n",
      "['grade_norm', 0.4819559958101246, 8.093605233835863, 2.447589327314594, 0.0]\n",
      "Housing: price_norm~price\n",
      "------------------------------\n",
      "['price', 0.7931818779312635, 12.364028883802659, 1.2659069096902272e-06, 0.0]\n"
     ]
    }
   ],
   "source": [
    "quick_ols(df_normal, 'price_norm')"
   ]
  },
  {
   "cell_type": "code",
   "execution_count": 62,
   "metadata": {},
   "outputs": [
    {
     "name": "stdout",
     "output_type": "stream",
     "text": [
      "Housing: price_norm~price\n",
      "------------------------------\n",
      "['price', 0.7931818779312635, 12.364028883802659, 1.2659069096902272e-06, 0.0]\n",
      "Housing: price_norm~bathrooms\n",
      "------------------------------\n",
      "['bathrooms', 0.3042419974817111, 12.24881325420756, 0.3781831530721439, 0.0]\n",
      "Housing: price_norm~sqft_living\n",
      "------------------------------\n",
      "['sqft_living', 0.4850679221276267, 12.219667054866377, 0.00039856775397127995, 0.0]\n",
      "Housing: price_norm~sqft_above\n",
      "------------------------------\n",
      "['sqft_above', 0.36622720460583913, 12.361808340393338, 0.00038386119090928235, 0.0]\n",
      "Housing: price_norm~grade\n",
      "------------------------------\n",
      "['grade', 0.4962803057695674, 10.628628429557295, 0.31600735417382264, 0.0]\n"
     ]
    }
   ],
   "source": [
    "quick_ols(df_non_norm, 'price_norm')"
   ]
  },
  {
   "cell_type": "markdown",
   "metadata": {},
   "source": [
    "Once again, the non-normalized data just slightly edged out the normalized data set in terms of r-squared values."
   ]
  },
  {
   "cell_type": "code",
   "execution_count": 63,
   "metadata": {},
   "outputs": [
    {
     "data": {
      "text/html": [
       "<div>\n",
       "<style scoped>\n",
       "    .dataframe tbody tr th:only-of-type {\n",
       "        vertical-align: middle;\n",
       "    }\n",
       "\n",
       "    .dataframe tbody tr th {\n",
       "        vertical-align: top;\n",
       "    }\n",
       "\n",
       "    .dataframe thead th {\n",
       "        text-align: right;\n",
       "    }\n",
       "</style>\n",
       "<table border=\"1\" class=\"dataframe\">\n",
       "  <thead>\n",
       "    <tr style=\"text-align: right;\">\n",
       "      <th></th>\n",
       "      <th>sqft_living</th>\n",
       "      <th>grade</th>\n",
       "      <th>price_norm</th>\n",
       "    </tr>\n",
       "  </thead>\n",
       "  <tbody>\n",
       "    <tr>\n",
       "      <th>count</th>\n",
       "      <td>19160.000000</td>\n",
       "      <td>19160.000000</td>\n",
       "      <td>19160.000000</td>\n",
       "    </tr>\n",
       "    <tr>\n",
       "      <th>mean</th>\n",
       "      <td>2081.620407</td>\n",
       "      <td>7.660282</td>\n",
       "      <td>13.049334</td>\n",
       "    </tr>\n",
       "    <tr>\n",
       "      <th>std</th>\n",
       "      <td>921.099632</td>\n",
       "      <td>1.175097</td>\n",
       "      <td>0.527118</td>\n",
       "    </tr>\n",
       "    <tr>\n",
       "      <th>min</th>\n",
       "      <td>370.000000</td>\n",
       "      <td>3.000000</td>\n",
       "      <td>11.264464</td>\n",
       "    </tr>\n",
       "    <tr>\n",
       "      <th>25%</th>\n",
       "      <td>1429.250000</td>\n",
       "      <td>7.000000</td>\n",
       "      <td>12.682307</td>\n",
       "    </tr>\n",
       "    <tr>\n",
       "      <th>50%</th>\n",
       "      <td>1917.000000</td>\n",
       "      <td>7.000000</td>\n",
       "      <td>13.017003</td>\n",
       "    </tr>\n",
       "    <tr>\n",
       "      <th>75%</th>\n",
       "      <td>2550.000000</td>\n",
       "      <td>8.000000</td>\n",
       "      <td>13.374677</td>\n",
       "    </tr>\n",
       "    <tr>\n",
       "      <th>max</th>\n",
       "      <td>13540.000000</td>\n",
       "      <td>13.000000</td>\n",
       "      <td>15.856731</td>\n",
       "    </tr>\n",
       "  </tbody>\n",
       "</table>\n",
       "</div>"
      ],
      "text/plain": [
       "        sqft_living         grade    price_norm\n",
       "count  19160.000000  19160.000000  19160.000000\n",
       "mean    2081.620407      7.660282     13.049334\n",
       "std      921.099632      1.175097      0.527118\n",
       "min      370.000000      3.000000     11.264464\n",
       "25%     1429.250000      7.000000     12.682307\n",
       "50%     1917.000000      7.000000     13.017003\n",
       "75%     2550.000000      8.000000     13.374677\n",
       "max    13540.000000     13.000000     15.856731"
      ]
     },
     "execution_count": 63,
     "metadata": {},
     "output_type": "execute_result"
    }
   ],
   "source": [
    "df_final = df_non_norm.drop(['bathrooms', 'sqft_above', 'price'], axis = 1)\n",
    "df_final.describe()"
   ]
  },
  {
   "cell_type": "code",
   "execution_count": 64,
   "metadata": {},
   "outputs": [
    {
     "data": {
      "text/html": [
       "<div>\n",
       "<style scoped>\n",
       "    .dataframe tbody tr th:only-of-type {\n",
       "        vertical-align: middle;\n",
       "    }\n",
       "\n",
       "    .dataframe tbody tr th {\n",
       "        vertical-align: top;\n",
       "    }\n",
       "\n",
       "    .dataframe thead th {\n",
       "        text-align: right;\n",
       "    }\n",
       "</style>\n",
       "<table border=\"1\" class=\"dataframe\">\n",
       "  <thead>\n",
       "    <tr style=\"text-align: right;\">\n",
       "      <th></th>\n",
       "      <th>sqft_living</th>\n",
       "      <th>grade</th>\n",
       "    </tr>\n",
       "  </thead>\n",
       "  <tbody>\n",
       "    <tr>\n",
       "      <th>1</th>\n",
       "      <td>2570</td>\n",
       "      <td>7</td>\n",
       "    </tr>\n",
       "    <tr>\n",
       "      <th>2</th>\n",
       "      <td>770</td>\n",
       "      <td>6</td>\n",
       "    </tr>\n",
       "    <tr>\n",
       "      <th>3</th>\n",
       "      <td>1960</td>\n",
       "      <td>7</td>\n",
       "    </tr>\n",
       "    <tr>\n",
       "      <th>4</th>\n",
       "      <td>1680</td>\n",
       "      <td>8</td>\n",
       "    </tr>\n",
       "    <tr>\n",
       "      <th>5</th>\n",
       "      <td>5420</td>\n",
       "      <td>11</td>\n",
       "    </tr>\n",
       "  </tbody>\n",
       "</table>\n",
       "</div>"
      ],
      "text/plain": [
       "   sqft_living  grade\n",
       "1         2570      7\n",
       "2          770      6\n",
       "3         1960      7\n",
       "4         1680      8\n",
       "5         5420     11"
      ]
     },
     "execution_count": 64,
     "metadata": {},
     "output_type": "execute_result"
    }
   ],
   "source": [
    "y = df_final[['price_norm']]\n",
    "X = df_final.drop(['price_norm'], axis=1)\n",
    "X.head()"
   ]
  },
  {
   "cell_type": "code",
   "execution_count": 65,
   "metadata": {},
   "outputs": [
    {
     "name": "stdout",
     "output_type": "stream",
     "text": [
      "price_norm    0.55659\n",
      "dtype: float64\n",
      "price_norm    0.556544\n",
      "dtype: float64\n",
      "price_norm    0.55659\n",
      "dtype: float64\n",
      "price_norm    0.556544\n",
      "dtype: float64\n",
      "price_norm    0.55659\n",
      "dtype: float64\n",
      "price_norm    0.556544\n",
      "dtype: float64\n",
      "price_norm    0.55659\n",
      "dtype: float64\n",
      "price_norm    0.556544\n",
      "dtype: float64\n",
      "price_norm    0.55659\n",
      "dtype: float64\n",
      "price_norm    0.556544\n",
      "dtype: float64\n"
     ]
    }
   ],
   "source": [
    "linreg = LinearRegression()  # calling on an sklearn function\n",
    "r_list = []  # explain r:\n",
    "adj_r_list = [] # explain adjusted r: \n",
    "list_n = list(range(5,51,10))\n",
    "for n in list_n: \n",
    "    select_n = RFE(linreg, n_features_to_select = n)\n",
    "    select_n = select_n.fit(X, np.ravel(y))\n",
    "    selected_columns = X.columns[select_n.support_ ]\n",
    "    linreg.fit(X[selected_columns],y)\n",
    "    yhat = linreg.predict(X[selected_columns])\n",
    "    SS_Residual = np.sum((y-yhat)**2)\n",
    "    SS_Total = np.sum((y-np.mean(y))**2)\n",
    "    r_squared = 1 - (float(SS_Residual))/SS_Total\n",
    "    print(r_squared)\n",
    "    adjusted_r_squared = 1 - (1-r_squared)*(len(y)-1)/(len(y)-X.shape[1]-1)\n",
    "    print(adjusted_r_squared)\n",
    "r_list.append(r_squared)\n",
    "adj_r_list.append(adjusted_r_squared)\n"
   ]
  },
  {
   "cell_type": "markdown",
   "metadata": {},
   "source": [
    "stays the same-- explain"
   ]
  },
  {
   "cell_type": "code",
   "execution_count": 65,
   "metadata": {},
   "outputs": [
    {
     "name": "stdout",
     "output_type": "stream",
     "text": [
      "price_norm    0.121854\n",
      "dtype: float64\n",
      "price_norm    0.128983\n",
      "dtype: float64\n",
      "price_norm    0.121854\n",
      "dtype: float64\n",
      "price_norm    0.128983\n",
      "dtype: float64\n",
      "price_norm    0.121854\n",
      "dtype: float64\n",
      "price_norm    0.128983\n",
      "dtype: float64\n",
      "price_norm    0.121854\n",
      "dtype: float64\n",
      "price_norm    0.128983\n",
      "dtype: float64\n",
      "price_norm    0.121854\n",
      "dtype: float64\n",
      "price_norm    0.128983\n",
      "dtype: float64\n"
     ]
    }
   ],
   "source": [
    "X_train, X_test, y_train, y_test = train_test_split(X, y, test_size = 0.2, random_state=3)\n",
    "\n",
    "MSE_test = []\n",
    "MSE_train = []\n",
    "list_n = list(range(5,51,10))\n",
    "for n in list_n: \n",
    "    select_n = RFE(linreg, n_features_to_select = n)\n",
    "    select_n = select_n.fit(X_train, np.ravel(y_train))\n",
    "    selected_columns = X.columns[select_n.support_ ]\n",
    "    linreg.fit(X_train[selected_columns],y_train)\n",
    "    yhat_train = linreg.predict(X_train[selected_columns])\n",
    "    yhat_test = linreg.predict(X_test[selected_columns])\n",
    "    mse_train = np.sum((y_train-yhat_train)**2)/len(y_train)\n",
    "    mse_test =np.sum((y_test-yhat_test)**2)/len(y_test)\n",
    "    print(mse_train)\n",
    "    print(mse_test)\n",
    "MSE_test.append(mse_test)\n",
    "MSE_train.append(mse_train)"
   ]
  },
  {
   "cell_type": "code",
   "execution_count": 66,
   "metadata": {},
   "outputs": [
    {
     "data": {
      "text/plain": [
       "array([-0.12992887, -0.13410476, -0.12690261, -0.1234566 , -0.12093407,\n",
       "       -0.12765041, -0.12594775, -0.13018151, -0.12877479, -0.08610485])"
      ]
     },
     "execution_count": 66,
     "metadata": {},
     "output_type": "execute_result"
    }
   ],
   "source": [
    "pred_50 = RFE(linreg, n_features_to_select = 85)\n",
    "pred_50 = select_n.fit(X, np.ravel(y))\n",
    "selected_columns = X.columns[select_n.support_]\n",
    "\n",
    "cv_10_results = cross_val_score(linreg, X[selected_columns], y, cv=10, scoring=\"neg_mean_squared_error\")\n",
    "\n",
    "cv_10_results"
   ]
  },
  {
   "cell_type": "code",
   "execution_count": 75,
   "metadata": {},
   "outputs": [
    {
     "name": "stdout",
     "output_type": "stream",
     "text": [
      "The r-value is 0.6968500556073738.\n"
     ]
    },
    {
     "data": {
      "image/png": "[encoded data removed]",
      "text/plain": [
       "<Figure size 432x288 with 1 Axes>"
      ]
     },
     "metadata": {
      "needs_background": "light"
     },
     "output_type": "display_data"
    }
   ],
   "source": [
    "sns.regplot(x=df_final['sqft_living'], y=df_final['price_norm'], ci=95)\n",
    "import math\n",
    "sqft_liv_r_val = math.sqrt(0.4856)\n",
    "print(\"The r-value is {}.\".format(sqft_liv_r_val))"
   ]
  },
  {
   "cell_type": "code",
   "execution_count": 76,
   "metadata": {},
   "outputs": [
    {
     "name": "stdout",
     "output_type": "stream",
     "text": [
      "The r-value is 0.7048404074682438.\n"
     ]
    },
    {
     "data": {
      "image/png": "[encoded data removed]",
      "text/plain": [
       "<Figure size 432x288 with 1 Axes>"
      ]
     },
     "metadata": {
      "needs_background": "light"
     },
     "output_type": "display_data"
    }
   ],
   "source": [
    "sns.regplot(x=df_final['grade'], y=df_final['price_norm'], ci=95)\n",
    "grade_r_val = math.sqrt(0.4968)\n",
    "print(\"The r-value is {}.\".format(grade_r_val))"
   ]
  }
 ],
 "metadata": {
  "kernelspec": {
   "display_name": "Python 3",
   "language": "python",
   "name": "python3"
  },
  "language_info": {
   "codemirror_mode": {
    "name": "ipython",
    "version": 3
   },
   "file_extension": ".py",
   "mimetype": "text/x-python",
   "name": "python",
   "nbconvert_exporter": "python",
   "pygments_lexer": "ipython3",
   "version": "3.6.6"
  }
 },
 "nbformat": 4,
 "nbformat_minor": 2
}
